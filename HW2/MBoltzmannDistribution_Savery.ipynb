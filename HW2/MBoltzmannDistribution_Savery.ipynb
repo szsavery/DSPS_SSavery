{
  "nbformat": 4,
  "nbformat_minor": 0,
  "metadata": {
    "colab": {
      "provenance": [],
      "include_colab_link": true
    },
    "kernelspec": {
      "display_name": "Python 3",
      "language": "python",
      "name": "python3"
    },
    "language_info": {
      "codemirror_mode": {
        "name": "ipython",
        "version": 3
      },
      "file_extension": ".py",
      "mimetype": "text/x-python",
      "name": "python",
      "nbconvert_exporter": "python",
      "pygments_lexer": "ipython3",
      "version": "3.7.3"
    },
    "latex_envs": {
      "LaTeX_envs_menu_present": true,
      "autoclose": false,
      "autocomplete": true,
      "bibliofile": "biblio.bib",
      "cite_by": "apalike",
      "current_citInitial": 1,
      "eqLabelWithNumbers": true,
      "eqNumInitial": 1,
      "hotkeys": {
        "equation": "Ctrl-E",
        "itemize": "Ctrl-I"
      },
      "labels_anchors": false,
      "latex_user_defs": false,
      "report_style_numbering": false,
      "user_envs_cfg": false
    },
    "nbTranslate": {
      "displayLangs": [
        "*"
      ],
      "hotkey": "alt-t",
      "langInMainMenu": true,
      "sourceLang": "en",
      "targetLang": "fr",
      "useGoogleTranslate": true
    },
    "toc": {
      "base_numbering": 1,
      "nav_menu": {},
      "number_sections": true,
      "sideBar": true,
      "skip_h1_title": false,
      "title_cell": "Table of Contents",
      "title_sidebar": "Contents",
      "toc_cell": false,
      "toc_position": {},
      "toc_section_display": true,
      "toc_window_display": false
    }
  },
  "cells": [
    {
      "cell_type": "markdown",
      "metadata": {
        "id": "view-in-github",
        "colab_type": "text"
      },
      "source": [
        "<a href=\"https://colab.research.google.com/github/szsavery/DSPS_SSavery/blob/main/HW2/MBoltzmannDistribution_Savery.ipynb\" target=\"_parent\"><img src=\"https://colab.research.google.com/assets/colab-badge.svg\" alt=\"Open In Colab\"/></a>"
      ]
    },
    {
      "cell_type": "markdown",
      "metadata": {
        "ExecuteTime": {
          "end_time": "2019-09-04T04:50:01.872913Z",
          "start_time": "2019-09-04T04:50:01.869703Z"
        },
        "id": "dk3tkh__KvAc"
      },
      "source": [
        " Written by Federica B. Bianco @fedhere\n",
        "UDel DSPS"
      ]
    },
    {
      "cell_type": "code",
      "metadata": {
        "ExecuteTime": {
          "end_time": "2019-09-07T17:36:53.625807Z",
          "start_time": "2019-09-07T17:36:53.393906Z"
        },
        "colab": {
          "base_uri": "https://localhost:8080/"
        },
        "id": "iQaonMUBqtX2",
        "outputId": "7bea13aa-c368-49e3-ef60-6b5370d78e25"
      },
      "source": [
        "from __future__ import print_function, division\n",
        "import numpy as np\n",
        "import scipy as sp\n",
        "from scipy import stats\n",
        "import pylab as pl\n",
        "%pylab inline\n"
      ],
      "execution_count": 1,
      "outputs": [
        {
          "output_type": "stream",
          "name": "stdout",
          "text": [
            "Populating the interactive namespace from numpy and matplotlib\n"
          ]
        }
      ]
    },
    {
      "cell_type": "markdown",
      "metadata": {
        "id": "zu5QKDi5b7vW"
      },
      "source": [
        "# Homework 1: Maxwell Boltzmann distribution"
      ]
    },
    {
      "cell_type": "markdown",
      "metadata": {
        "id": "ueaB0mHCO_iM"
      },
      "source": [
        "In Physics, statistics can help us describe the macroscopic behavior of a system if we know its microscopic properties in a statistical sense. We cannot know the motion of each molecule in a gas, but we can know the distribution of their velocities and positions.   In the mid to late 1800s, James Clerk Maxwell and Ludwig Boltzmann modeled the *distribution of speed of molecules in a gas*. As you probably know, and can intuitive realize, the speed of the molecules depends on the temperature of the gas, which is a macroscopic property, the velocity of the molecules is different for different gas temperatures. **This distribution of velocities is called the Maxwell-Boltzmann distribution.**\n"
      ]
    },
    {
      "cell_type": "markdown",
      "metadata": {
        "id": "7LpR51uQSvN9"
      },
      "source": [
        "It turns out that the Maxwel-Boltzmann distribution is a special case of the [*Chi distribution*](https://en.wikipedia.org/wiki/Chi_distribution). The parameter that controls the shape of a Chi distribution is called \"degrees of freedom\" and the Maxwel-Boltzmann distribution is a Chi2 distribution _with 3 degrees of freedom_, and with a scale parameter _a_ corresponding to the temperature in some way.\n"
      ]
    },
    {
      "cell_type": "markdown",
      "metadata": {
        "id": "Pc25lN9SUxQL"
      },
      "source": [
        "Below I have created 3 distributions. Based on the description above\n",
        "\n",
        "\n",
        "# 1) label the axes in the plot"
      ]
    },
    {
      "cell_type": "code",
      "metadata": {
        "ExecuteTime": {
          "end_time": "2019-09-07T17:36:56.493299Z",
          "start_time": "2019-09-07T17:36:56.021862Z"
        },
        "colab": {
          "base_uri": "https://localhost:8080/",
          "height": 449
        },
        "id": "LZm2afzhUwuG",
        "outputId": "fb0e9f30-3f48-4d23-9740-7b0e73bb9a2f"
      },
      "source": [
        "np.random.seed(5)\n",
        "np.random.randn(123)\n",
        "mydict = {}\n",
        "mydict['Maxwell'] = {}\n",
        "\n",
        "fig, ax = pl.subplots()\n",
        "for a in [0.2, 0.6, 1.0]:\n",
        "    mydict['Maxwell'][a] = sp.stats.chi.rvs(df=3, scale=a, size=1000)\n",
        "    ax.hist(mydict['Maxwell'][a], bins=np.arange(0,5,0.1)-0.05, alpha=0.7, label=\"a = %.1f\"%a);\n",
        "\n",
        "pl.legend();\n",
        "\n",
        "# your code to add labels here\n",
        "\n",
        "pl.xlabel('Speed')\n",
        "pl.ylabel('Number of Particles')\n",
        "pl.show()"
      ],
      "execution_count": 2,
      "outputs": [
        {
          "output_type": "display_data",
          "data": {
            "text/plain": [
              "<Figure size 640x480 with 1 Axes>"
            ],
            "image/png": "[encoded data removed]"
          },
          "metadata": {}
        }
      ]
    },
    {
      "cell_type": "markdown",
      "metadata": {
        "id": "MGdILsLAaopl"
      },
      "source": [
        "# 2) knowing that the *scale* parameter $a$  is a function of the temperature  *T*, and that the dependency is to a power 1/2, which is correct:\n",
        "   **$a \\propto \\sqrt{T}$**  or **$a \\propto \\sqrt{1/T}$**?\n",
        "\n",
        "   (in other words, is the dependency on the root of the temperature or on the inverse root of the temperature ?)\n"
      ]
    },
    {
      "cell_type": "markdown",
      "metadata": {
        "id": "vMGhorbvcrFM"
      },
      "source": [
        "In the above figure, as $a$ increases the particles are able to reach higher speeds. This tells me that $a$ is proportional $\\sqrt(T)$, because temperature is directly related to the kinetic energy and thus speed of the particles. An increasing temperature means on average a higher kinetic energy and speed for the particles."
      ]
    },
    {
      "cell_type": "markdown",
      "metadata": {
        "id": "hGeeXYttXLO1"
      },
      "source": [
        "\n",
        "# 3) What is the mean of all three distributions. How does it compare to the most probable molecular speed?\n",
        "From the wikipedia page of the Chi distribution find the formula of the mean of the Chi distribution. The distribution we are using has a scale parameter *a* in addition to the number of degrees of freedom. The mean scales linearly with this parameter:\n",
        "\n",
        "$\\mu_{\\mathrm{MB}, k, a} = a \\cdot \\mu_{\\mathrm{chi}, k}$\n",
        "\n",
        "Using the scipy function ```sp.special.gamma()``` to  calculate the gamma $\\Gamma$ function, and the definition of the mean from the [wikipwdia page of the Chi2 distribution](https://en.wikipedia.org/wiki/Chi_distribution)\n",
        "**calculate the mean of all three distributions. Compare it with the mean of the empirical distributions I generated in step 1. How does this mean compare to the most probable molecular speed.**\n",
        "(and does it look right based on the plots above?)"
      ]
    },
    {
      "cell_type": "markdown",
      "source": [
        "From the wikipedia page on the $Χ$ distribution, the equation to find the mean is $μ = \\sqrt(2)*\\frac{Γ(\\frac{k+1}{2})}{Γ(\\frac{k}{2})}$."
      ],
      "metadata": {
        "id": "RwHb3C82vGTo"
      }
    },
    {
      "cell_type": "code",
      "metadata": {
        "ExecuteTime": {
          "end_time": "2019-09-07T17:36:59.245480Z",
          "start_time": "2019-09-07T17:36:59.243338Z"
        },
        "id": "-8htAA4mRAVa",
        "colab": {
          "base_uri": "https://localhost:8080/"
        },
        "outputId": "ae4319e7-2478-4a9e-85e5-75680ccd01e2"
      },
      "source": [
        "df = 3\n",
        "k = df\n",
        "\n",
        "a1 = 0.2\n",
        "Mean_a1 = (np.sqrt(2)*(sp.special.gamma((k+1)/2)/sp.special.gamma(k/2)))*a1\n",
        "\n",
        "emp_meana1 = mydict['Maxwell'][0.2].mean()\n",
        "\n",
        "Mode_a1 = stats.mode(np.round(mydict['Maxwell'][0.2],decimals=1), axis = None)[0]\n",
        "#Had to round to the first decimal place to get a value that reasonable matched the graph, 2 decimals gave too small of a mode value.\n",
        "\n",
        "print(f'The mean for a = 0.2 is {Mean_a1}.')\n",
        "print(f'The mean of the empirical distribution is {emp_meana1}.')\n",
        "print(f'The mode of the empirical distribution is {Mode_a1}')"
      ],
      "execution_count": 3,
      "outputs": [
        {
          "output_type": "stream",
          "name": "stdout",
          "text": [
            "The mean for a = 0.2 is 0.3191538243211462.\n",
            "The mean of the empirical distribution is 0.32204584035677725.\n",
            "The mode of the empirical distribution is 0.3\n"
          ]
        }
      ]
    },
    {
      "cell_type": "markdown",
      "source": [
        "This shows that the empirical mean agrees well with the expected mean for a = 0.2. I used the mode of the distribution to determine the most probable molecular speed seen in the data. This is also in good agreement with both mean values. The mode being 0.3, after rounding, also fits with the graph of the distribution, which appears to be centered around 0.33 or so."
      ],
      "metadata": {
        "id": "sj7e-OXRXFWs"
      }
    },
    {
      "cell_type": "code",
      "source": [
        "a2 = 0.6\n",
        "Mean_a2 = (np.sqrt(2)*(sp.special.gamma((k+1)/2)/sp.special.gamma(k/2)))*a2\n",
        "\n",
        "emp_meana2 = mydict['Maxwell'][0.6].mean()\n",
        "\n",
        "Mode_a2 = stats.mode(np.round(mydict['Maxwell'][0.6], decimals = 1), axis = None)[0]\n",
        "\n",
        "print(f'The mean for a = 0.6 is {Mean_a2}.')\n",
        "print(f'The mean of the empirical distribution is {emp_meana2}.')\n",
        "print(f'The mode of the empirical distribution is {Mode_a2}')"
      ],
      "metadata": {
        "colab": {
          "base_uri": "https://localhost:8080/"
        },
        "id": "Z5nqFVnY1E4V",
        "outputId": "d66dd03d-79f1-457f-bada-210bb967aae9"
      },
      "execution_count": 4,
      "outputs": [
        {
          "output_type": "stream",
          "name": "stdout",
          "text": [
            "The mean for a = 0.6 is 0.9574614729634384.\n",
            "The mean of the empirical distribution is 0.9767475006327578.\n",
            "The mode of the empirical distribution is 0.7\n"
          ]
        }
      ]
    },
    {
      "cell_type": "markdown",
      "source": [
        "Again, the empirical mean matches well with the expected value for a = 0.6. The mode of the distribution is a bit farther away from the mean than it was in the a = 0.2 distribution. This makes sense as this distribution has a much flatter peak in speed, with sevearl different bins having similar counts with around 85 or so each."
      ],
      "metadata": {
        "id": "W8RGGR0TYooj"
      }
    },
    {
      "cell_type": "code",
      "source": [
        "a3 = 1.0\n",
        "Mean_a3 = (np.sqrt(2)*(sp.special.gamma((k+1)/2)/sp.special.gamma(k/2)))*a3\n",
        "\n",
        "emp_meana3 = mydict['Maxwell'][1.0].mean()\n",
        "\n",
        "Mode_a3 = stats.mode(np.round(mydict['Maxwell'][1.0], decimals = 1), axis = None)[0]\n",
        "\n",
        "print(f'The mean for a = 0.6 is {Mean_a3}.')\n",
        "print(f'The mean of the empirical distribution is {emp_meana3}.')\n",
        "print(f'The mode of the empirical distribution is {Mode_a3}')"
      ],
      "metadata": {
        "colab": {
          "base_uri": "https://localhost:8080/"
        },
        "id": "gItPDN092r2_",
        "outputId": "bdee87e3-09c7-47a9-9501-cd05a46c52a7"
      },
      "execution_count": 5,
      "outputs": [
        {
          "output_type": "stream",
          "name": "stdout",
          "text": [
            "The mean for a = 0.6 is 1.5957691216057308.\n",
            "The mean of the empirical distribution is 1.5701960178475707.\n",
            "The mode of the empirical distribution is 1.4\n"
          ]
        }
      ]
    },
    {
      "cell_type": "markdown",
      "source": [
        "The empirical mean is in good agreement with the expected value, only being off by 0.02. The mode is also in agreement with these mean values, although a bit farther away than than in the a = 0.2 case. This probably due to the flatter peak in speed."
      ],
      "metadata": {
        "id": "KwOWDuJaaJ-3"
      }
    },
    {
      "cell_type": "markdown",
      "metadata": {
        "id": "r7oes80EQER-"
      },
      "source": [
        "This really only holds for perfect gasses, which means under 4 assumptions:\n",
        "- the diameter of the molecules is much smaller than the distance between them\n",
        "- the collisions between molecules conserve energy\n",
        "- the molecules do not interact between collisions and are not subject to any other forces (move at constant speed in a straight line)\n",
        "- the initial position and velocity are random."
      ]
    },
    {
      "cell_type": "markdown",
      "metadata": {
        "id": "3PJ9hjLzQjyA"
      },
      "source": [
        "# Extra Credit:\n",
        "\n",
        "can you create a python (2D) simulation where the molecules behave as describe and calculate their speed evolution from an initial speed that is gaussian distributed? (rather hard!!)\n"
      ]
    },
    {
      "cell_type": "code",
      "metadata": {
        "ExecuteTime": {
          "end_time": "2019-09-07T17:37:01.623460Z",
          "start_time": "2019-09-07T17:37:01.621218Z"
        },
        "id": "6LJU9GPVRO7B"
      },
      "source": [
        "# your code here"
      ],
      "execution_count": 6,
      "outputs": []
    }
  ]
}
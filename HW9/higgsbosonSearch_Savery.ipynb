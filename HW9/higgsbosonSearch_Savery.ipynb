{
  "nbformat": 4,
  "nbformat_minor": 0,
  "metadata": {
    "colab": {
      "provenance": [],
      "include_colab_link": true
    },
    "kernelspec": {
      "name": "python3",
      "display_name": "Python 3"
    }
  },
  "cells": [
    {
      "cell_type": "markdown",
      "metadata": {
        "id": "view-in-github",
        "colab_type": "text"
      },
      "source": [
        "<a href=\"https://colab.research.google.com/github/szsavery/DSPS_SSavery/blob/main/HW9/higgsbosonSearch_Savery.ipynb\" target=\"_parent\"><img src=\"https://colab.research.google.com/assets/colab-badge.svg\" alt=\"Open In Colab\"/></a>"
      ]
    },
    {
      "cell_type": "code",
      "source": [
        "import pandas as pd\n",
        "import numpy as np\n",
        "import pylab as pl\n",
        "import os\n",
        "import json\n",
        "%pylab inline\n",
        "#pl.style.use(\"https://raw.githubusercontent.com/fedhere/DSPS/master/fbb.mplstyle\")"
      ],
      "metadata": {
        "colab": {
          "base_uri": "https://localhost:8080/"
        },
        "id": "JHLWiCYAfvtA",
        "outputId": "579d3923-c494-4729-d056-49cba15001cf"
      },
      "execution_count": 1,
      "outputs": [
        {
          "output_type": "stream",
          "name": "stdout",
          "text": [
            "Populating the interactive namespace from numpy and matplotlib\n"
          ]
        }
      ]
    },
    {
      "cell_type": "code",
      "metadata": {
        "id": "-xpw06PzTsU6",
        "colab": {
          "base_uri": "https://localhost:8080/"
        },
        "outputId": "d272a6d5-cc39-403d-b2c8-916b4a5c112d"
      },
      "source": [
        "from google.colab import drive\n",
        "drive.mount('/content/drive')"
      ],
      "execution_count": 2,
      "outputs": [
        {
          "output_type": "stream",
          "name": "stdout",
          "text": [
            "Drive already mounted at /content/drive; to attempt to forcibly remount, call drive.mount(\"/content/drive\", force_remount=True).\n"
          ]
        }
      ]
    },
    {
      "cell_type": "markdown",
      "metadata": {
        "id": "nS4S7msAPK_R"
      },
      "source": [
        "- Download the Higgs boson data from Kaggle (programmatically within the notebook)\n",
        "see how I did it in the Titanic Trees notebook https://github.com/fedhere/DSPS_FBianco/blob/main/CodeDemos/titanictree.ipynb\n",
        "\n",
        "find the correct API link here https://www.kaggle.com/c/higgs-boson/data\n"
      ]
    },
    {
      "cell_type": "markdown",
      "metadata": {
        "id": "KMuvMJgOnlYo"
      },
      "source": [
        "\n",
        "- Read in the training data. Split the provided training data into a training and a test set.\n",
        "The last 2 columns are what you want to predict: \"weight\" and \"label\".\n",
        "Remove them from the input data and create a separate variable label and a separate variable weight, which will be your target variables for, respectively, classification and regression.\n",
        "\n"
      ]
    },
    {
      "cell_type": "code",
      "source": [
        "pip install kaggle"
      ],
      "metadata": {
        "colab": {
          "base_uri": "https://localhost:8080/"
        },
        "id": "qaelvbr8eTNS",
        "outputId": "261026b2-84e3-42fd-c228-a7b83f3aef01"
      },
      "execution_count": 3,
      "outputs": [
        {
          "output_type": "stream",
          "name": "stdout",
          "text": [
            "Requirement already satisfied: kaggle in /usr/local/lib/python3.10/dist-packages (1.5.16)\n",
            "Requirement already satisfied: six>=1.10 in /usr/local/lib/python3.10/dist-packages (from kaggle) (1.16.0)\n",
            "Requirement already satisfied: certifi in /usr/local/lib/python3.10/dist-packages (from kaggle) (2023.11.17)\n",
            "Requirement already satisfied: python-dateutil in /usr/local/lib/python3.10/dist-packages (from kaggle) (2.8.2)\n",
            "Requirement already satisfied: requests in /usr/local/lib/python3.10/dist-packages (from kaggle) (2.31.0)\n",
            "Requirement already satisfied: tqdm in /usr/local/lib/python3.10/dist-packages (from kaggle) (4.66.1)\n",
            "Requirement already satisfied: python-slugify in /usr/local/lib/python3.10/dist-packages (from kaggle) (8.0.1)\n",
            "Requirement already satisfied: urllib3 in /usr/local/lib/python3.10/dist-packages (from kaggle) (2.0.7)\n",
            "Requirement already satisfied: bleach in /usr/local/lib/python3.10/dist-packages (from kaggle) (6.1.0)\n",
            "Requirement already satisfied: webencodings in /usr/local/lib/python3.10/dist-packages (from bleach->kaggle) (0.5.1)\n",
            "Requirement already satisfied: text-unidecode>=1.3 in /usr/local/lib/python3.10/dist-packages (from python-slugify->kaggle) (1.3)\n",
            "Requirement already satisfied: charset-normalizer<4,>=2 in /usr/local/lib/python3.10/dist-packages (from requests->kaggle) (3.3.2)\n",
            "Requirement already satisfied: idna<4,>=2.5 in /usr/local/lib/python3.10/dist-packages (from requests->kaggle) (3.6)\n"
          ]
        }
      ]
    },
    {
      "cell_type": "code",
      "source": [
        "cd drive/My\\ Drive/"
      ],
      "metadata": {
        "colab": {
          "base_uri": "https://localhost:8080/"
        },
        "id": "-RxSNZymec_B",
        "outputId": "97093e61-32bd-454e-a743-999c15fc05b1"
      },
      "execution_count": 4,
      "outputs": [
        {
          "output_type": "stream",
          "name": "stdout",
          "text": [
            "/content/drive/My Drive\n"
          ]
        }
      ]
    },
    {
      "cell_type": "code",
      "source": [
        "cd DSPS2023/"
      ],
      "metadata": {
        "colab": {
          "base_uri": "https://localhost:8080/"
        },
        "id": "vRNE4ocGfJOA",
        "outputId": "09a8e530-3365-4f68-dc1b-4f7ed5748ff4"
      },
      "execution_count": 5,
      "outputs": [
        {
          "output_type": "stream",
          "name": "stdout",
          "text": [
            "/content/drive/My Drive/DSPS2023\n"
          ]
        }
      ]
    },
    {
      "cell_type": "code",
      "source": [
        "ls kaggle.json"
      ],
      "metadata": {
        "colab": {
          "base_uri": "https://localhost:8080/"
        },
        "id": "RyeMLmoTfU3K",
        "outputId": "9434d2d8-8977-481f-aab8-f915437e5887"
      },
      "execution_count": 6,
      "outputs": [
        {
          "output_type": "stream",
          "name": "stdout",
          "text": [
            "kaggle.json\n"
          ]
        }
      ]
    },
    {
      "cell_type": "code",
      "source": [
        "#!mv kaggle.json .kaggle.json"
      ],
      "metadata": {
        "id": "OH3_2L3SDDFb"
      },
      "execution_count": 7,
      "outputs": []
    },
    {
      "cell_type": "code",
      "source": [
        "#Already done\n",
        "#!chmod 600 .kaggle.json"
      ],
      "metadata": {
        "id": "zfd_GFgPfkgQ"
      },
      "execution_count": 8,
      "outputs": []
    },
    {
      "cell_type": "code",
      "source": [
        "!ls -l .kaggle.json"
      ],
      "metadata": {
        "colab": {
          "base_uri": "https://localhost:8080/"
        },
        "id": "pCFJt3O9DvG-",
        "outputId": "97d425cb-4368-49bb-8021-bc97d0c7677f"
      },
      "execution_count": 9,
      "outputs": [
        {
          "output_type": "stream",
          "name": "stdout",
          "text": [
            "ls: cannot access '.kaggle.json': No such file or directory\n"
          ]
        }
      ]
    },
    {
      "cell_type": "code",
      "source": [
        "envs = json.load(open(\"kaggle.json\", \"r\"))\n",
        "os.environ[\"KAGGLE_USERNAME\"] = envs['username']\n",
        "os.environ[\"KAGGLE_KEY\"] = envs['key']"
      ],
      "metadata": {
        "id": "u_gvkr5qfmPp"
      },
      "execution_count": 10,
      "outputs": []
    },
    {
      "cell_type": "code",
      "source": [
        "#check that it worked by listing the kaggle datasets\n",
        "!kaggle datasets list"
      ],
      "metadata": {
        "colab": {
          "base_uri": "https://localhost:8080/"
        },
        "id": "Hwy2Lvxuf9mh",
        "outputId": "73fb0aa2-214c-428e-cdea-967d80165ec6"
      },
      "execution_count": 11,
      "outputs": [
        {
          "output_type": "stream",
          "name": "stdout",
          "text": [
            "ref                                                    title                                            size  lastUpdated          downloadCount  voteCount  usabilityRating  \n",
            "-----------------------------------------------------  ----------------------------------------------  -----  -------------------  -------------  ---------  ---------------  \n",
            "thedrcat/daigt-v2-train-dataset                        DAIGT V2 Train Dataset                           29MB  2023-11-16 01:38:36           1069        118  1.0              \n",
            "muhammadbinimran/housing-price-prediction-data         Housing Price Prediction Data                   763KB  2023-11-21 17:56:32           3949         78  1.0              \n",
            "carlmcbrideellis/llm-7-prompt-training-dataset         LLM: 7 prompt training dataset                   41MB  2023-11-15 07:32:56           1399        108  1.0              \n",
            "maso0dahmed/video-games-data                           Video Games Data                                  5MB  2023-11-25 19:08:46           1068         34  1.0              \n",
            "thedrcat/daigt-proper-train-dataset                    DAIGT Proper Train Dataset                      119MB  2023-11-05 14:03:25           1379        127  1.0              \n",
            "joebeachcapital/30000-spotify-songs                    30000 Spotify Songs                               3MB  2023-11-01 06:06:43           9033        199  1.0              \n",
            "ddosad/auto-sales-data                                 Automobile Sales data                            79KB  2023-11-18 12:36:41           3439         65  1.0              \n",
            "sujaykapadnis/products-datasets                        Detailed Products Datasets                      100KB  2023-11-24 03:25:10            834         22  1.0              \n",
            "nelgiriyewithana/world-educational-data                World Educational Data                            9KB  2023-11-04 06:10:17           7336        150  1.0              \n",
            "mlippo/average-global-iq-per-country-with-other-stats  Average global IQ per country with other stats    6KB  2023-11-16 19:37:24           1282         28  1.0              \n",
            "abdallahwagih/house-price                              House Price                                     780KB  2023-11-24 13:36:42            546         24  1.0              \n",
            "everydaycodings/multi-platform-online-courses-dataset  Multi-Platform Online Courses Dataset             3MB  2023-11-26 08:11:49            704         24  1.0              \n",
            "imtkaggleteam/life-expectancy                          Life Expectancy                                 730KB  2023-11-30 12:22:23            538         32  0.9411765        \n",
            "mahmoudshogaa/titanic-dataset                          titanic_dataset                                  22KB  2023-11-24 14:19:44            994         40  1.0              \n",
            "asimislam/30-yrs-stock-market-data                     30 yrs Stock Market Data                        882KB  2023-11-29 20:18:02           1010         26  1.0              \n",
            "jacksondivakarr/online-shopping-dataset                🛒 Online Shopping Dataset 📊📉📈                     5MB  2023-11-12 12:35:58           3767         67  1.0              \n",
            "nelgiriyewithana/australian-vehicle-prices             Australian Vehicle Prices                       582KB  2023-11-27 04:51:30            871         42  1.0              \n",
            "maso0dahmed/netflix-movies-and-shows                   Netflix Movies and Shows                        172KB  2023-11-19 18:26:53           2523         45  1.0              \n",
            "prasad22/healthcare-dataset                            🩺Healthcare Dataset 🧪                           483KB  2023-10-31 11:30:58           6600        103  1.0              \n",
            "imtkaggleteam/obesity                                  Obesity                                           1MB  2023-11-30 12:57:26            335         36  0.9411765        \n"
          ]
        }
      ]
    },
    {
      "cell_type": "code",
      "source": [
        "#Directory already made\n",
        "#!mkdir kaggleHiggs"
      ],
      "metadata": {
        "id": "2QFwKXt4gI-m"
      },
      "execution_count": 12,
      "outputs": []
    },
    {
      "cell_type": "code",
      "source": [
        "cd kaggleHiggs/"
      ],
      "metadata": {
        "colab": {
          "base_uri": "https://localhost:8080/"
        },
        "id": "zGgrqSnfgYgN",
        "outputId": "f44af560-57a9-4552-9058-b72cdcba2b92"
      },
      "execution_count": 13,
      "outputs": [
        {
          "output_type": "stream",
          "name": "stdout",
          "text": [
            "/content/drive/My Drive/DSPS2023/kaggleHiggs\n"
          ]
        }
      ]
    },
    {
      "cell_type": "code",
      "source": [
        "#Already downloaded\n",
        "#!kaggle competitions download -c higgs-boson"
      ],
      "metadata": {
        "id": "Gso9y5oZgjG9"
      },
      "execution_count": 14,
      "outputs": []
    },
    {
      "cell_type": "code",
      "source": [
        "ls"
      ],
      "metadata": {
        "colab": {
          "base_uri": "https://localhost:8080/"
        },
        "id": "Exs53BKAjLqx",
        "outputId": "e9de62c5-7a92-4c6c-f1a2-47f42703746b"
      },
      "execution_count": 15,
      "outputs": [
        {
          "output_type": "stream",
          "name": "stdout",
          "text": [
            "HiggsBosonCompetition_AMSMetric_rev1.py  random_submission.csv  training.csv\n",
            "higgs-boson.zip                          test.csv\n"
          ]
        }
      ]
    },
    {
      "cell_type": "code",
      "source": [
        "higgsdata = pd.read_csv(\"training.csv\")"
      ],
      "metadata": {
        "id": "j0M1R8zKj3os"
      },
      "execution_count": 16,
      "outputs": []
    },
    {
      "cell_type": "code",
      "source": [
        "higgsdata.head()"
      ],
      "metadata": {
        "colab": {
          "base_uri": "https://localhost:8080/",
          "height": 253
        },
        "id": "crhjRg7tkD3-",
        "outputId": "227118b5-7558-4d96-951d-334c357f5e79"
      },
      "execution_count": 17,
      "outputs": [
        {
          "output_type": "execute_result",
          "data": {
            "text/plain": [
              "   EventId  DER_mass_MMC  DER_mass_transverse_met_lep  DER_mass_vis  DER_pt_h  \\\n",
              "0   100000       138.470                       51.655        97.827    27.980   \n",
              "1   100001       160.937                       68.768       103.235    48.146   \n",
              "2   100002      -999.000                      162.172       125.953    35.635   \n",
              "3   100003       143.905                       81.417        80.943     0.414   \n",
              "4   100004       175.864                       16.915       134.805    16.405   \n",
              "\n",
              "   DER_deltaeta_jet_jet  DER_mass_jet_jet  DER_prodeta_jet_jet  \\\n",
              "0                  0.91           124.711                2.666   \n",
              "1               -999.00          -999.000             -999.000   \n",
              "2               -999.00          -999.000             -999.000   \n",
              "3               -999.00          -999.000             -999.000   \n",
              "4               -999.00          -999.000             -999.000   \n",
              "\n",
              "   DER_deltar_tau_lep  DER_pt_tot  ...  PRI_jet_num  PRI_jet_leading_pt  \\\n",
              "0               3.064      41.928  ...            2              67.435   \n",
              "1               3.473       2.078  ...            1              46.226   \n",
              "2               3.148       9.336  ...            1              44.251   \n",
              "3               3.310       0.414  ...            0            -999.000   \n",
              "4               3.891      16.405  ...            0            -999.000   \n",
              "\n",
              "   PRI_jet_leading_eta  PRI_jet_leading_phi  PRI_jet_subleading_pt  \\\n",
              "0                2.150                0.444                 46.062   \n",
              "1                0.725                1.158               -999.000   \n",
              "2                2.053               -2.028               -999.000   \n",
              "3             -999.000             -999.000               -999.000   \n",
              "4             -999.000             -999.000               -999.000   \n",
              "\n",
              "   PRI_jet_subleading_eta  PRI_jet_subleading_phi  PRI_jet_all_pt    Weight  \\\n",
              "0                    1.24                  -2.475         113.497  0.002653   \n",
              "1                 -999.00                -999.000          46.226  2.233584   \n",
              "2                 -999.00                -999.000          44.251  2.347389   \n",
              "3                 -999.00                -999.000          -0.000  5.446378   \n",
              "4                 -999.00                -999.000           0.000  6.245333   \n",
              "\n",
              "   Label  \n",
              "0      s  \n",
              "1      b  \n",
              "2      b  \n",
              "3      b  \n",
              "4      b  \n",
              "\n",
              "[5 rows x 33 columns]"
            ],
            "text/html": [
              "\n",
              "  <div id=\"df-b189527c-355c-401e-b4f8-58927c45aea4\" class=\"colab-df-container\">\n",
              "    <div>\n",
              "<style scoped>\n",
              "    .dataframe tbody tr th:only-of-type {\n",
              "        vertical-align: middle;\n",
              "    }\n",
              "\n",
              "    .dataframe tbody tr th {\n",
              "        vertical-align: top;\n",
              "    }\n",
              "\n",
              "    .dataframe thead th {\n",
              "        text-align: right;\n",
              "    }\n",
              "</style>\n",
              "<table border=\"1\" class=\"dataframe\">\n",
              "  <thead>\n",
              "    <tr style=\"text-align: right;\">\n",
              "      <th></th>\n",
              "      <th>EventId</th>\n",
              "      <th>DER_mass_MMC</th>\n",
              "      <th>DER_mass_transverse_met_lep</th>\n",
              "      <th>DER_mass_vis</th>\n",
              "      <th>DER_pt_h</th>\n",
              "      <th>DER_deltaeta_jet_jet</th>\n",
              "      <th>DER_mass_jet_jet</th>\n",
              "      <th>DER_prodeta_jet_jet</th>\n",
              "      <th>DER_deltar_tau_lep</th>\n",
              "      <th>DER_pt_tot</th>\n",
              "      <th>...</th>\n",
              "      <th>PRI_jet_num</th>\n",
              "      <th>PRI_jet_leading_pt</th>\n",
              "      <th>PRI_jet_leading_eta</th>\n",
              "      <th>PRI_jet_leading_phi</th>\n",
              "      <th>PRI_jet_subleading_pt</th>\n",
              "      <th>PRI_jet_subleading_eta</th>\n",
              "      <th>PRI_jet_subleading_phi</th>\n",
              "      <th>PRI_jet_all_pt</th>\n",
              "      <th>Weight</th>\n",
              "      <th>Label</th>\n",
              "    </tr>\n",
              "  </thead>\n",
              "  <tbody>\n",
              "    <tr>\n",
              "      <th>0</th>\n",
              "      <td>100000</td>\n",
              "      <td>138.470</td>\n",
              "      <td>51.655</td>\n",
              "      <td>97.827</td>\n",
              "      <td>27.980</td>\n",
              "      <td>0.91</td>\n",
              "      <td>124.711</td>\n",
              "      <td>2.666</td>\n",
              "      <td>3.064</td>\n",
              "      <td>41.928</td>\n",
              "      <td>...</td>\n",
              "      <td>2</td>\n",
              "      <td>67.435</td>\n",
              "      <td>2.150</td>\n",
              "      <td>0.444</td>\n",
              "      <td>46.062</td>\n",
              "      <td>1.24</td>\n",
              "      <td>-2.475</td>\n",
              "      <td>113.497</td>\n",
              "      <td>0.002653</td>\n",
              "      <td>s</td>\n",
              "    </tr>\n",
              "    <tr>\n",
              "      <th>1</th>\n",
              "      <td>100001</td>\n",
              "      <td>160.937</td>\n",
              "      <td>68.768</td>\n",
              "      <td>103.235</td>\n",
              "      <td>48.146</td>\n",
              "      <td>-999.00</td>\n",
              "      <td>-999.000</td>\n",
              "      <td>-999.000</td>\n",
              "      <td>3.473</td>\n",
              "      <td>2.078</td>\n",
              "      <td>...</td>\n",
              "      <td>1</td>\n",
              "      <td>46.226</td>\n",
              "      <td>0.725</td>\n",
              "      <td>1.158</td>\n",
              "      <td>-999.000</td>\n",
              "      <td>-999.00</td>\n",
              "      <td>-999.000</td>\n",
              "      <td>46.226</td>\n",
              "      <td>2.233584</td>\n",
              "      <td>b</td>\n",
              "    </tr>\n",
              "    <tr>\n",
              "      <th>2</th>\n",
              "      <td>100002</td>\n",
              "      <td>-999.000</td>\n",
              "      <td>162.172</td>\n",
              "      <td>125.953</td>\n",
              "      <td>35.635</td>\n",
              "      <td>-999.00</td>\n",
              "      <td>-999.000</td>\n",
              "      <td>-999.000</td>\n",
              "      <td>3.148</td>\n",
              "      <td>9.336</td>\n",
              "      <td>...</td>\n",
              "      <td>1</td>\n",
              "      <td>44.251</td>\n",
              "      <td>2.053</td>\n",
              "      <td>-2.028</td>\n",
              "      <td>-999.000</td>\n",
              "      <td>-999.00</td>\n",
              "      <td>-999.000</td>\n",
              "      <td>44.251</td>\n",
              "      <td>2.347389</td>\n",
              "      <td>b</td>\n",
              "    </tr>\n",
              "    <tr>\n",
              "      <th>3</th>\n",
              "      <td>100003</td>\n",
              "      <td>143.905</td>\n",
              "      <td>81.417</td>\n",
              "      <td>80.943</td>\n",
              "      <td>0.414</td>\n",
              "      <td>-999.00</td>\n",
              "      <td>-999.000</td>\n",
              "      <td>-999.000</td>\n",
              "      <td>3.310</td>\n",
              "      <td>0.414</td>\n",
              "      <td>...</td>\n",
              "      <td>0</td>\n",
              "      <td>-999.000</td>\n",
              "      <td>-999.000</td>\n",
              "      <td>-999.000</td>\n",
              "      <td>-999.000</td>\n",
              "      <td>-999.00</td>\n",
              "      <td>-999.000</td>\n",
              "      <td>-0.000</td>\n",
              "      <td>5.446378</td>\n",
              "      <td>b</td>\n",
              "    </tr>\n",
              "    <tr>\n",
              "      <th>4</th>\n",
              "      <td>100004</td>\n",
              "      <td>175.864</td>\n",
              "      <td>16.915</td>\n",
              "      <td>134.805</td>\n",
              "      <td>16.405</td>\n",
              "      <td>-999.00</td>\n",
              "      <td>-999.000</td>\n",
              "      <td>-999.000</td>\n",
              "      <td>3.891</td>\n",
              "      <td>16.405</td>\n",
              "      <td>...</td>\n",
              "      <td>0</td>\n",
              "      <td>-999.000</td>\n",
              "      <td>-999.000</td>\n",
              "      <td>-999.000</td>\n",
              "      <td>-999.000</td>\n",
              "      <td>-999.00</td>\n",
              "      <td>-999.000</td>\n",
              "      <td>0.000</td>\n",
              "      <td>6.245333</td>\n",
              "      <td>b</td>\n",
              "    </tr>\n",
              "  </tbody>\n",
              "</table>\n",
              "<p>5 rows × 33 columns</p>\n",
              "</div>\n",
              "    <div class=\"colab-df-buttons\">\n",
              "\n",
              "  <div class=\"colab-df-container\">\n",
              "    <button class=\"colab-df-convert\" onclick=\"convertToInteractive('df-b189527c-355c-401e-b4f8-58927c45aea4')\"\n",
              "            title=\"Convert this dataframe to an interactive table.\"\n",
              "            style=\"display:none;\">\n",
              "\n",
              "  <svg xmlns=\"http://www.w3.org/2000/svg\" height=\"24px\" viewBox=\"0 -960 960 960\">\n",
              "    <path d=\"M120-120v-720h720v720H120Zm60-500h600v-160H180v160Zm220 220h160v-160H400v160Zm0 220h160v-160H400v160ZM180-400h160v-160H180v160Zm440 0h160v-160H620v160ZM180-180h160v-160H180v160Zm440 0h160v-160H620v160Z\"/>\n",
              "  </svg>\n",
              "    </button>\n",
              "\n",
              "  <style>\n",
              "    .colab-df-container {\n",
              "      display:flex;\n",
              "      gap: 12px;\n",
              "    }\n",
              "\n",
              "    .colab-df-convert {\n",
              "      background-color: #E8F0FE;\n",
              "      border: none;\n",
              "      border-radius: 50%;\n",
              "      cursor: pointer;\n",
              "      display: none;\n",
              "      fill: #1967D2;\n",
              "      height: 32px;\n",
              "      padding: 0 0 0 0;\n",
              "      width: 32px;\n",
              "    }\n",
              "\n",
              "    .colab-df-convert:hover {\n",
              "      background-color: #E2EBFA;\n",
              "      box-shadow: 0px 1px 2px rgba(60, 64, 67, 0.3), 0px 1px 3px 1px rgba(60, 64, 67, 0.15);\n",
              "      fill: #174EA6;\n",
              "    }\n",
              "\n",
              "    .colab-df-buttons div {\n",
              "      margin-bottom: 4px;\n",
              "    }\n",
              "\n",
              "    [theme=dark] .colab-df-convert {\n",
              "      background-color: #3B4455;\n",
              "      fill: #D2E3FC;\n",
              "    }\n",
              "\n",
              "    [theme=dark] .colab-df-convert:hover {\n",
              "      background-color: #434B5C;\n",
              "      box-shadow: 0px 1px 3px 1px rgba(0, 0, 0, 0.15);\n",
              "      filter: drop-shadow(0px 1px 2px rgba(0, 0, 0, 0.3));\n",
              "      fill: #FFFFFF;\n",
              "    }\n",
              "  </style>\n",
              "\n",
              "    <script>\n",
              "      const buttonEl =\n",
              "        document.querySelector('#df-b189527c-355c-401e-b4f8-58927c45aea4 button.colab-df-convert');\n",
              "      buttonEl.style.display =\n",
              "        google.colab.kernel.accessAllowed ? 'block' : 'none';\n",
              "\n",
              "      async function convertToInteractive(key) {\n",
              "        const element = document.querySelector('#df-b189527c-355c-401e-b4f8-58927c45aea4');\n",
              "        const dataTable =\n",
              "          await google.colab.kernel.invokeFunction('convertToInteractive',\n",
              "                                                    [key], {});\n",
              "        if (!dataTable) return;\n",
              "\n",
              "        const docLinkHtml = 'Like what you see? Visit the ' +\n",
              "          '<a target=\"_blank\" href=https://colab.research.google.com/notebooks/data_table.ipynb>data table notebook</a>'\n",
              "          + ' to learn more about interactive tables.';\n",
              "        element.innerHTML = '';\n",
              "        dataTable['output_type'] = 'display_data';\n",
              "        await google.colab.output.renderOutput(dataTable, element);\n",
              "        const docLink = document.createElement('div');\n",
              "        docLink.innerHTML = docLinkHtml;\n",
              "        element.appendChild(docLink);\n",
              "      }\n",
              "    </script>\n",
              "  </div>\n",
              "\n",
              "\n",
              "<div id=\"df-cc77ae09-1021-427e-9d78-987d89bdd92f\">\n",
              "  <button class=\"colab-df-quickchart\" onclick=\"quickchart('df-cc77ae09-1021-427e-9d78-987d89bdd92f')\"\n",
              "            title=\"Suggest charts\"\n",
              "            style=\"display:none;\">\n",
              "\n",
              "<svg xmlns=\"http://www.w3.org/2000/svg\" height=\"24px\"viewBox=\"0 0 24 24\"\n",
              "     width=\"24px\">\n",
              "    <g>\n",
              "        <path d=\"M19 3H5c-1.1 0-2 .9-2 2v14c0 1.1.9 2 2 2h14c1.1 0 2-.9 2-2V5c0-1.1-.9-2-2-2zM9 17H7v-7h2v7zm4 0h-2V7h2v10zm4 0h-2v-4h2v4z\"/>\n",
              "    </g>\n",
              "</svg>\n",
              "  </button>\n",
              "\n",
              "<style>\n",
              "  .colab-df-quickchart {\n",
              "      --bg-color: #E8F0FE;\n",
              "      --fill-color: #1967D2;\n",
              "      --hover-bg-color: #E2EBFA;\n",
              "      --hover-fill-color: #174EA6;\n",
              "      --disabled-fill-color: #AAA;\n",
              "      --disabled-bg-color: #DDD;\n",
              "  }\n",
              "\n",
              "  [theme=dark] .colab-df-quickchart {\n",
              "      --bg-color: #3B4455;\n",
              "      --fill-color: #D2E3FC;\n",
              "      --hover-bg-color: #434B5C;\n",
              "      --hover-fill-color: #FFFFFF;\n",
              "      --disabled-bg-color: #3B4455;\n",
              "      --disabled-fill-color: #666;\n",
              "  }\n",
              "\n",
              "  .colab-df-quickchart {\n",
              "    background-color: var(--bg-color);\n",
              "    border: none;\n",
              "    border-radius: 50%;\n",
              "    cursor: pointer;\n",
              "    display: none;\n",
              "    fill: var(--fill-color);\n",
              "    height: 32px;\n",
              "    padding: 0;\n",
              "    width: 32px;\n",
              "  }\n",
              "\n",
              "  .colab-df-quickchart:hover {\n",
              "    background-color: var(--hover-bg-color);\n",
              "    box-shadow: 0 1px 2px rgba(60, 64, 67, 0.3), 0 1px 3px 1px rgba(60, 64, 67, 0.15);\n",
              "    fill: var(--button-hover-fill-color);\n",
              "  }\n",
              "\n",
              "  .colab-df-quickchart-complete:disabled,\n",
              "  .colab-df-quickchart-complete:disabled:hover {\n",
              "    background-color: var(--disabled-bg-color);\n",
              "    fill: var(--disabled-fill-color);\n",
              "    box-shadow: none;\n",
              "  }\n",
              "\n",
              "  .colab-df-spinner {\n",
              "    border: 2px solid var(--fill-color);\n",
              "    border-color: transparent;\n",
              "    border-bottom-color: var(--fill-color);\n",
              "    animation:\n",
              "      spin 1s steps(1) infinite;\n",
              "  }\n",
              "\n",
              "  @keyframes spin {\n",
              "    0% {\n",
              "      border-color: transparent;\n",
              "      border-bottom-color: var(--fill-color);\n",
              "      border-left-color: var(--fill-color);\n",
              "    }\n",
              "    20% {\n",
              "      border-color: transparent;\n",
              "      border-left-color: var(--fill-color);\n",
              "      border-top-color: var(--fill-color);\n",
              "    }\n",
              "    30% {\n",
              "      border-color: transparent;\n",
              "      border-left-color: var(--fill-color);\n",
              "      border-top-color: var(--fill-color);\n",
              "      border-right-color: var(--fill-color);\n",
              "    }\n",
              "    40% {\n",
              "      border-color: transparent;\n",
              "      border-right-color: var(--fill-color);\n",
              "      border-top-color: var(--fill-color);\n",
              "    }\n",
              "    60% {\n",
              "      border-color: transparent;\n",
              "      border-right-color: var(--fill-color);\n",
              "    }\n",
              "    80% {\n",
              "      border-color: transparent;\n",
              "      border-right-color: var(--fill-color);\n",
              "      border-bottom-color: var(--fill-color);\n",
              "    }\n",
              "    90% {\n",
              "      border-color: transparent;\n",
              "      border-bottom-color: var(--fill-color);\n",
              "    }\n",
              "  }\n",
              "</style>\n",
              "\n",
              "  <script>\n",
              "    async function quickchart(key) {\n",
              "      const quickchartButtonEl =\n",
              "        document.querySelector('#' + key + ' button');\n",
              "      quickchartButtonEl.disabled = true;  // To prevent multiple clicks.\n",
              "      quickchartButtonEl.classList.add('colab-df-spinner');\n",
              "      try {\n",
              "        const charts = await google.colab.kernel.invokeFunction(\n",
              "            'suggestCharts', [key], {});\n",
              "      } catch (error) {\n",
              "        console.error('Error during call to suggestCharts:', error);\n",
              "      }\n",
              "      quickchartButtonEl.classList.remove('colab-df-spinner');\n",
              "      quickchartButtonEl.classList.add('colab-df-quickchart-complete');\n",
              "    }\n",
              "    (() => {\n",
              "      let quickchartButtonEl =\n",
              "        document.querySelector('#df-cc77ae09-1021-427e-9d78-987d89bdd92f button');\n",
              "      quickchartButtonEl.style.display =\n",
              "        google.colab.kernel.accessAllowed ? 'block' : 'none';\n",
              "    })();\n",
              "  </script>\n",
              "</div>\n",
              "    </div>\n",
              "  </div>\n"
            ]
          },
          "metadata": {},
          "execution_count": 17
        }
      ]
    },
    {
      "cell_type": "markdown",
      "source": [
        "The columns with a lot of -999.00 values could cause problems with trying to classify the data."
      ],
      "metadata": {
        "id": "ch4O_fM4rmCX"
      }
    },
    {
      "cell_type": "code",
      "metadata": {
        "id": "HCPS73k0ytqj",
        "colab": {
          "base_uri": "https://localhost:8080/",
          "height": 346
        },
        "outputId": "873985aa-f4dd-482b-89cd-47e910a96ecd"
      },
      "source": [
        "higgsdata.describe()"
      ],
      "execution_count": 18,
      "outputs": [
        {
          "output_type": "execute_result",
          "data": {
            "text/plain": [
              "             EventId   DER_mass_MMC  DER_mass_transverse_met_lep  \\\n",
              "count  250000.000000  250000.000000                250000.000000   \n",
              "mean   224999.500000     -49.023079                    49.239819   \n",
              "std     72168.927986     406.345647                    35.344886   \n",
              "min    100000.000000    -999.000000                     0.000000   \n",
              "25%    162499.750000      78.100750                    19.241000   \n",
              "50%    224999.500000     105.012000                    46.524000   \n",
              "75%    287499.250000     130.606250                    73.598000   \n",
              "max    349999.000000    1192.026000                   690.075000   \n",
              "\n",
              "        DER_mass_vis       DER_pt_h  DER_deltaeta_jet_jet  DER_mass_jet_jet  \\\n",
              "count  250000.000000  250000.000000         250000.000000     250000.000000   \n",
              "mean       81.181982      57.895962           -708.420675       -601.237051   \n",
              "std        40.828691      63.655682            454.480565        657.972302   \n",
              "min         6.329000       0.000000           -999.000000       -999.000000   \n",
              "25%        59.388750      14.068750           -999.000000       -999.000000   \n",
              "50%        73.752000      38.467500           -999.000000       -999.000000   \n",
              "75%        92.259000      79.169000              0.490000         83.446000   \n",
              "max      1349.351000    2834.999000              8.503000       4974.979000   \n",
              "\n",
              "       DER_prodeta_jet_jet  DER_deltar_tau_lep     DER_pt_tot  ...  \\\n",
              "count        250000.000000       250000.000000  250000.000000  ...   \n",
              "mean           -709.356603            2.373100      18.917332  ...   \n",
              "std             453.019877            0.782911      22.273494  ...   \n",
              "min            -999.000000            0.208000       0.000000  ...   \n",
              "25%            -999.000000            1.810000       2.841000  ...   \n",
              "50%            -999.000000            2.491500      12.315500  ...   \n",
              "75%              -4.593000            2.961000      27.591000  ...   \n",
              "max              16.690000            5.684000    2834.999000  ...   \n",
              "\n",
              "       PRI_met_sumet    PRI_jet_num  PRI_jet_leading_pt  PRI_jet_leading_eta  \\\n",
              "count  250000.000000  250000.000000       250000.000000        250000.000000   \n",
              "mean      209.797178       0.979176         -348.329567          -399.254314   \n",
              "std       126.499506       0.977426          532.962789           489.338286   \n",
              "min        13.678000       0.000000         -999.000000          -999.000000   \n",
              "25%       123.017500       0.000000         -999.000000          -999.000000   \n",
              "50%       179.739000       1.000000           38.960000            -1.872000   \n",
              "75%       263.379250       2.000000           75.349000             0.433000   \n",
              "max      2003.976000       3.000000         1120.573000             4.499000   \n",
              "\n",
              "       PRI_jet_leading_phi  PRI_jet_subleading_pt  PRI_jet_subleading_eta  \\\n",
              "count        250000.000000          250000.000000           250000.000000   \n",
              "mean           -399.259788            -692.381204             -709.121609   \n",
              "std             489.333883             479.875496              453.384624   \n",
              "min            -999.000000            -999.000000             -999.000000   \n",
              "25%            -999.000000            -999.000000             -999.000000   \n",
              "50%              -2.093000            -999.000000             -999.000000   \n",
              "75%               0.503000              33.703000               -2.457000   \n",
              "max               3.141000             721.456000                4.500000   \n",
              "\n",
              "       PRI_jet_subleading_phi  PRI_jet_all_pt         Weight  \n",
              "count           250000.000000   250000.000000  250000.000000  \n",
              "mean              -709.118631       73.064591       1.646767  \n",
              "std                453.389017       98.015662       1.875103  \n",
              "min               -999.000000        0.000000       0.001502  \n",
              "25%               -999.000000       -0.000000       0.018636  \n",
              "50%               -999.000000       40.512500       1.156188  \n",
              "75%                 -2.275000      109.933750       2.404128  \n",
              "max                  3.142000     1633.433000       7.822543  \n",
              "\n",
              "[8 rows x 32 columns]"
            ],
            "text/html": [
              "\n",
              "  <div id=\"df-366b5eea-644b-4a08-8efa-1cf2526d2bc5\" class=\"colab-df-container\">\n",
              "    <div>\n",
              "<style scoped>\n",
              "    .dataframe tbody tr th:only-of-type {\n",
              "        vertical-align: middle;\n",
              "    }\n",
              "\n",
              "    .dataframe tbody tr th {\n",
              "        vertical-align: top;\n",
              "    }\n",
              "\n",
              "    .dataframe thead th {\n",
              "        text-align: right;\n",
              "    }\n",
              "</style>\n",
              "<table border=\"1\" class=\"dataframe\">\n",
              "  <thead>\n",
              "    <tr style=\"text-align: right;\">\n",
              "      <th></th>\n",
              "      <th>EventId</th>\n",
              "      <th>DER_mass_MMC</th>\n",
              "      <th>DER_mass_transverse_met_lep</th>\n",
              "      <th>DER_mass_vis</th>\n",
              "      <th>DER_pt_h</th>\n",
              "      <th>DER_deltaeta_jet_jet</th>\n",
              "      <th>DER_mass_jet_jet</th>\n",
              "      <th>DER_prodeta_jet_jet</th>\n",
              "      <th>DER_deltar_tau_lep</th>\n",
              "      <th>DER_pt_tot</th>\n",
              "      <th>...</th>\n",
              "      <th>PRI_met_sumet</th>\n",
              "      <th>PRI_jet_num</th>\n",
              "      <th>PRI_jet_leading_pt</th>\n",
              "      <th>PRI_jet_leading_eta</th>\n",
              "      <th>PRI_jet_leading_phi</th>\n",
              "      <th>PRI_jet_subleading_pt</th>\n",
              "      <th>PRI_jet_subleading_eta</th>\n",
              "      <th>PRI_jet_subleading_phi</th>\n",
              "      <th>PRI_jet_all_pt</th>\n",
              "      <th>Weight</th>\n",
              "    </tr>\n",
              "  </thead>\n",
              "  <tbody>\n",
              "    <tr>\n",
              "      <th>count</th>\n",
              "      <td>250000.000000</td>\n",
              "      <td>250000.000000</td>\n",
              "      <td>250000.000000</td>\n",
              "      <td>250000.000000</td>\n",
              "      <td>250000.000000</td>\n",
              "      <td>250000.000000</td>\n",
              "      <td>250000.000000</td>\n",
              "      <td>250000.000000</td>\n",
              "      <td>250000.000000</td>\n",
              "      <td>250000.000000</td>\n",
              "      <td>...</td>\n",
              "      <td>250000.000000</td>\n",
              "      <td>250000.000000</td>\n",
              "      <td>250000.000000</td>\n",
              "      <td>250000.000000</td>\n",
              "      <td>250000.000000</td>\n",
              "      <td>250000.000000</td>\n",
              "      <td>250000.000000</td>\n",
              "      <td>250000.000000</td>\n",
              "      <td>250000.000000</td>\n",
              "      <td>250000.000000</td>\n",
              "    </tr>\n",
              "    <tr>\n",
              "      <th>mean</th>\n",
              "      <td>224999.500000</td>\n",
              "      <td>-49.023079</td>\n",
              "      <td>49.239819</td>\n",
              "      <td>81.181982</td>\n",
              "      <td>57.895962</td>\n",
              "      <td>-708.420675</td>\n",
              "      <td>-601.237051</td>\n",
              "      <td>-709.356603</td>\n",
              "      <td>2.373100</td>\n",
              "      <td>18.917332</td>\n",
              "      <td>...</td>\n",
              "      <td>209.797178</td>\n",
              "      <td>0.979176</td>\n",
              "      <td>-348.329567</td>\n",
              "      <td>-399.254314</td>\n",
              "      <td>-399.259788</td>\n",
              "      <td>-692.381204</td>\n",
              "      <td>-709.121609</td>\n",
              "      <td>-709.118631</td>\n",
              "      <td>73.064591</td>\n",
              "      <td>1.646767</td>\n",
              "    </tr>\n",
              "    <tr>\n",
              "      <th>std</th>\n",
              "      <td>72168.927986</td>\n",
              "      <td>406.345647</td>\n",
              "      <td>35.344886</td>\n",
              "      <td>40.828691</td>\n",
              "      <td>63.655682</td>\n",
              "      <td>454.480565</td>\n",
              "      <td>657.972302</td>\n",
              "      <td>453.019877</td>\n",
              "      <td>0.782911</td>\n",
              "      <td>22.273494</td>\n",
              "      <td>...</td>\n",
              "      <td>126.499506</td>\n",
              "      <td>0.977426</td>\n",
              "      <td>532.962789</td>\n",
              "      <td>489.338286</td>\n",
              "      <td>489.333883</td>\n",
              "      <td>479.875496</td>\n",
              "      <td>453.384624</td>\n",
              "      <td>453.389017</td>\n",
              "      <td>98.015662</td>\n",
              "      <td>1.875103</td>\n",
              "    </tr>\n",
              "    <tr>\n",
              "      <th>min</th>\n",
              "      <td>100000.000000</td>\n",
              "      <td>-999.000000</td>\n",
              "      <td>0.000000</td>\n",
              "      <td>6.329000</td>\n",
              "      <td>0.000000</td>\n",
              "      <td>-999.000000</td>\n",
              "      <td>-999.000000</td>\n",
              "      <td>-999.000000</td>\n",
              "      <td>0.208000</td>\n",
              "      <td>0.000000</td>\n",
              "      <td>...</td>\n",
              "      <td>13.678000</td>\n",
              "      <td>0.000000</td>\n",
              "      <td>-999.000000</td>\n",
              "      <td>-999.000000</td>\n",
              "      <td>-999.000000</td>\n",
              "      <td>-999.000000</td>\n",
              "      <td>-999.000000</td>\n",
              "      <td>-999.000000</td>\n",
              "      <td>0.000000</td>\n",
              "      <td>0.001502</td>\n",
              "    </tr>\n",
              "    <tr>\n",
              "      <th>25%</th>\n",
              "      <td>162499.750000</td>\n",
              "      <td>78.100750</td>\n",
              "      <td>19.241000</td>\n",
              "      <td>59.388750</td>\n",
              "      <td>14.068750</td>\n",
              "      <td>-999.000000</td>\n",
              "      <td>-999.000000</td>\n",
              "      <td>-999.000000</td>\n",
              "      <td>1.810000</td>\n",
              "      <td>2.841000</td>\n",
              "      <td>...</td>\n",
              "      <td>123.017500</td>\n",
              "      <td>0.000000</td>\n",
              "      <td>-999.000000</td>\n",
              "      <td>-999.000000</td>\n",
              "      <td>-999.000000</td>\n",
              "      <td>-999.000000</td>\n",
              "      <td>-999.000000</td>\n",
              "      <td>-999.000000</td>\n",
              "      <td>-0.000000</td>\n",
              "      <td>0.018636</td>\n",
              "    </tr>\n",
              "    <tr>\n",
              "      <th>50%</th>\n",
              "      <td>224999.500000</td>\n",
              "      <td>105.012000</td>\n",
              "      <td>46.524000</td>\n",
              "      <td>73.752000</td>\n",
              "      <td>38.467500</td>\n",
              "      <td>-999.000000</td>\n",
              "      <td>-999.000000</td>\n",
              "      <td>-999.000000</td>\n",
              "      <td>2.491500</td>\n",
              "      <td>12.315500</td>\n",
              "      <td>...</td>\n",
              "      <td>179.739000</td>\n",
              "      <td>1.000000</td>\n",
              "      <td>38.960000</td>\n",
              "      <td>-1.872000</td>\n",
              "      <td>-2.093000</td>\n",
              "      <td>-999.000000</td>\n",
              "      <td>-999.000000</td>\n",
              "      <td>-999.000000</td>\n",
              "      <td>40.512500</td>\n",
              "      <td>1.156188</td>\n",
              "    </tr>\n",
              "    <tr>\n",
              "      <th>75%</th>\n",
              "      <td>287499.250000</td>\n",
              "      <td>130.606250</td>\n",
              "      <td>73.598000</td>\n",
              "      <td>92.259000</td>\n",
              "      <td>79.169000</td>\n",
              "      <td>0.490000</td>\n",
              "      <td>83.446000</td>\n",
              "      <td>-4.593000</td>\n",
              "      <td>2.961000</td>\n",
              "      <td>27.591000</td>\n",
              "      <td>...</td>\n",
              "      <td>263.379250</td>\n",
              "      <td>2.000000</td>\n",
              "      <td>75.349000</td>\n",
              "      <td>0.433000</td>\n",
              "      <td>0.503000</td>\n",
              "      <td>33.703000</td>\n",
              "      <td>-2.457000</td>\n",
              "      <td>-2.275000</td>\n",
              "      <td>109.933750</td>\n",
              "      <td>2.404128</td>\n",
              "    </tr>\n",
              "    <tr>\n",
              "      <th>max</th>\n",
              "      <td>349999.000000</td>\n",
              "      <td>1192.026000</td>\n",
              "      <td>690.075000</td>\n",
              "      <td>1349.351000</td>\n",
              "      <td>2834.999000</td>\n",
              "      <td>8.503000</td>\n",
              "      <td>4974.979000</td>\n",
              "      <td>16.690000</td>\n",
              "      <td>5.684000</td>\n",
              "      <td>2834.999000</td>\n",
              "      <td>...</td>\n",
              "      <td>2003.976000</td>\n",
              "      <td>3.000000</td>\n",
              "      <td>1120.573000</td>\n",
              "      <td>4.499000</td>\n",
              "      <td>3.141000</td>\n",
              "      <td>721.456000</td>\n",
              "      <td>4.500000</td>\n",
              "      <td>3.142000</td>\n",
              "      <td>1633.433000</td>\n",
              "      <td>7.822543</td>\n",
              "    </tr>\n",
              "  </tbody>\n",
              "</table>\n",
              "<p>8 rows × 32 columns</p>\n",
              "</div>\n",
              "    <div class=\"colab-df-buttons\">\n",
              "\n",
              "  <div class=\"colab-df-container\">\n",
              "    <button class=\"colab-df-convert\" onclick=\"convertToInteractive('df-366b5eea-644b-4a08-8efa-1cf2526d2bc5')\"\n",
              "            title=\"Convert this dataframe to an interactive table.\"\n",
              "            style=\"display:none;\">\n",
              "\n",
              "  <svg xmlns=\"http://www.w3.org/2000/svg\" height=\"24px\" viewBox=\"0 -960 960 960\">\n",
              "    <path d=\"M120-120v-720h720v720H120Zm60-500h600v-160H180v160Zm220 220h160v-160H400v160Zm0 220h160v-160H400v160ZM180-400h160v-160H180v160Zm440 0h160v-160H620v160ZM180-180h160v-160H180v160Zm440 0h160v-160H620v160Z\"/>\n",
              "  </svg>\n",
              "    </button>\n",
              "\n",
              "  <style>\n",
              "    .colab-df-container {\n",
              "      display:flex;\n",
              "      gap: 12px;\n",
              "    }\n",
              "\n",
              "    .colab-df-convert {\n",
              "      background-color: #E8F0FE;\n",
              "      border: none;\n",
              "      border-radius: 50%;\n",
              "      cursor: pointer;\n",
              "      display: none;\n",
              "      fill: #1967D2;\n",
              "      height: 32px;\n",
              "      padding: 0 0 0 0;\n",
              "      width: 32px;\n",
              "    }\n",
              "\n",
              "    .colab-df-convert:hover {\n",
              "      background-color: #E2EBFA;\n",
              "      box-shadow: 0px 1px 2px rgba(60, 64, 67, 0.3), 0px 1px 3px 1px rgba(60, 64, 67, 0.15);\n",
              "      fill: #174EA6;\n",
              "    }\n",
              "\n",
              "    .colab-df-buttons div {\n",
              "      margin-bottom: 4px;\n",
              "    }\n",
              "\n",
              "    [theme=dark] .colab-df-convert {\n",
              "      background-color: #3B4455;\n",
              "      fill: #D2E3FC;\n",
              "    }\n",
              "\n",
              "    [theme=dark] .colab-df-convert:hover {\n",
              "      background-color: #434B5C;\n",
              "      box-shadow: 0px 1px 3px 1px rgba(0, 0, 0, 0.15);\n",
              "      filter: drop-shadow(0px 1px 2px rgba(0, 0, 0, 0.3));\n",
              "      fill: #FFFFFF;\n",
              "    }\n",
              "  </style>\n",
              "\n",
              "    <script>\n",
              "      const buttonEl =\n",
              "        document.querySelector('#df-366b5eea-644b-4a08-8efa-1cf2526d2bc5 button.colab-df-convert');\n",
              "      buttonEl.style.display =\n",
              "        google.colab.kernel.accessAllowed ? 'block' : 'none';\n",
              "\n",
              "      async function convertToInteractive(key) {\n",
              "        const element = document.querySelector('#df-366b5eea-644b-4a08-8efa-1cf2526d2bc5');\n",
              "        const dataTable =\n",
              "          await google.colab.kernel.invokeFunction('convertToInteractive',\n",
              "                                                    [key], {});\n",
              "        if (!dataTable) return;\n",
              "\n",
              "        const docLinkHtml = 'Like what you see? Visit the ' +\n",
              "          '<a target=\"_blank\" href=https://colab.research.google.com/notebooks/data_table.ipynb>data table notebook</a>'\n",
              "          + ' to learn more about interactive tables.';\n",
              "        element.innerHTML = '';\n",
              "        dataTable['output_type'] = 'display_data';\n",
              "        await google.colab.output.renderOutput(dataTable, element);\n",
              "        const docLink = document.createElement('div');\n",
              "        docLink.innerHTML = docLinkHtml;\n",
              "        element.appendChild(docLink);\n",
              "      }\n",
              "    </script>\n",
              "  </div>\n",
              "\n",
              "\n",
              "<div id=\"df-68d6de49-be4c-4675-bf3e-7ed3e40982ff\">\n",
              "  <button class=\"colab-df-quickchart\" onclick=\"quickchart('df-68d6de49-be4c-4675-bf3e-7ed3e40982ff')\"\n",
              "            title=\"Suggest charts\"\n",
              "            style=\"display:none;\">\n",
              "\n",
              "<svg xmlns=\"http://www.w3.org/2000/svg\" height=\"24px\"viewBox=\"0 0 24 24\"\n",
              "     width=\"24px\">\n",
              "    <g>\n",
              "        <path d=\"M19 3H5c-1.1 0-2 .9-2 2v14c0 1.1.9 2 2 2h14c1.1 0 2-.9 2-2V5c0-1.1-.9-2-2-2zM9 17H7v-7h2v7zm4 0h-2V7h2v10zm4 0h-2v-4h2v4z\"/>\n",
              "    </g>\n",
              "</svg>\n",
              "  </button>\n",
              "\n",
              "<style>\n",
              "  .colab-df-quickchart {\n",
              "      --bg-color: #E8F0FE;\n",
              "      --fill-color: #1967D2;\n",
              "      --hover-bg-color: #E2EBFA;\n",
              "      --hover-fill-color: #174EA6;\n",
              "      --disabled-fill-color: #AAA;\n",
              "      --disabled-bg-color: #DDD;\n",
              "  }\n",
              "\n",
              "  [theme=dark] .colab-df-quickchart {\n",
              "      --bg-color: #3B4455;\n",
              "      --fill-color: #D2E3FC;\n",
              "      --hover-bg-color: #434B5C;\n",
              "      --hover-fill-color: #FFFFFF;\n",
              "      --disabled-bg-color: #3B4455;\n",
              "      --disabled-fill-color: #666;\n",
              "  }\n",
              "\n",
              "  .colab-df-quickchart {\n",
              "    background-color: var(--bg-color);\n",
              "    border: none;\n",
              "    border-radius: 50%;\n",
              "    cursor: pointer;\n",
              "    display: none;\n",
              "    fill: var(--fill-color);\n",
              "    height: 32px;\n",
              "    padding: 0;\n",
              "    width: 32px;\n",
              "  }\n",
              "\n",
              "  .colab-df-quickchart:hover {\n",
              "    background-color: var(--hover-bg-color);\n",
              "    box-shadow: 0 1px 2px rgba(60, 64, 67, 0.3), 0 1px 3px 1px rgba(60, 64, 67, 0.15);\n",
              "    fill: var(--button-hover-fill-color);\n",
              "  }\n",
              "\n",
              "  .colab-df-quickchart-complete:disabled,\n",
              "  .colab-df-quickchart-complete:disabled:hover {\n",
              "    background-color: var(--disabled-bg-color);\n",
              "    fill: var(--disabled-fill-color);\n",
              "    box-shadow: none;\n",
              "  }\n",
              "\n",
              "  .colab-df-spinner {\n",
              "    border: 2px solid var(--fill-color);\n",
              "    border-color: transparent;\n",
              "    border-bottom-color: var(--fill-color);\n",
              "    animation:\n",
              "      spin 1s steps(1) infinite;\n",
              "  }\n",
              "\n",
              "  @keyframes spin {\n",
              "    0% {\n",
              "      border-color: transparent;\n",
              "      border-bottom-color: var(--fill-color);\n",
              "      border-left-color: var(--fill-color);\n",
              "    }\n",
              "    20% {\n",
              "      border-color: transparent;\n",
              "      border-left-color: var(--fill-color);\n",
              "      border-top-color: var(--fill-color);\n",
              "    }\n",
              "    30% {\n",
              "      border-color: transparent;\n",
              "      border-left-color: var(--fill-color);\n",
              "      border-top-color: var(--fill-color);\n",
              "      border-right-color: var(--fill-color);\n",
              "    }\n",
              "    40% {\n",
              "      border-color: transparent;\n",
              "      border-right-color: var(--fill-color);\n",
              "      border-top-color: var(--fill-color);\n",
              "    }\n",
              "    60% {\n",
              "      border-color: transparent;\n",
              "      border-right-color: var(--fill-color);\n",
              "    }\n",
              "    80% {\n",
              "      border-color: transparent;\n",
              "      border-right-color: var(--fill-color);\n",
              "      border-bottom-color: var(--fill-color);\n",
              "    }\n",
              "    90% {\n",
              "      border-color: transparent;\n",
              "      border-bottom-color: var(--fill-color);\n",
              "    }\n",
              "  }\n",
              "</style>\n",
              "\n",
              "  <script>\n",
              "    async function quickchart(key) {\n",
              "      const quickchartButtonEl =\n",
              "        document.querySelector('#' + key + ' button');\n",
              "      quickchartButtonEl.disabled = true;  // To prevent multiple clicks.\n",
              "      quickchartButtonEl.classList.add('colab-df-spinner');\n",
              "      try {\n",
              "        const charts = await google.colab.kernel.invokeFunction(\n",
              "            'suggestCharts', [key], {});\n",
              "      } catch (error) {\n",
              "        console.error('Error during call to suggestCharts:', error);\n",
              "      }\n",
              "      quickchartButtonEl.classList.remove('colab-df-spinner');\n",
              "      quickchartButtonEl.classList.add('colab-df-quickchart-complete');\n",
              "    }\n",
              "    (() => {\n",
              "      let quickchartButtonEl =\n",
              "        document.querySelector('#df-68d6de49-be4c-4675-bf3e-7ed3e40982ff button');\n",
              "      quickchartButtonEl.style.display =\n",
              "        google.colab.kernel.accessAllowed ? 'block' : 'none';\n",
              "    })();\n",
              "  </script>\n",
              "</div>\n",
              "    </div>\n",
              "  </div>\n"
            ]
          },
          "metadata": {},
          "execution_count": 18
        }
      ]
    },
    {
      "cell_type": "code",
      "source": [
        "higgsdata.mean()"
      ],
      "metadata": {
        "colab": {
          "base_uri": "https://localhost:8080/"
        },
        "id": "8ixql7gwfrY_",
        "outputId": "2d217bbb-13f7-4f21-92b4-ed162e1580d9"
      },
      "execution_count": 19,
      "outputs": [
        {
          "output_type": "stream",
          "name": "stderr",
          "text": [
            "<ipython-input-19-cf5af3986e51>:1: FutureWarning: The default value of numeric_only in DataFrame.mean is deprecated. In a future version, it will default to False. In addition, specifying 'numeric_only=None' is deprecated. Select only valid columns or specify the value of numeric_only to silence this warning.\n",
            "  higgsdata.mean()\n"
          ]
        },
        {
          "output_type": "execute_result",
          "data": {
            "text/plain": [
              "EventId                        224999.500000\n",
              "DER_mass_MMC                      -49.023079\n",
              "DER_mass_transverse_met_lep        49.239819\n",
              "DER_mass_vis                       81.181982\n",
              "DER_pt_h                           57.895962\n",
              "DER_deltaeta_jet_jet             -708.420675\n",
              "DER_mass_jet_jet                 -601.237051\n",
              "DER_prodeta_jet_jet              -709.356603\n",
              "DER_deltar_tau_lep                  2.373100\n",
              "DER_pt_tot                         18.917332\n",
              "DER_sum_pt                        158.432217\n",
              "DER_pt_ratio_lep_tau                1.437609\n",
              "DER_met_phi_centrality             -0.128305\n",
              "DER_lep_eta_centrality           -708.985189\n",
              "PRI_tau_pt                         38.707419\n",
              "PRI_tau_eta                        -0.010973\n",
              "PRI_tau_phi                        -0.008171\n",
              "PRI_lep_pt                         46.660207\n",
              "PRI_lep_eta                        -0.019507\n",
              "PRI_lep_phi                         0.043543\n",
              "PRI_met                            41.717235\n",
              "PRI_met_phi                        -0.010119\n",
              "PRI_met_sumet                     209.797178\n",
              "PRI_jet_num                         0.979176\n",
              "PRI_jet_leading_pt               -348.329567\n",
              "PRI_jet_leading_eta              -399.254314\n",
              "PRI_jet_leading_phi              -399.259788\n",
              "PRI_jet_subleading_pt            -692.381204\n",
              "PRI_jet_subleading_eta           -709.121609\n",
              "PRI_jet_subleading_phi           -709.118631\n",
              "PRI_jet_all_pt                     73.064591\n",
              "Weight                              1.646767\n",
              "dtype: float64"
            ]
          },
          "metadata": {},
          "execution_count": 19
        }
      ]
    },
    {
      "cell_type": "markdown",
      "source": [
        "The columns with negative means have a lot of -999 values. First, I will remove the 5 columns with means below -700. Then I will try using broadcasting to remove the remaining rows with -999 values."
      ],
      "metadata": {
        "id": "XrkmJ0qOr6Ik"
      }
    },
    {
      "cell_type": "code",
      "source": [
        "higgsdata_new = higgsdata.drop(labels= ['DER_deltaeta_jet_jet', 'DER_prodeta_jet_jet', 'PRI_jet_subleading_eta','PRI_jet_subleading_phi','DER_lep_eta_centrality'], axis = 1)\n"
      ],
      "metadata": {
        "id": "EI0f1H-W6kxJ"
      },
      "execution_count": 20,
      "outputs": []
    },
    {
      "cell_type": "code",
      "source": [
        "higgsdata_new.mean()"
      ],
      "metadata": {
        "colab": {
          "base_uri": "https://localhost:8080/"
        },
        "id": "7F5D5QVp8ww-",
        "outputId": "19e5c0e9-bef7-40c8-a29f-d69f52dc058e"
      },
      "execution_count": 21,
      "outputs": [
        {
          "output_type": "stream",
          "name": "stderr",
          "text": [
            "<ipython-input-21-3514202b71b4>:1: FutureWarning: The default value of numeric_only in DataFrame.mean is deprecated. In a future version, it will default to False. In addition, specifying 'numeric_only=None' is deprecated. Select only valid columns or specify the value of numeric_only to silence this warning.\n",
            "  higgsdata_new.mean()\n"
          ]
        },
        {
          "output_type": "execute_result",
          "data": {
            "text/plain": [
              "EventId                        224999.500000\n",
              "DER_mass_MMC                      -49.023079\n",
              "DER_mass_transverse_met_lep        49.239819\n",
              "DER_mass_vis                       81.181982\n",
              "DER_pt_h                           57.895962\n",
              "DER_mass_jet_jet                 -601.237051\n",
              "DER_deltar_tau_lep                  2.373100\n",
              "DER_pt_tot                         18.917332\n",
              "DER_sum_pt                        158.432217\n",
              "DER_pt_ratio_lep_tau                1.437609\n",
              "DER_met_phi_centrality             -0.128305\n",
              "PRI_tau_pt                         38.707419\n",
              "PRI_tau_eta                        -0.010973\n",
              "PRI_tau_phi                        -0.008171\n",
              "PRI_lep_pt                         46.660207\n",
              "PRI_lep_eta                        -0.019507\n",
              "PRI_lep_phi                         0.043543\n",
              "PRI_met                            41.717235\n",
              "PRI_met_phi                        -0.010119\n",
              "PRI_met_sumet                     209.797178\n",
              "PRI_jet_num                         0.979176\n",
              "PRI_jet_leading_pt               -348.329567\n",
              "PRI_jet_leading_eta              -399.254314\n",
              "PRI_jet_leading_phi              -399.259788\n",
              "PRI_jet_subleading_pt            -692.381204\n",
              "PRI_jet_all_pt                     73.064591\n",
              "Weight                              1.646767\n",
              "dtype: float64"
            ]
          },
          "metadata": {},
          "execution_count": 21
        }
      ]
    },
    {
      "cell_type": "markdown",
      "source": [
        "PRI_jet_subleading_pt has the most remaining -999 values, so I will use that column to broadcast into a new array after removing the -999 values."
      ],
      "metadata": {
        "id": "3t_a35JWgw0c"
      }
    },
    {
      "cell_type": "code",
      "source": [
        "higgsdata_final = higgsdata_new[higgsdata_new['PRI_jet_subleading_pt'] != -999]\n",
        "\n",
        "higgsdata_final.head()"
      ],
      "metadata": {
        "colab": {
          "base_uri": "https://localhost:8080/",
          "height": 253
        },
        "id": "jq8NZLFogNf9",
        "outputId": "ffb4d5e4-3669-496b-c5fd-e043419e668c"
      },
      "execution_count": 22,
      "outputs": [
        {
          "output_type": "execute_result",
          "data": {
            "text/plain": [
              "    EventId  DER_mass_MMC  DER_mass_transverse_met_lep  DER_mass_vis  \\\n",
              "0    100000       138.470                       51.655        97.827   \n",
              "5    100005        89.744                       13.550        59.149   \n",
              "6    100006       148.754                       28.862       107.782   \n",
              "11   100011       114.744                       10.286        75.712   \n",
              "23   100023       141.481                        0.736       111.581   \n",
              "\n",
              "    DER_pt_h  DER_mass_jet_jet  DER_deltar_tau_lep  DER_pt_tot  DER_sum_pt  \\\n",
              "0     27.980           124.711               3.064      41.928     197.760   \n",
              "5    116.344           284.584               1.362      61.619     278.876   \n",
              "6    106.130           158.359               2.941       2.545     305.967   \n",
              "11    30.816           252.599               2.888      36.745     239.804   \n",
              "23   174.075           364.344               1.335       6.663     440.859   \n",
              "\n",
              "    DER_pt_ratio_lep_tau  ...  PRI_met_phi  PRI_met_sumet  PRI_jet_num  \\\n",
              "0                  1.582  ...       -0.277        258.733            2   \n",
              "5                  0.588  ...        2.237        282.849            3   \n",
              "6                  3.371  ...       -1.443        294.074            2   \n",
              "11                 1.061  ...        2.148        290.547            3   \n",
              "23                 0.652  ...       -0.973        454.785            2   \n",
              "\n",
              "    PRI_jet_leading_pt  PRI_jet_leading_eta  PRI_jet_leading_phi  \\\n",
              "0               67.435                2.150                0.444   \n",
              "5               90.547               -2.412               -0.653   \n",
              "6              123.010                0.864                1.450   \n",
              "11              76.773               -0.790                0.303   \n",
              "23             195.533                1.156                1.416   \n",
              "\n",
              "    PRI_jet_subleading_pt  PRI_jet_all_pt    Weight  Label  \n",
              "0                  46.062         113.497  0.002653      s  \n",
              "5                  56.165         193.660  0.083414      b  \n",
              "6                  56.867         179.877  0.002653      s  \n",
              "11                 56.876         165.640  0.307170      b  \n",
              "23                 82.477         278.009  0.001503      s  \n",
              "\n",
              "[5 rows x 28 columns]"
            ],
            "text/html": [
              "\n",
              "  <div id=\"df-561870d3-489c-41c7-b8a6-242da1795f01\" class=\"colab-df-container\">\n",
              "    <div>\n",
              "<style scoped>\n",
              "    .dataframe tbody tr th:only-of-type {\n",
              "        vertical-align: middle;\n",
              "    }\n",
              "\n",
              "    .dataframe tbody tr th {\n",
              "        vertical-align: top;\n",
              "    }\n",
              "\n",
              "    .dataframe thead th {\n",
              "        text-align: right;\n",
              "    }\n",
              "</style>\n",
              "<table border=\"1\" class=\"dataframe\">\n",
              "  <thead>\n",
              "    <tr style=\"text-align: right;\">\n",
              "      <th></th>\n",
              "      <th>EventId</th>\n",
              "      <th>DER_mass_MMC</th>\n",
              "      <th>DER_mass_transverse_met_lep</th>\n",
              "      <th>DER_mass_vis</th>\n",
              "      <th>DER_pt_h</th>\n",
              "      <th>DER_mass_jet_jet</th>\n",
              "      <th>DER_deltar_tau_lep</th>\n",
              "      <th>DER_pt_tot</th>\n",
              "      <th>DER_sum_pt</th>\n",
              "      <th>DER_pt_ratio_lep_tau</th>\n",
              "      <th>...</th>\n",
              "      <th>PRI_met_phi</th>\n",
              "      <th>PRI_met_sumet</th>\n",
              "      <th>PRI_jet_num</th>\n",
              "      <th>PRI_jet_leading_pt</th>\n",
              "      <th>PRI_jet_leading_eta</th>\n",
              "      <th>PRI_jet_leading_phi</th>\n",
              "      <th>PRI_jet_subleading_pt</th>\n",
              "      <th>PRI_jet_all_pt</th>\n",
              "      <th>Weight</th>\n",
              "      <th>Label</th>\n",
              "    </tr>\n",
              "  </thead>\n",
              "  <tbody>\n",
              "    <tr>\n",
              "      <th>0</th>\n",
              "      <td>100000</td>\n",
              "      <td>138.470</td>\n",
              "      <td>51.655</td>\n",
              "      <td>97.827</td>\n",
              "      <td>27.980</td>\n",
              "      <td>124.711</td>\n",
              "      <td>3.064</td>\n",
              "      <td>41.928</td>\n",
              "      <td>197.760</td>\n",
              "      <td>1.582</td>\n",
              "      <td>...</td>\n",
              "      <td>-0.277</td>\n",
              "      <td>258.733</td>\n",
              "      <td>2</td>\n",
              "      <td>67.435</td>\n",
              "      <td>2.150</td>\n",
              "      <td>0.444</td>\n",
              "      <td>46.062</td>\n",
              "      <td>113.497</td>\n",
              "      <td>0.002653</td>\n",
              "      <td>s</td>\n",
              "    </tr>\n",
              "    <tr>\n",
              "      <th>5</th>\n",
              "      <td>100005</td>\n",
              "      <td>89.744</td>\n",
              "      <td>13.550</td>\n",
              "      <td>59.149</td>\n",
              "      <td>116.344</td>\n",
              "      <td>284.584</td>\n",
              "      <td>1.362</td>\n",
              "      <td>61.619</td>\n",
              "      <td>278.876</td>\n",
              "      <td>0.588</td>\n",
              "      <td>...</td>\n",
              "      <td>2.237</td>\n",
              "      <td>282.849</td>\n",
              "      <td>3</td>\n",
              "      <td>90.547</td>\n",
              "      <td>-2.412</td>\n",
              "      <td>-0.653</td>\n",
              "      <td>56.165</td>\n",
              "      <td>193.660</td>\n",
              "      <td>0.083414</td>\n",
              "      <td>b</td>\n",
              "    </tr>\n",
              "    <tr>\n",
              "      <th>6</th>\n",
              "      <td>100006</td>\n",
              "      <td>148.754</td>\n",
              "      <td>28.862</td>\n",
              "      <td>107.782</td>\n",
              "      <td>106.130</td>\n",
              "      <td>158.359</td>\n",
              "      <td>2.941</td>\n",
              "      <td>2.545</td>\n",
              "      <td>305.967</td>\n",
              "      <td>3.371</td>\n",
              "      <td>...</td>\n",
              "      <td>-1.443</td>\n",
              "      <td>294.074</td>\n",
              "      <td>2</td>\n",
              "      <td>123.010</td>\n",
              "      <td>0.864</td>\n",
              "      <td>1.450</td>\n",
              "      <td>56.867</td>\n",
              "      <td>179.877</td>\n",
              "      <td>0.002653</td>\n",
              "      <td>s</td>\n",
              "    </tr>\n",
              "    <tr>\n",
              "      <th>11</th>\n",
              "      <td>100011</td>\n",
              "      <td>114.744</td>\n",
              "      <td>10.286</td>\n",
              "      <td>75.712</td>\n",
              "      <td>30.816</td>\n",
              "      <td>252.599</td>\n",
              "      <td>2.888</td>\n",
              "      <td>36.745</td>\n",
              "      <td>239.804</td>\n",
              "      <td>1.061</td>\n",
              "      <td>...</td>\n",
              "      <td>2.148</td>\n",
              "      <td>290.547</td>\n",
              "      <td>3</td>\n",
              "      <td>76.773</td>\n",
              "      <td>-0.790</td>\n",
              "      <td>0.303</td>\n",
              "      <td>56.876</td>\n",
              "      <td>165.640</td>\n",
              "      <td>0.307170</td>\n",
              "      <td>b</td>\n",
              "    </tr>\n",
              "    <tr>\n",
              "      <th>23</th>\n",
              "      <td>100023</td>\n",
              "      <td>141.481</td>\n",
              "      <td>0.736</td>\n",
              "      <td>111.581</td>\n",
              "      <td>174.075</td>\n",
              "      <td>364.344</td>\n",
              "      <td>1.335</td>\n",
              "      <td>6.663</td>\n",
              "      <td>440.859</td>\n",
              "      <td>0.652</td>\n",
              "      <td>...</td>\n",
              "      <td>-0.973</td>\n",
              "      <td>454.785</td>\n",
              "      <td>2</td>\n",
              "      <td>195.533</td>\n",
              "      <td>1.156</td>\n",
              "      <td>1.416</td>\n",
              "      <td>82.477</td>\n",
              "      <td>278.009</td>\n",
              "      <td>0.001503</td>\n",
              "      <td>s</td>\n",
              "    </tr>\n",
              "  </tbody>\n",
              "</table>\n",
              "<p>5 rows × 28 columns</p>\n",
              "</div>\n",
              "    <div class=\"colab-df-buttons\">\n",
              "\n",
              "  <div class=\"colab-df-container\">\n",
              "    <button class=\"colab-df-convert\" onclick=\"convertToInteractive('df-561870d3-489c-41c7-b8a6-242da1795f01')\"\n",
              "            title=\"Convert this dataframe to an interactive table.\"\n",
              "            style=\"display:none;\">\n",
              "\n",
              "  <svg xmlns=\"http://www.w3.org/2000/svg\" height=\"24px\" viewBox=\"0 -960 960 960\">\n",
              "    <path d=\"M120-120v-720h720v720H120Zm60-500h600v-160H180v160Zm220 220h160v-160H400v160Zm0 220h160v-160H400v160ZM180-400h160v-160H180v160Zm440 0h160v-160H620v160ZM180-180h160v-160H180v160Zm440 0h160v-160H620v160Z\"/>\n",
              "  </svg>\n",
              "    </button>\n",
              "\n",
              "  <style>\n",
              "    .colab-df-container {\n",
              "      display:flex;\n",
              "      gap: 12px;\n",
              "    }\n",
              "\n",
              "    .colab-df-convert {\n",
              "      background-color: #E8F0FE;\n",
              "      border: none;\n",
              "      border-radius: 50%;\n",
              "      cursor: pointer;\n",
              "      display: none;\n",
              "      fill: #1967D2;\n",
              "      height: 32px;\n",
              "      padding: 0 0 0 0;\n",
              "      width: 32px;\n",
              "    }\n",
              "\n",
              "    .colab-df-convert:hover {\n",
              "      background-color: #E2EBFA;\n",
              "      box-shadow: 0px 1px 2px rgba(60, 64, 67, 0.3), 0px 1px 3px 1px rgba(60, 64, 67, 0.15);\n",
              "      fill: #174EA6;\n",
              "    }\n",
              "\n",
              "    .colab-df-buttons div {\n",
              "      margin-bottom: 4px;\n",
              "    }\n",
              "\n",
              "    [theme=dark] .colab-df-convert {\n",
              "      background-color: #3B4455;\n",
              "      fill: #D2E3FC;\n",
              "    }\n",
              "\n",
              "    [theme=dark] .colab-df-convert:hover {\n",
              "      background-color: #434B5C;\n",
              "      box-shadow: 0px 1px 3px 1px rgba(0, 0, 0, 0.15);\n",
              "      filter: drop-shadow(0px 1px 2px rgba(0, 0, 0, 0.3));\n",
              "      fill: #FFFFFF;\n",
              "    }\n",
              "  </style>\n",
              "\n",
              "    <script>\n",
              "      const buttonEl =\n",
              "        document.querySelector('#df-561870d3-489c-41c7-b8a6-242da1795f01 button.colab-df-convert');\n",
              "      buttonEl.style.display =\n",
              "        google.colab.kernel.accessAllowed ? 'block' : 'none';\n",
              "\n",
              "      async function convertToInteractive(key) {\n",
              "        const element = document.querySelector('#df-561870d3-489c-41c7-b8a6-242da1795f01');\n",
              "        const dataTable =\n",
              "          await google.colab.kernel.invokeFunction('convertToInteractive',\n",
              "                                                    [key], {});\n",
              "        if (!dataTable) return;\n",
              "\n",
              "        const docLinkHtml = 'Like what you see? Visit the ' +\n",
              "          '<a target=\"_blank\" href=https://colab.research.google.com/notebooks/data_table.ipynb>data table notebook</a>'\n",
              "          + ' to learn more about interactive tables.';\n",
              "        element.innerHTML = '';\n",
              "        dataTable['output_type'] = 'display_data';\n",
              "        await google.colab.output.renderOutput(dataTable, element);\n",
              "        const docLink = document.createElement('div');\n",
              "        docLink.innerHTML = docLinkHtml;\n",
              "        element.appendChild(docLink);\n",
              "      }\n",
              "    </script>\n",
              "  </div>\n",
              "\n",
              "\n",
              "<div id=\"df-593e2d30-fe45-4018-a1c9-8d8a19cd08d7\">\n",
              "  <button class=\"colab-df-quickchart\" onclick=\"quickchart('df-593e2d30-fe45-4018-a1c9-8d8a19cd08d7')\"\n",
              "            title=\"Suggest charts\"\n",
              "            style=\"display:none;\">\n",
              "\n",
              "<svg xmlns=\"http://www.w3.org/2000/svg\" height=\"24px\"viewBox=\"0 0 24 24\"\n",
              "     width=\"24px\">\n",
              "    <g>\n",
              "        <path d=\"M19 3H5c-1.1 0-2 .9-2 2v14c0 1.1.9 2 2 2h14c1.1 0 2-.9 2-2V5c0-1.1-.9-2-2-2zM9 17H7v-7h2v7zm4 0h-2V7h2v10zm4 0h-2v-4h2v4z\"/>\n",
              "    </g>\n",
              "</svg>\n",
              "  </button>\n",
              "\n",
              "<style>\n",
              "  .colab-df-quickchart {\n",
              "      --bg-color: #E8F0FE;\n",
              "      --fill-color: #1967D2;\n",
              "      --hover-bg-color: #E2EBFA;\n",
              "      --hover-fill-color: #174EA6;\n",
              "      --disabled-fill-color: #AAA;\n",
              "      --disabled-bg-color: #DDD;\n",
              "  }\n",
              "\n",
              "  [theme=dark] .colab-df-quickchart {\n",
              "      --bg-color: #3B4455;\n",
              "      --fill-color: #D2E3FC;\n",
              "      --hover-bg-color: #434B5C;\n",
              "      --hover-fill-color: #FFFFFF;\n",
              "      --disabled-bg-color: #3B4455;\n",
              "      --disabled-fill-color: #666;\n",
              "  }\n",
              "\n",
              "  .colab-df-quickchart {\n",
              "    background-color: var(--bg-color);\n",
              "    border: none;\n",
              "    border-radius: 50%;\n",
              "    cursor: pointer;\n",
              "    display: none;\n",
              "    fill: var(--fill-color);\n",
              "    height: 32px;\n",
              "    padding: 0;\n",
              "    width: 32px;\n",
              "  }\n",
              "\n",
              "  .colab-df-quickchart:hover {\n",
              "    background-color: var(--hover-bg-color);\n",
              "    box-shadow: 0 1px 2px rgba(60, 64, 67, 0.3), 0 1px 3px 1px rgba(60, 64, 67, 0.15);\n",
              "    fill: var(--button-hover-fill-color);\n",
              "  }\n",
              "\n",
              "  .colab-df-quickchart-complete:disabled,\n",
              "  .colab-df-quickchart-complete:disabled:hover {\n",
              "    background-color: var(--disabled-bg-color);\n",
              "    fill: var(--disabled-fill-color);\n",
              "    box-shadow: none;\n",
              "  }\n",
              "\n",
              "  .colab-df-spinner {\n",
              "    border: 2px solid var(--fill-color);\n",
              "    border-color: transparent;\n",
              "    border-bottom-color: var(--fill-color);\n",
              "    animation:\n",
              "      spin 1s steps(1) infinite;\n",
              "  }\n",
              "\n",
              "  @keyframes spin {\n",
              "    0% {\n",
              "      border-color: transparent;\n",
              "      border-bottom-color: var(--fill-color);\n",
              "      border-left-color: var(--fill-color);\n",
              "    }\n",
              "    20% {\n",
              "      border-color: transparent;\n",
              "      border-left-color: var(--fill-color);\n",
              "      border-top-color: var(--fill-color);\n",
              "    }\n",
              "    30% {\n",
              "      border-color: transparent;\n",
              "      border-left-color: var(--fill-color);\n",
              "      border-top-color: var(--fill-color);\n",
              "      border-right-color: var(--fill-color);\n",
              "    }\n",
              "    40% {\n",
              "      border-color: transparent;\n",
              "      border-right-color: var(--fill-color);\n",
              "      border-top-color: var(--fill-color);\n",
              "    }\n",
              "    60% {\n",
              "      border-color: transparent;\n",
              "      border-right-color: var(--fill-color);\n",
              "    }\n",
              "    80% {\n",
              "      border-color: transparent;\n",
              "      border-right-color: var(--fill-color);\n",
              "      border-bottom-color: var(--fill-color);\n",
              "    }\n",
              "    90% {\n",
              "      border-color: transparent;\n",
              "      border-bottom-color: var(--fill-color);\n",
              "    }\n",
              "  }\n",
              "</style>\n",
              "\n",
              "  <script>\n",
              "    async function quickchart(key) {\n",
              "      const quickchartButtonEl =\n",
              "        document.querySelector('#' + key + ' button');\n",
              "      quickchartButtonEl.disabled = true;  // To prevent multiple clicks.\n",
              "      quickchartButtonEl.classList.add('colab-df-spinner');\n",
              "      try {\n",
              "        const charts = await google.colab.kernel.invokeFunction(\n",
              "            'suggestCharts', [key], {});\n",
              "      } catch (error) {\n",
              "        console.error('Error during call to suggestCharts:', error);\n",
              "      }\n",
              "      quickchartButtonEl.classList.remove('colab-df-spinner');\n",
              "      quickchartButtonEl.classList.add('colab-df-quickchart-complete');\n",
              "    }\n",
              "    (() => {\n",
              "      let quickchartButtonEl =\n",
              "        document.querySelector('#df-593e2d30-fe45-4018-a1c9-8d8a19cd08d7 button');\n",
              "      quickchartButtonEl.style.display =\n",
              "        google.colab.kernel.accessAllowed ? 'block' : 'none';\n",
              "    })();\n",
              "  </script>\n",
              "</div>\n",
              "    </div>\n",
              "  </div>\n"
            ]
          },
          "metadata": {},
          "execution_count": 22
        }
      ]
    },
    {
      "cell_type": "code",
      "source": [
        "higgsdata_final.describe()"
      ],
      "metadata": {
        "colab": {
          "base_uri": "https://localhost:8080/",
          "height": 346
        },
        "id": "WxHdaDKUhV3l",
        "outputId": "7d93d3d6-2e86-4210-caab-eb09135779f2"
      },
      "execution_count": 23,
      "outputs": [
        {
          "output_type": "execute_result",
          "data": {
            "text/plain": [
              "             EventId  DER_mass_MMC  DER_mass_transverse_met_lep  DER_mass_vis  \\\n",
              "count   72543.000000  72543.000000                 72543.000000  72543.000000   \n",
              "mean   224992.269950     54.325443                    39.497470     79.125409   \n",
              "std     72245.756941    274.971728                    36.194358     42.823701   \n",
              "min    100000.000000   -999.000000                     0.000000      7.330000   \n",
              "25%    162291.500000     89.206000                    12.138500     57.148000   \n",
              "50%    225073.000000    110.620000                    29.620000     71.071000   \n",
              "75%    287673.000000    131.880500                    58.105000     89.096000   \n",
              "max    349994.000000    988.199000                   690.075000   1329.913000   \n",
              "\n",
              "           DER_pt_h  DER_mass_jet_jet  DER_deltar_tau_lep    DER_pt_tot  \\\n",
              "count  72543.000000      72543.000000        72543.000000  72543.000000   \n",
              "mean     110.037042        371.783360            2.006838     28.361513   \n",
              "std       75.592286        397.699325            0.784920     29.784435   \n",
              "min        0.120000         13.602000            0.228000      0.004000   \n",
              "25%       57.128500        111.977000            1.400000      4.403000   \n",
              "50%       93.352000        225.885000            1.951000     23.033000   \n",
              "75%      143.832500        478.226000            2.593000     40.098500   \n",
              "max     1053.807000       4974.979000            5.579000    513.659000   \n",
              "\n",
              "         DER_sum_pt  DER_pt_ratio_lep_tau  ...       PRI_met   PRI_met_phi  \\\n",
              "count  72543.000000          72543.000000  ...  72543.000000  72543.000000   \n",
              "mean     280.066431              1.492347  ...     57.442476      0.004757   \n",
              "std      129.205164              1.105309  ...     43.697586      1.814082   \n",
              "min      110.601000              0.047000  ...      0.200000     -3.142000   \n",
              "25%      192.146500              0.771000  ...     28.164500     -1.556000   \n",
              "50%      245.653000              1.218000  ...     46.739000      0.001000   \n",
              "75%      329.174000              1.867000  ...     73.854500      1.572000   \n",
              "max     1852.462000             19.773000  ...    951.363000      3.142000   \n",
              "\n",
              "       PRI_met_sumet   PRI_jet_num  PRI_jet_leading_pt  PRI_jet_leading_eta  \\\n",
              "count   72543.000000  72543.000000        72543.000000         72543.000000   \n",
              "mean      332.320727      2.305529          105.997712            -0.005919   \n",
              "std       139.051264      0.460634           67.573418             1.744084   \n",
              "min        22.710000      2.000000           30.196000            -4.497000   \n",
              "25%       237.659500      2.000000           60.426500            -1.337000   \n",
              "50%       303.269000      2.000000           86.587000             0.002000   \n",
              "75%       393.723000      3.000000          129.746000             1.324000   \n",
              "max      2003.976000      3.000000         1120.573000             4.499000   \n",
              "\n",
              "       PRI_jet_leading_phi  PRI_jet_subleading_pt  PRI_jet_all_pt  \\\n",
              "count         72543.000000           72543.000000    72543.000000   \n",
              "mean             -0.009550              57.679474      182.303526   \n",
              "std               1.808954              31.985782      107.581171   \n",
              "min              -3.142000              30.000000       60.223000   \n",
              "25%              -1.573000              37.312000      108.947000   \n",
              "50%              -0.028000              47.902000      153.187000   \n",
              "75%               1.561000              66.637000      222.205500   \n",
              "max               3.141000             721.456000     1633.433000   \n",
              "\n",
              "             Weight  \n",
              "count  72543.000000  \n",
              "mean       0.487611  \n",
              "std        0.783589  \n",
              "min        0.001502  \n",
              "25%        0.001503  \n",
              "50%        0.071357  \n",
              "75%        0.744056  \n",
              "max        7.805035  \n",
              "\n",
              "[8 rows x 27 columns]"
            ],
            "text/html": [
              "\n",
              "  <div id=\"df-d1d91ed5-ff2d-40e3-a5d8-f03e87bb93c1\" class=\"colab-df-container\">\n",
              "    <div>\n",
              "<style scoped>\n",
              "    .dataframe tbody tr th:only-of-type {\n",
              "        vertical-align: middle;\n",
              "    }\n",
              "\n",
              "    .dataframe tbody tr th {\n",
              "        vertical-align: top;\n",
              "    }\n",
              "\n",
              "    .dataframe thead th {\n",
              "        text-align: right;\n",
              "    }\n",
              "</style>\n",
              "<table border=\"1\" class=\"dataframe\">\n",
              "  <thead>\n",
              "    <tr style=\"text-align: right;\">\n",
              "      <th></th>\n",
              "      <th>EventId</th>\n",
              "      <th>DER_mass_MMC</th>\n",
              "      <th>DER_mass_transverse_met_lep</th>\n",
              "      <th>DER_mass_vis</th>\n",
              "      <th>DER_pt_h</th>\n",
              "      <th>DER_mass_jet_jet</th>\n",
              "      <th>DER_deltar_tau_lep</th>\n",
              "      <th>DER_pt_tot</th>\n",
              "      <th>DER_sum_pt</th>\n",
              "      <th>DER_pt_ratio_lep_tau</th>\n",
              "      <th>...</th>\n",
              "      <th>PRI_met</th>\n",
              "      <th>PRI_met_phi</th>\n",
              "      <th>PRI_met_sumet</th>\n",
              "      <th>PRI_jet_num</th>\n",
              "      <th>PRI_jet_leading_pt</th>\n",
              "      <th>PRI_jet_leading_eta</th>\n",
              "      <th>PRI_jet_leading_phi</th>\n",
              "      <th>PRI_jet_subleading_pt</th>\n",
              "      <th>PRI_jet_all_pt</th>\n",
              "      <th>Weight</th>\n",
              "    </tr>\n",
              "  </thead>\n",
              "  <tbody>\n",
              "    <tr>\n",
              "      <th>count</th>\n",
              "      <td>72543.000000</td>\n",
              "      <td>72543.000000</td>\n",
              "      <td>72543.000000</td>\n",
              "      <td>72543.000000</td>\n",
              "      <td>72543.000000</td>\n",
              "      <td>72543.000000</td>\n",
              "      <td>72543.000000</td>\n",
              "      <td>72543.000000</td>\n",
              "      <td>72543.000000</td>\n",
              "      <td>72543.000000</td>\n",
              "      <td>...</td>\n",
              "      <td>72543.000000</td>\n",
              "      <td>72543.000000</td>\n",
              "      <td>72543.000000</td>\n",
              "      <td>72543.000000</td>\n",
              "      <td>72543.000000</td>\n",
              "      <td>72543.000000</td>\n",
              "      <td>72543.000000</td>\n",
              "      <td>72543.000000</td>\n",
              "      <td>72543.000000</td>\n",
              "      <td>72543.000000</td>\n",
              "    </tr>\n",
              "    <tr>\n",
              "      <th>mean</th>\n",
              "      <td>224992.269950</td>\n",
              "      <td>54.325443</td>\n",
              "      <td>39.497470</td>\n",
              "      <td>79.125409</td>\n",
              "      <td>110.037042</td>\n",
              "      <td>371.783360</td>\n",
              "      <td>2.006838</td>\n",
              "      <td>28.361513</td>\n",
              "      <td>280.066431</td>\n",
              "      <td>1.492347</td>\n",
              "      <td>...</td>\n",
              "      <td>57.442476</td>\n",
              "      <td>0.004757</td>\n",
              "      <td>332.320727</td>\n",
              "      <td>2.305529</td>\n",
              "      <td>105.997712</td>\n",
              "      <td>-0.005919</td>\n",
              "      <td>-0.009550</td>\n",
              "      <td>57.679474</td>\n",
              "      <td>182.303526</td>\n",
              "      <td>0.487611</td>\n",
              "    </tr>\n",
              "    <tr>\n",
              "      <th>std</th>\n",
              "      <td>72245.756941</td>\n",
              "      <td>274.971728</td>\n",
              "      <td>36.194358</td>\n",
              "      <td>42.823701</td>\n",
              "      <td>75.592286</td>\n",
              "      <td>397.699325</td>\n",
              "      <td>0.784920</td>\n",
              "      <td>29.784435</td>\n",
              "      <td>129.205164</td>\n",
              "      <td>1.105309</td>\n",
              "      <td>...</td>\n",
              "      <td>43.697586</td>\n",
              "      <td>1.814082</td>\n",
              "      <td>139.051264</td>\n",
              "      <td>0.460634</td>\n",
              "      <td>67.573418</td>\n",
              "      <td>1.744084</td>\n",
              "      <td>1.808954</td>\n",
              "      <td>31.985782</td>\n",
              "      <td>107.581171</td>\n",
              "      <td>0.783589</td>\n",
              "    </tr>\n",
              "    <tr>\n",
              "      <th>min</th>\n",
              "      <td>100000.000000</td>\n",
              "      <td>-999.000000</td>\n",
              "      <td>0.000000</td>\n",
              "      <td>7.330000</td>\n",
              "      <td>0.120000</td>\n",
              "      <td>13.602000</td>\n",
              "      <td>0.228000</td>\n",
              "      <td>0.004000</td>\n",
              "      <td>110.601000</td>\n",
              "      <td>0.047000</td>\n",
              "      <td>...</td>\n",
              "      <td>0.200000</td>\n",
              "      <td>-3.142000</td>\n",
              "      <td>22.710000</td>\n",
              "      <td>2.000000</td>\n",
              "      <td>30.196000</td>\n",
              "      <td>-4.497000</td>\n",
              "      <td>-3.142000</td>\n",
              "      <td>30.000000</td>\n",
              "      <td>60.223000</td>\n",
              "      <td>0.001502</td>\n",
              "    </tr>\n",
              "    <tr>\n",
              "      <th>25%</th>\n",
              "      <td>162291.500000</td>\n",
              "      <td>89.206000</td>\n",
              "      <td>12.138500</td>\n",
              "      <td>57.148000</td>\n",
              "      <td>57.128500</td>\n",
              "      <td>111.977000</td>\n",
              "      <td>1.400000</td>\n",
              "      <td>4.403000</td>\n",
              "      <td>192.146500</td>\n",
              "      <td>0.771000</td>\n",
              "      <td>...</td>\n",
              "      <td>28.164500</td>\n",
              "      <td>-1.556000</td>\n",
              "      <td>237.659500</td>\n",
              "      <td>2.000000</td>\n",
              "      <td>60.426500</td>\n",
              "      <td>-1.337000</td>\n",
              "      <td>-1.573000</td>\n",
              "      <td>37.312000</td>\n",
              "      <td>108.947000</td>\n",
              "      <td>0.001503</td>\n",
              "    </tr>\n",
              "    <tr>\n",
              "      <th>50%</th>\n",
              "      <td>225073.000000</td>\n",
              "      <td>110.620000</td>\n",
              "      <td>29.620000</td>\n",
              "      <td>71.071000</td>\n",
              "      <td>93.352000</td>\n",
              "      <td>225.885000</td>\n",
              "      <td>1.951000</td>\n",
              "      <td>23.033000</td>\n",
              "      <td>245.653000</td>\n",
              "      <td>1.218000</td>\n",
              "      <td>...</td>\n",
              "      <td>46.739000</td>\n",
              "      <td>0.001000</td>\n",
              "      <td>303.269000</td>\n",
              "      <td>2.000000</td>\n",
              "      <td>86.587000</td>\n",
              "      <td>0.002000</td>\n",
              "      <td>-0.028000</td>\n",
              "      <td>47.902000</td>\n",
              "      <td>153.187000</td>\n",
              "      <td>0.071357</td>\n",
              "    </tr>\n",
              "    <tr>\n",
              "      <th>75%</th>\n",
              "      <td>287673.000000</td>\n",
              "      <td>131.880500</td>\n",
              "      <td>58.105000</td>\n",
              "      <td>89.096000</td>\n",
              "      <td>143.832500</td>\n",
              "      <td>478.226000</td>\n",
              "      <td>2.593000</td>\n",
              "      <td>40.098500</td>\n",
              "      <td>329.174000</td>\n",
              "      <td>1.867000</td>\n",
              "      <td>...</td>\n",
              "      <td>73.854500</td>\n",
              "      <td>1.572000</td>\n",
              "      <td>393.723000</td>\n",
              "      <td>3.000000</td>\n",
              "      <td>129.746000</td>\n",
              "      <td>1.324000</td>\n",
              "      <td>1.561000</td>\n",
              "      <td>66.637000</td>\n",
              "      <td>222.205500</td>\n",
              "      <td>0.744056</td>\n",
              "    </tr>\n",
              "    <tr>\n",
              "      <th>max</th>\n",
              "      <td>349994.000000</td>\n",
              "      <td>988.199000</td>\n",
              "      <td>690.075000</td>\n",
              "      <td>1329.913000</td>\n",
              "      <td>1053.807000</td>\n",
              "      <td>4974.979000</td>\n",
              "      <td>5.579000</td>\n",
              "      <td>513.659000</td>\n",
              "      <td>1852.462000</td>\n",
              "      <td>19.773000</td>\n",
              "      <td>...</td>\n",
              "      <td>951.363000</td>\n",
              "      <td>3.142000</td>\n",
              "      <td>2003.976000</td>\n",
              "      <td>3.000000</td>\n",
              "      <td>1120.573000</td>\n",
              "      <td>4.499000</td>\n",
              "      <td>3.141000</td>\n",
              "      <td>721.456000</td>\n",
              "      <td>1633.433000</td>\n",
              "      <td>7.805035</td>\n",
              "    </tr>\n",
              "  </tbody>\n",
              "</table>\n",
              "<p>8 rows × 27 columns</p>\n",
              "</div>\n",
              "    <div class=\"colab-df-buttons\">\n",
              "\n",
              "  <div class=\"colab-df-container\">\n",
              "    <button class=\"colab-df-convert\" onclick=\"convertToInteractive('df-d1d91ed5-ff2d-40e3-a5d8-f03e87bb93c1')\"\n",
              "            title=\"Convert this dataframe to an interactive table.\"\n",
              "            style=\"display:none;\">\n",
              "\n",
              "  <svg xmlns=\"http://www.w3.org/2000/svg\" height=\"24px\" viewBox=\"0 -960 960 960\">\n",
              "    <path d=\"M120-120v-720h720v720H120Zm60-500h600v-160H180v160Zm220 220h160v-160H400v160Zm0 220h160v-160H400v160ZM180-400h160v-160H180v160Zm440 0h160v-160H620v160ZM180-180h160v-160H180v160Zm440 0h160v-160H620v160Z\"/>\n",
              "  </svg>\n",
              "    </button>\n",
              "\n",
              "  <style>\n",
              "    .colab-df-container {\n",
              "      display:flex;\n",
              "      gap: 12px;\n",
              "    }\n",
              "\n",
              "    .colab-df-convert {\n",
              "      background-color: #E8F0FE;\n",
              "      border: none;\n",
              "      border-radius: 50%;\n",
              "      cursor: pointer;\n",
              "      display: none;\n",
              "      fill: #1967D2;\n",
              "      height: 32px;\n",
              "      padding: 0 0 0 0;\n",
              "      width: 32px;\n",
              "    }\n",
              "\n",
              "    .colab-df-convert:hover {\n",
              "      background-color: #E2EBFA;\n",
              "      box-shadow: 0px 1px 2px rgba(60, 64, 67, 0.3), 0px 1px 3px 1px rgba(60, 64, 67, 0.15);\n",
              "      fill: #174EA6;\n",
              "    }\n",
              "\n",
              "    .colab-df-buttons div {\n",
              "      margin-bottom: 4px;\n",
              "    }\n",
              "\n",
              "    [theme=dark] .colab-df-convert {\n",
              "      background-color: #3B4455;\n",
              "      fill: #D2E3FC;\n",
              "    }\n",
              "\n",
              "    [theme=dark] .colab-df-convert:hover {\n",
              "      background-color: #434B5C;\n",
              "      box-shadow: 0px 1px 3px 1px rgba(0, 0, 0, 0.15);\n",
              "      filter: drop-shadow(0px 1px 2px rgba(0, 0, 0, 0.3));\n",
              "      fill: #FFFFFF;\n",
              "    }\n",
              "  </style>\n",
              "\n",
              "    <script>\n",
              "      const buttonEl =\n",
              "        document.querySelector('#df-d1d91ed5-ff2d-40e3-a5d8-f03e87bb93c1 button.colab-df-convert');\n",
              "      buttonEl.style.display =\n",
              "        google.colab.kernel.accessAllowed ? 'block' : 'none';\n",
              "\n",
              "      async function convertToInteractive(key) {\n",
              "        const element = document.querySelector('#df-d1d91ed5-ff2d-40e3-a5d8-f03e87bb93c1');\n",
              "        const dataTable =\n",
              "          await google.colab.kernel.invokeFunction('convertToInteractive',\n",
              "                                                    [key], {});\n",
              "        if (!dataTable) return;\n",
              "\n",
              "        const docLinkHtml = 'Like what you see? Visit the ' +\n",
              "          '<a target=\"_blank\" href=https://colab.research.google.com/notebooks/data_table.ipynb>data table notebook</a>'\n",
              "          + ' to learn more about interactive tables.';\n",
              "        element.innerHTML = '';\n",
              "        dataTable['output_type'] = 'display_data';\n",
              "        await google.colab.output.renderOutput(dataTable, element);\n",
              "        const docLink = document.createElement('div');\n",
              "        docLink.innerHTML = docLinkHtml;\n",
              "        element.appendChild(docLink);\n",
              "      }\n",
              "    </script>\n",
              "  </div>\n",
              "\n",
              "\n",
              "<div id=\"df-341589c5-4db6-4049-adbe-0d1134ac3063\">\n",
              "  <button class=\"colab-df-quickchart\" onclick=\"quickchart('df-341589c5-4db6-4049-adbe-0d1134ac3063')\"\n",
              "            title=\"Suggest charts\"\n",
              "            style=\"display:none;\">\n",
              "\n",
              "<svg xmlns=\"http://www.w3.org/2000/svg\" height=\"24px\"viewBox=\"0 0 24 24\"\n",
              "     width=\"24px\">\n",
              "    <g>\n",
              "        <path d=\"M19 3H5c-1.1 0-2 .9-2 2v14c0 1.1.9 2 2 2h14c1.1 0 2-.9 2-2V5c0-1.1-.9-2-2-2zM9 17H7v-7h2v7zm4 0h-2V7h2v10zm4 0h-2v-4h2v4z\"/>\n",
              "    </g>\n",
              "</svg>\n",
              "  </button>\n",
              "\n",
              "<style>\n",
              "  .colab-df-quickchart {\n",
              "      --bg-color: #E8F0FE;\n",
              "      --fill-color: #1967D2;\n",
              "      --hover-bg-color: #E2EBFA;\n",
              "      --hover-fill-color: #174EA6;\n",
              "      --disabled-fill-color: #AAA;\n",
              "      --disabled-bg-color: #DDD;\n",
              "  }\n",
              "\n",
              "  [theme=dark] .colab-df-quickchart {\n",
              "      --bg-color: #3B4455;\n",
              "      --fill-color: #D2E3FC;\n",
              "      --hover-bg-color: #434B5C;\n",
              "      --hover-fill-color: #FFFFFF;\n",
              "      --disabled-bg-color: #3B4455;\n",
              "      --disabled-fill-color: #666;\n",
              "  }\n",
              "\n",
              "  .colab-df-quickchart {\n",
              "    background-color: var(--bg-color);\n",
              "    border: none;\n",
              "    border-radius: 50%;\n",
              "    cursor: pointer;\n",
              "    display: none;\n",
              "    fill: var(--fill-color);\n",
              "    height: 32px;\n",
              "    padding: 0;\n",
              "    width: 32px;\n",
              "  }\n",
              "\n",
              "  .colab-df-quickchart:hover {\n",
              "    background-color: var(--hover-bg-color);\n",
              "    box-shadow: 0 1px 2px rgba(60, 64, 67, 0.3), 0 1px 3px 1px rgba(60, 64, 67, 0.15);\n",
              "    fill: var(--button-hover-fill-color);\n",
              "  }\n",
              "\n",
              "  .colab-df-quickchart-complete:disabled,\n",
              "  .colab-df-quickchart-complete:disabled:hover {\n",
              "    background-color: var(--disabled-bg-color);\n",
              "    fill: var(--disabled-fill-color);\n",
              "    box-shadow: none;\n",
              "  }\n",
              "\n",
              "  .colab-df-spinner {\n",
              "    border: 2px solid var(--fill-color);\n",
              "    border-color: transparent;\n",
              "    border-bottom-color: var(--fill-color);\n",
              "    animation:\n",
              "      spin 1s steps(1) infinite;\n",
              "  }\n",
              "\n",
              "  @keyframes spin {\n",
              "    0% {\n",
              "      border-color: transparent;\n",
              "      border-bottom-color: var(--fill-color);\n",
              "      border-left-color: var(--fill-color);\n",
              "    }\n",
              "    20% {\n",
              "      border-color: transparent;\n",
              "      border-left-color: var(--fill-color);\n",
              "      border-top-color: var(--fill-color);\n",
              "    }\n",
              "    30% {\n",
              "      border-color: transparent;\n",
              "      border-left-color: var(--fill-color);\n",
              "      border-top-color: var(--fill-color);\n",
              "      border-right-color: var(--fill-color);\n",
              "    }\n",
              "    40% {\n",
              "      border-color: transparent;\n",
              "      border-right-color: var(--fill-color);\n",
              "      border-top-color: var(--fill-color);\n",
              "    }\n",
              "    60% {\n",
              "      border-color: transparent;\n",
              "      border-right-color: var(--fill-color);\n",
              "    }\n",
              "    80% {\n",
              "      border-color: transparent;\n",
              "      border-right-color: var(--fill-color);\n",
              "      border-bottom-color: var(--fill-color);\n",
              "    }\n",
              "    90% {\n",
              "      border-color: transparent;\n",
              "      border-bottom-color: var(--fill-color);\n",
              "    }\n",
              "  }\n",
              "</style>\n",
              "\n",
              "  <script>\n",
              "    async function quickchart(key) {\n",
              "      const quickchartButtonEl =\n",
              "        document.querySelector('#' + key + ' button');\n",
              "      quickchartButtonEl.disabled = true;  // To prevent multiple clicks.\n",
              "      quickchartButtonEl.classList.add('colab-df-spinner');\n",
              "      try {\n",
              "        const charts = await google.colab.kernel.invokeFunction(\n",
              "            'suggestCharts', [key], {});\n",
              "      } catch (error) {\n",
              "        console.error('Error during call to suggestCharts:', error);\n",
              "      }\n",
              "      quickchartButtonEl.classList.remove('colab-df-spinner');\n",
              "      quickchartButtonEl.classList.add('colab-df-quickchart-complete');\n",
              "    }\n",
              "    (() => {\n",
              "      let quickchartButtonEl =\n",
              "        document.querySelector('#df-341589c5-4db6-4049-adbe-0d1134ac3063 button');\n",
              "      quickchartButtonEl.style.display =\n",
              "        google.colab.kernel.accessAllowed ? 'block' : 'none';\n",
              "    })();\n",
              "  </script>\n",
              "</div>\n",
              "    </div>\n",
              "  </div>\n"
            ]
          },
          "metadata": {},
          "execution_count": 23
        }
      ]
    },
    {
      "cell_type": "code",
      "source": [
        "#Need to check all the means as I can't see some of the middle columns in the format above\n",
        "higgsdata_final.mean()"
      ],
      "metadata": {
        "colab": {
          "base_uri": "https://localhost:8080/"
        },
        "id": "a-YDHv-p89YG",
        "outputId": "a20fdb82-41b7-47a6-ebcd-870267973e5f"
      },
      "execution_count": 24,
      "outputs": [
        {
          "output_type": "stream",
          "name": "stderr",
          "text": [
            "<ipython-input-24-2fab2735c0cc>:2: FutureWarning: The default value of numeric_only in DataFrame.mean is deprecated. In a future version, it will default to False. In addition, specifying 'numeric_only=None' is deprecated. Select only valid columns or specify the value of numeric_only to silence this warning.\n",
            "  higgsdata_final.mean()\n"
          ]
        },
        {
          "output_type": "execute_result",
          "data": {
            "text/plain": [
              "EventId                        224992.269950\n",
              "DER_mass_MMC                       54.325443\n",
              "DER_mass_transverse_met_lep        39.497470\n",
              "DER_mass_vis                       79.125409\n",
              "DER_pt_h                          110.037042\n",
              "DER_mass_jet_jet                  371.783360\n",
              "DER_deltar_tau_lep                  2.006838\n",
              "DER_pt_tot                         28.361513\n",
              "DER_sum_pt                        280.066431\n",
              "DER_pt_ratio_lep_tau                1.492347\n",
              "DER_met_phi_centrality              0.559420\n",
              "PRI_tau_pt                         45.299583\n",
              "PRI_tau_eta                        -0.001725\n",
              "PRI_tau_phi                         0.001221\n",
              "PRI_lep_pt                         52.463326\n",
              "PRI_lep_eta                        -0.002325\n",
              "PRI_lep_phi                         0.043739\n",
              "PRI_met                            57.442476\n",
              "PRI_met_phi                         0.004757\n",
              "PRI_met_sumet                     332.320727\n",
              "PRI_jet_num                         2.305529\n",
              "PRI_jet_leading_pt                105.997712\n",
              "PRI_jet_leading_eta                -0.005919\n",
              "PRI_jet_leading_phi                -0.009550\n",
              "PRI_jet_subleading_pt              57.679474\n",
              "PRI_jet_all_pt                    182.303526\n",
              "Weight                              0.487611\n",
              "dtype: float64"
            ]
          },
          "metadata": {},
          "execution_count": 24
        }
      ]
    },
    {
      "cell_type": "markdown",
      "source": [
        "Removing the -999 values from the DER_prodeta_jet_jet column did remove the majority of -999 values in the other columns as I had wanted."
      ],
      "metadata": {
        "id": "kaaneDob9RGj"
      }
    },
    {
      "cell_type": "code",
      "metadata": {
        "id": "O8eUWMdVx983",
        "colab": {
          "base_uri": "https://localhost:8080/"
        },
        "outputId": "ac163661-26ac-4ec2-963f-aab183af67f6"
      },
      "source": [
        "labels = np.asarray(higgsdata_final['Label'])\n",
        "\n",
        "print(len(labels))\n",
        "\n",
        "labels"
      ],
      "execution_count": 25,
      "outputs": [
        {
          "output_type": "stream",
          "name": "stdout",
          "text": [
            "72543\n"
          ]
        },
        {
          "output_type": "execute_result",
          "data": {
            "text/plain": [
              "array(['s', 'b', 's', ..., 'b', 's', 'b'], dtype=object)"
            ]
          },
          "metadata": {},
          "execution_count": 25
        }
      ]
    },
    {
      "cell_type": "code",
      "source": [
        "labels_bools = np.zeros(len(labels))\n",
        "\n",
        "#Setting signal, s, as True and background, b, as False\n",
        "for i in range(0,len(labels)):\n",
        "  if labels[i] == 's':\n",
        "    labels_bools[i] = True\n",
        "  else:\n",
        "    labels_bools[i] = False\n",
        "\n",
        "\n",
        "labels_bools"
      ],
      "metadata": {
        "colab": {
          "base_uri": "https://localhost:8080/"
        },
        "id": "3GQWEf7j-mXK",
        "outputId": "38f5c504-9923-4b38-da3f-ba9b08b68963"
      },
      "execution_count": 26,
      "outputs": [
        {
          "output_type": "execute_result",
          "data": {
            "text/plain": [
              "array([1., 0., 1., ..., 0., 1., 0.])"
            ]
          },
          "metadata": {},
          "execution_count": 26
        }
      ]
    },
    {
      "cell_type": "code",
      "metadata": {
        "id": "Tv1otxd5yB-X",
        "colab": {
          "base_uri": "https://localhost:8080/"
        },
        "outputId": "39c1ee41-a0e8-4898-8bcd-6b696c5309ee"
      },
      "source": [
        "weights = np.asarray(higgsdata_final['Weight'])\n",
        "print(len(weights))\n",
        "weights"
      ],
      "execution_count": 27,
      "outputs": [
        {
          "output_type": "stream",
          "name": "stdout",
          "text": [
            "72543\n"
          ]
        },
        {
          "output_type": "execute_result",
          "data": {
            "text/plain": [
              "array([0.00265331, 0.08341403, 0.00265331, ..., 0.74405625, 0.0015027 ,\n",
              "       0.06406078])"
            ]
          },
          "metadata": {},
          "execution_count": 27
        }
      ]
    },
    {
      "cell_type": "code",
      "source": [
        "higgsdata_final2 = higgsdata_final.drop(labels= ['Label', 'Weight'], axis = 1)\n",
        "\n",
        "higgsdata_final2.head()"
      ],
      "metadata": {
        "colab": {
          "base_uri": "https://localhost:8080/",
          "height": 253
        },
        "id": "U8wC2rcS-cig",
        "outputId": "2c6722db-94fa-4fe9-a354-a4851c6cbe46"
      },
      "execution_count": 28,
      "outputs": [
        {
          "output_type": "execute_result",
          "data": {
            "text/plain": [
              "    EventId  DER_mass_MMC  DER_mass_transverse_met_lep  DER_mass_vis  \\\n",
              "0    100000       138.470                       51.655        97.827   \n",
              "5    100005        89.744                       13.550        59.149   \n",
              "6    100006       148.754                       28.862       107.782   \n",
              "11   100011       114.744                       10.286        75.712   \n",
              "23   100023       141.481                        0.736       111.581   \n",
              "\n",
              "    DER_pt_h  DER_mass_jet_jet  DER_deltar_tau_lep  DER_pt_tot  DER_sum_pt  \\\n",
              "0     27.980           124.711               3.064      41.928     197.760   \n",
              "5    116.344           284.584               1.362      61.619     278.876   \n",
              "6    106.130           158.359               2.941       2.545     305.967   \n",
              "11    30.816           252.599               2.888      36.745     239.804   \n",
              "23   174.075           364.344               1.335       6.663     440.859   \n",
              "\n",
              "    DER_pt_ratio_lep_tau  ...  PRI_lep_phi  PRI_met  PRI_met_phi  \\\n",
              "0                  1.582  ...       -2.414   16.824       -0.277   \n",
              "5                  0.588  ...        1.857   40.735        2.237   \n",
              "6                  3.371  ...       -0.966   38.421       -1.443   \n",
              "11                 1.061  ...        2.502   22.385        2.148   \n",
              "23                 0.652  ...       -0.952   17.960       -0.973   \n",
              "\n",
              "    PRI_met_sumet  PRI_jet_num  PRI_jet_leading_pt  PRI_jet_leading_eta  \\\n",
              "0         258.733            2              67.435                2.150   \n",
              "5         282.849            3              90.547               -2.412   \n",
              "6         294.074            2             123.010                0.864   \n",
              "11        290.547            3              76.773               -0.790   \n",
              "23        454.785            2             195.533                1.156   \n",
              "\n",
              "    PRI_jet_leading_phi  PRI_jet_subleading_pt  PRI_jet_all_pt  \n",
              "0                 0.444                 46.062         113.497  \n",
              "5                -0.653                 56.165         193.660  \n",
              "6                 1.450                 56.867         179.877  \n",
              "11                0.303                 56.876         165.640  \n",
              "23                1.416                 82.477         278.009  \n",
              "\n",
              "[5 rows x 26 columns]"
            ],
            "text/html": [
              "\n",
              "  <div id=\"df-6feccf86-dd5e-452e-b148-02ecca98757a\" class=\"colab-df-container\">\n",
              "    <div>\n",
              "<style scoped>\n",
              "    .dataframe tbody tr th:only-of-type {\n",
              "        vertical-align: middle;\n",
              "    }\n",
              "\n",
              "    .dataframe tbody tr th {\n",
              "        vertical-align: top;\n",
              "    }\n",
              "\n",
              "    .dataframe thead th {\n",
              "        text-align: right;\n",
              "    }\n",
              "</style>\n",
              "<table border=\"1\" class=\"dataframe\">\n",
              "  <thead>\n",
              "    <tr style=\"text-align: right;\">\n",
              "      <th></th>\n",
              "      <th>EventId</th>\n",
              "      <th>DER_mass_MMC</th>\n",
              "      <th>DER_mass_transverse_met_lep</th>\n",
              "      <th>DER_mass_vis</th>\n",
              "      <th>DER_pt_h</th>\n",
              "      <th>DER_mass_jet_jet</th>\n",
              "      <th>DER_deltar_tau_lep</th>\n",
              "      <th>DER_pt_tot</th>\n",
              "      <th>DER_sum_pt</th>\n",
              "      <th>DER_pt_ratio_lep_tau</th>\n",
              "      <th>...</th>\n",
              "      <th>PRI_lep_phi</th>\n",
              "      <th>PRI_met</th>\n",
              "      <th>PRI_met_phi</th>\n",
              "      <th>PRI_met_sumet</th>\n",
              "      <th>PRI_jet_num</th>\n",
              "      <th>PRI_jet_leading_pt</th>\n",
              "      <th>PRI_jet_leading_eta</th>\n",
              "      <th>PRI_jet_leading_phi</th>\n",
              "      <th>PRI_jet_subleading_pt</th>\n",
              "      <th>PRI_jet_all_pt</th>\n",
              "    </tr>\n",
              "  </thead>\n",
              "  <tbody>\n",
              "    <tr>\n",
              "      <th>0</th>\n",
              "      <td>100000</td>\n",
              "      <td>138.470</td>\n",
              "      <td>51.655</td>\n",
              "      <td>97.827</td>\n",
              "      <td>27.980</td>\n",
              "      <td>124.711</td>\n",
              "      <td>3.064</td>\n",
              "      <td>41.928</td>\n",
              "      <td>197.760</td>\n",
              "      <td>1.582</td>\n",
              "      <td>...</td>\n",
              "      <td>-2.414</td>\n",
              "      <td>16.824</td>\n",
              "      <td>-0.277</td>\n",
              "      <td>258.733</td>\n",
              "      <td>2</td>\n",
              "      <td>67.435</td>\n",
              "      <td>2.150</td>\n",
              "      <td>0.444</td>\n",
              "      <td>46.062</td>\n",
              "      <td>113.497</td>\n",
              "    </tr>\n",
              "    <tr>\n",
              "      <th>5</th>\n",
              "      <td>100005</td>\n",
              "      <td>89.744</td>\n",
              "      <td>13.550</td>\n",
              "      <td>59.149</td>\n",
              "      <td>116.344</td>\n",
              "      <td>284.584</td>\n",
              "      <td>1.362</td>\n",
              "      <td>61.619</td>\n",
              "      <td>278.876</td>\n",
              "      <td>0.588</td>\n",
              "      <td>...</td>\n",
              "      <td>1.857</td>\n",
              "      <td>40.735</td>\n",
              "      <td>2.237</td>\n",
              "      <td>282.849</td>\n",
              "      <td>3</td>\n",
              "      <td>90.547</td>\n",
              "      <td>-2.412</td>\n",
              "      <td>-0.653</td>\n",
              "      <td>56.165</td>\n",
              "      <td>193.660</td>\n",
              "    </tr>\n",
              "    <tr>\n",
              "      <th>6</th>\n",
              "      <td>100006</td>\n",
              "      <td>148.754</td>\n",
              "      <td>28.862</td>\n",
              "      <td>107.782</td>\n",
              "      <td>106.130</td>\n",
              "      <td>158.359</td>\n",
              "      <td>2.941</td>\n",
              "      <td>2.545</td>\n",
              "      <td>305.967</td>\n",
              "      <td>3.371</td>\n",
              "      <td>...</td>\n",
              "      <td>-0.966</td>\n",
              "      <td>38.421</td>\n",
              "      <td>-1.443</td>\n",
              "      <td>294.074</td>\n",
              "      <td>2</td>\n",
              "      <td>123.010</td>\n",
              "      <td>0.864</td>\n",
              "      <td>1.450</td>\n",
              "      <td>56.867</td>\n",
              "      <td>179.877</td>\n",
              "    </tr>\n",
              "    <tr>\n",
              "      <th>11</th>\n",
              "      <td>100011</td>\n",
              "      <td>114.744</td>\n",
              "      <td>10.286</td>\n",
              "      <td>75.712</td>\n",
              "      <td>30.816</td>\n",
              "      <td>252.599</td>\n",
              "      <td>2.888</td>\n",
              "      <td>36.745</td>\n",
              "      <td>239.804</td>\n",
              "      <td>1.061</td>\n",
              "      <td>...</td>\n",
              "      <td>2.502</td>\n",
              "      <td>22.385</td>\n",
              "      <td>2.148</td>\n",
              "      <td>290.547</td>\n",
              "      <td>3</td>\n",
              "      <td>76.773</td>\n",
              "      <td>-0.790</td>\n",
              "      <td>0.303</td>\n",
              "      <td>56.876</td>\n",
              "      <td>165.640</td>\n",
              "    </tr>\n",
              "    <tr>\n",
              "      <th>23</th>\n",
              "      <td>100023</td>\n",
              "      <td>141.481</td>\n",
              "      <td>0.736</td>\n",
              "      <td>111.581</td>\n",
              "      <td>174.075</td>\n",
              "      <td>364.344</td>\n",
              "      <td>1.335</td>\n",
              "      <td>6.663</td>\n",
              "      <td>440.859</td>\n",
              "      <td>0.652</td>\n",
              "      <td>...</td>\n",
              "      <td>-0.952</td>\n",
              "      <td>17.960</td>\n",
              "      <td>-0.973</td>\n",
              "      <td>454.785</td>\n",
              "      <td>2</td>\n",
              "      <td>195.533</td>\n",
              "      <td>1.156</td>\n",
              "      <td>1.416</td>\n",
              "      <td>82.477</td>\n",
              "      <td>278.009</td>\n",
              "    </tr>\n",
              "  </tbody>\n",
              "</table>\n",
              "<p>5 rows × 26 columns</p>\n",
              "</div>\n",
              "    <div class=\"colab-df-buttons\">\n",
              "\n",
              "  <div class=\"colab-df-container\">\n",
              "    <button class=\"colab-df-convert\" onclick=\"convertToInteractive('df-6feccf86-dd5e-452e-b148-02ecca98757a')\"\n",
              "            title=\"Convert this dataframe to an interactive table.\"\n",
              "            style=\"display:none;\">\n",
              "\n",
              "  <svg xmlns=\"http://www.w3.org/2000/svg\" height=\"24px\" viewBox=\"0 -960 960 960\">\n",
              "    <path d=\"M120-120v-720h720v720H120Zm60-500h600v-160H180v160Zm220 220h160v-160H400v160Zm0 220h160v-160H400v160ZM180-400h160v-160H180v160Zm440 0h160v-160H620v160ZM180-180h160v-160H180v160Zm440 0h160v-160H620v160Z\"/>\n",
              "  </svg>\n",
              "    </button>\n",
              "\n",
              "  <style>\n",
              "    .colab-df-container {\n",
              "      display:flex;\n",
              "      gap: 12px;\n",
              "    }\n",
              "\n",
              "    .colab-df-convert {\n",
              "      background-color: #E8F0FE;\n",
              "      border: none;\n",
              "      border-radius: 50%;\n",
              "      cursor: pointer;\n",
              "      display: none;\n",
              "      fill: #1967D2;\n",
              "      height: 32px;\n",
              "      padding: 0 0 0 0;\n",
              "      width: 32px;\n",
              "    }\n",
              "\n",
              "    .colab-df-convert:hover {\n",
              "      background-color: #E2EBFA;\n",
              "      box-shadow: 0px 1px 2px rgba(60, 64, 67, 0.3), 0px 1px 3px 1px rgba(60, 64, 67, 0.15);\n",
              "      fill: #174EA6;\n",
              "    }\n",
              "\n",
              "    .colab-df-buttons div {\n",
              "      margin-bottom: 4px;\n",
              "    }\n",
              "\n",
              "    [theme=dark] .colab-df-convert {\n",
              "      background-color: #3B4455;\n",
              "      fill: #D2E3FC;\n",
              "    }\n",
              "\n",
              "    [theme=dark] .colab-df-convert:hover {\n",
              "      background-color: #434B5C;\n",
              "      box-shadow: 0px 1px 3px 1px rgba(0, 0, 0, 0.15);\n",
              "      filter: drop-shadow(0px 1px 2px rgba(0, 0, 0, 0.3));\n",
              "      fill: #FFFFFF;\n",
              "    }\n",
              "  </style>\n",
              "\n",
              "    <script>\n",
              "      const buttonEl =\n",
              "        document.querySelector('#df-6feccf86-dd5e-452e-b148-02ecca98757a button.colab-df-convert');\n",
              "      buttonEl.style.display =\n",
              "        google.colab.kernel.accessAllowed ? 'block' : 'none';\n",
              "\n",
              "      async function convertToInteractive(key) {\n",
              "        const element = document.querySelector('#df-6feccf86-dd5e-452e-b148-02ecca98757a');\n",
              "        const dataTable =\n",
              "          await google.colab.kernel.invokeFunction('convertToInteractive',\n",
              "                                                    [key], {});\n",
              "        if (!dataTable) return;\n",
              "\n",
              "        const docLinkHtml = 'Like what you see? Visit the ' +\n",
              "          '<a target=\"_blank\" href=https://colab.research.google.com/notebooks/data_table.ipynb>data table notebook</a>'\n",
              "          + ' to learn more about interactive tables.';\n",
              "        element.innerHTML = '';\n",
              "        dataTable['output_type'] = 'display_data';\n",
              "        await google.colab.output.renderOutput(dataTable, element);\n",
              "        const docLink = document.createElement('div');\n",
              "        docLink.innerHTML = docLinkHtml;\n",
              "        element.appendChild(docLink);\n",
              "      }\n",
              "    </script>\n",
              "  </div>\n",
              "\n",
              "\n",
              "<div id=\"df-f2790057-5ac1-4b90-9e33-f16bca5dddb6\">\n",
              "  <button class=\"colab-df-quickchart\" onclick=\"quickchart('df-f2790057-5ac1-4b90-9e33-f16bca5dddb6')\"\n",
              "            title=\"Suggest charts\"\n",
              "            style=\"display:none;\">\n",
              "\n",
              "<svg xmlns=\"http://www.w3.org/2000/svg\" height=\"24px\"viewBox=\"0 0 24 24\"\n",
              "     width=\"24px\">\n",
              "    <g>\n",
              "        <path d=\"M19 3H5c-1.1 0-2 .9-2 2v14c0 1.1.9 2 2 2h14c1.1 0 2-.9 2-2V5c0-1.1-.9-2-2-2zM9 17H7v-7h2v7zm4 0h-2V7h2v10zm4 0h-2v-4h2v4z\"/>\n",
              "    </g>\n",
              "</svg>\n",
              "  </button>\n",
              "\n",
              "<style>\n",
              "  .colab-df-quickchart {\n",
              "      --bg-color: #E8F0FE;\n",
              "      --fill-color: #1967D2;\n",
              "      --hover-bg-color: #E2EBFA;\n",
              "      --hover-fill-color: #174EA6;\n",
              "      --disabled-fill-color: #AAA;\n",
              "      --disabled-bg-color: #DDD;\n",
              "  }\n",
              "\n",
              "  [theme=dark] .colab-df-quickchart {\n",
              "      --bg-color: #3B4455;\n",
              "      --fill-color: #D2E3FC;\n",
              "      --hover-bg-color: #434B5C;\n",
              "      --hover-fill-color: #FFFFFF;\n",
              "      --disabled-bg-color: #3B4455;\n",
              "      --disabled-fill-color: #666;\n",
              "  }\n",
              "\n",
              "  .colab-df-quickchart {\n",
              "    background-color: var(--bg-color);\n",
              "    border: none;\n",
              "    border-radius: 50%;\n",
              "    cursor: pointer;\n",
              "    display: none;\n",
              "    fill: var(--fill-color);\n",
              "    height: 32px;\n",
              "    padding: 0;\n",
              "    width: 32px;\n",
              "  }\n",
              "\n",
              "  .colab-df-quickchart:hover {\n",
              "    background-color: var(--hover-bg-color);\n",
              "    box-shadow: 0 1px 2px rgba(60, 64, 67, 0.3), 0 1px 3px 1px rgba(60, 64, 67, 0.15);\n",
              "    fill: var(--button-hover-fill-color);\n",
              "  }\n",
              "\n",
              "  .colab-df-quickchart-complete:disabled,\n",
              "  .colab-df-quickchart-complete:disabled:hover {\n",
              "    background-color: var(--disabled-bg-color);\n",
              "    fill: var(--disabled-fill-color);\n",
              "    box-shadow: none;\n",
              "  }\n",
              "\n",
              "  .colab-df-spinner {\n",
              "    border: 2px solid var(--fill-color);\n",
              "    border-color: transparent;\n",
              "    border-bottom-color: var(--fill-color);\n",
              "    animation:\n",
              "      spin 1s steps(1) infinite;\n",
              "  }\n",
              "\n",
              "  @keyframes spin {\n",
              "    0% {\n",
              "      border-color: transparent;\n",
              "      border-bottom-color: var(--fill-color);\n",
              "      border-left-color: var(--fill-color);\n",
              "    }\n",
              "    20% {\n",
              "      border-color: transparent;\n",
              "      border-left-color: var(--fill-color);\n",
              "      border-top-color: var(--fill-color);\n",
              "    }\n",
              "    30% {\n",
              "      border-color: transparent;\n",
              "      border-left-color: var(--fill-color);\n",
              "      border-top-color: var(--fill-color);\n",
              "      border-right-color: var(--fill-color);\n",
              "    }\n",
              "    40% {\n",
              "      border-color: transparent;\n",
              "      border-right-color: var(--fill-color);\n",
              "      border-top-color: var(--fill-color);\n",
              "    }\n",
              "    60% {\n",
              "      border-color: transparent;\n",
              "      border-right-color: var(--fill-color);\n",
              "    }\n",
              "    80% {\n",
              "      border-color: transparent;\n",
              "      border-right-color: var(--fill-color);\n",
              "      border-bottom-color: var(--fill-color);\n",
              "    }\n",
              "    90% {\n",
              "      border-color: transparent;\n",
              "      border-bottom-color: var(--fill-color);\n",
              "    }\n",
              "  }\n",
              "</style>\n",
              "\n",
              "  <script>\n",
              "    async function quickchart(key) {\n",
              "      const quickchartButtonEl =\n",
              "        document.querySelector('#' + key + ' button');\n",
              "      quickchartButtonEl.disabled = true;  // To prevent multiple clicks.\n",
              "      quickchartButtonEl.classList.add('colab-df-spinner');\n",
              "      try {\n",
              "        const charts = await google.colab.kernel.invokeFunction(\n",
              "            'suggestCharts', [key], {});\n",
              "      } catch (error) {\n",
              "        console.error('Error during call to suggestCharts:', error);\n",
              "      }\n",
              "      quickchartButtonEl.classList.remove('colab-df-spinner');\n",
              "      quickchartButtonEl.classList.add('colab-df-quickchart-complete');\n",
              "    }\n",
              "    (() => {\n",
              "      let quickchartButtonEl =\n",
              "        document.querySelector('#df-f2790057-5ac1-4b90-9e33-f16bca5dddb6 button');\n",
              "      quickchartButtonEl.style.display =\n",
              "        google.colab.kernel.accessAllowed ? 'block' : 'none';\n",
              "    })();\n",
              "  </script>\n",
              "</div>\n",
              "    </div>\n",
              "  </div>\n"
            ]
          },
          "metadata": {},
          "execution_count": 28
        }
      ]
    },
    {
      "cell_type": "code",
      "metadata": {
        "id": "7_pC_3biq_xU"
      },
      "source": [
        "from sklearn.model_selection import train_test_split"
      ],
      "execution_count": 29,
      "outputs": []
    },
    {
      "cell_type": "code",
      "source": [
        "Higgs_train, Higgs_test, labels_train, labels_test = train_test_split(higgsdata_final2, labels_bools, test_size= 0.25)"
      ],
      "metadata": {
        "id": "gotNwoEZ5VMT"
      },
      "execution_count": 30,
      "outputs": []
    },
    {
      "cell_type": "markdown",
      "metadata": {
        "id": "sLK2qoS_oW_j"
      },
      "source": [
        "- Use a Random Forest and a Gradient Boosted Tree Classifier model to predict the label of the particles. get the score of the model on the training and test set and comment on the result for each model.\n"
      ]
    },
    {
      "cell_type": "code",
      "metadata": {
        "id": "Htf_qENzNNcV"
      },
      "source": [
        "from sklearn.ensemble import RandomForestClassifier\n",
        "from sklearn.ensemble import GradientBoostingClassifier\n",
        "from sklearn.datasets import make_classification\n"
      ],
      "execution_count": 31,
      "outputs": []
    },
    {
      "cell_type": "code",
      "source": [
        "# Look at parameters used by our current forest\n",
        "rf = RandomForestClassifier(max_depth= 10, random_state = 25)\n",
        "print('Parameters currently in use:\\n')\n",
        "print(rf.get_params())"
      ],
      "metadata": {
        "colab": {
          "base_uri": "https://localhost:8080/"
        },
        "id": "nAMojjvo73rv",
        "outputId": "bcffe038-37e9-4bc8-82e0-920b2ba3ab45"
      },
      "execution_count": 32,
      "outputs": [
        {
          "output_type": "stream",
          "name": "stdout",
          "text": [
            "Parameters currently in use:\n",
            "\n",
            "{'bootstrap': True, 'ccp_alpha': 0.0, 'class_weight': None, 'criterion': 'gini', 'max_depth': 10, 'max_features': 'sqrt', 'max_leaf_nodes': None, 'max_samples': None, 'min_impurity_decrease': 0.0, 'min_samples_leaf': 1, 'min_samples_split': 2, 'min_weight_fraction_leaf': 0.0, 'n_estimators': 100, 'n_jobs': None, 'oob_score': False, 'random_state': 25, 'verbose': 0, 'warm_start': False}\n"
          ]
        }
      ]
    },
    {
      "cell_type": "code",
      "metadata": {
        "id": "2eNZHaTYy89c",
        "colab": {
          "base_uri": "https://localhost:8080/"
        },
        "outputId": "84136ea6-90e4-44d8-957f-514e5441c8bd"
      },
      "source": [
        "gbt = GradientBoostingClassifier(max_depth= 6, random_state= 25)\n",
        "print('Parameters currently in use:\\n')\n",
        "print(gbt.get_params())"
      ],
      "execution_count": 33,
      "outputs": [
        {
          "output_type": "stream",
          "name": "stdout",
          "text": [
            "Parameters currently in use:\n",
            "\n",
            "{'ccp_alpha': 0.0, 'criterion': 'friedman_mse', 'init': None, 'learning_rate': 0.1, 'loss': 'log_loss', 'max_depth': 6, 'max_features': None, 'max_leaf_nodes': None, 'min_impurity_decrease': 0.0, 'min_samples_leaf': 1, 'min_samples_split': 2, 'min_weight_fraction_leaf': 0.0, 'n_estimators': 100, 'n_iter_no_change': None, 'random_state': 25, 'subsample': 1.0, 'tol': 0.0001, 'validation_fraction': 0.1, 'verbose': 0, 'warm_start': False}\n"
          ]
        }
      ]
    },
    {
      "cell_type": "code",
      "source": [
        "rf.fit(Higgs_train, labels_train)"
      ],
      "metadata": {
        "colab": {
          "base_uri": "https://localhost:8080/",
          "height": 74
        },
        "id": "ta1GNiepCS4Y",
        "outputId": "0eb35848-cc09-4215-9ece-63f3bfe63d2c"
      },
      "execution_count": 34,
      "outputs": [
        {
          "output_type": "execute_result",
          "data": {
            "text/plain": [
              "RandomForestClassifier(max_depth=10, random_state=25)"
            ],
            "text/html": [
              "<style>#sk-container-id-1 {color: black;background-color: white;}#sk-container-id-1 pre{padding: 0;}#sk-container-id-1 div.sk-toggleable {background-color: white;}#sk-container-id-1 label.sk-toggleable__label {cursor: pointer;display: block;width: 100%;margin-bottom: 0;padding: 0.3em;box-sizing: border-box;text-align: center;}#sk-container-id-1 label.sk-toggleable__label-arrow:before {content: \"▸\";float: left;margin-right: 0.25em;color: #696969;}#sk-container-id-1 label.sk-toggleable__label-arrow:hover:before {color: black;}#sk-container-id-1 div.sk-estimator:hover label.sk-toggleable__label-arrow:before {color: black;}#sk-container-id-1 div.sk-toggleable__content {max-height: 0;max-width: 0;overflow: hidden;text-align: left;background-color: #f0f8ff;}#sk-container-id-1 div.sk-toggleable__content pre {margin: 0.2em;color: black;border-radius: 0.25em;background-color: #f0f8ff;}#sk-container-id-1 input.sk-toggleable__control:checked~div.sk-toggleable__content {max-height: 200px;max-width: 100%;overflow: auto;}#sk-container-id-1 input.sk-toggleable__control:checked~label.sk-toggleable__label-arrow:before {content: \"▾\";}#sk-container-id-1 div.sk-estimator input.sk-toggleable__control:checked~label.sk-toggleable__label {background-color: #d4ebff;}#sk-container-id-1 div.sk-label input.sk-toggleable__control:checked~label.sk-toggleable__label {background-color: #d4ebff;}#sk-container-id-1 input.sk-hidden--visually {border: 0;clip: rect(1px 1px 1px 1px);clip: rect(1px, 1px, 1px, 1px);height: 1px;margin: -1px;overflow: hidden;padding: 0;position: absolute;width: 1px;}#sk-container-id-1 div.sk-estimator {font-family: monospace;background-color: #f0f8ff;border: 1px dotted black;border-radius: 0.25em;box-sizing: border-box;margin-bottom: 0.5em;}#sk-container-id-1 div.sk-estimator:hover {background-color: #d4ebff;}#sk-container-id-1 div.sk-parallel-item::after {content: \"\";width: 100%;border-bottom: 1px solid gray;flex-grow: 1;}#sk-container-id-1 div.sk-label:hover label.sk-toggleable__label {background-color: #d4ebff;}#sk-container-id-1 div.sk-serial::before {content: \"\";position: absolute;border-left: 1px solid gray;box-sizing: border-box;top: 0;bottom: 0;left: 50%;z-index: 0;}#sk-container-id-1 div.sk-serial {display: flex;flex-direction: column;align-items: center;background-color: white;padding-right: 0.2em;padding-left: 0.2em;position: relative;}#sk-container-id-1 div.sk-item {position: relative;z-index: 1;}#sk-container-id-1 div.sk-parallel {display: flex;align-items: stretch;justify-content: center;background-color: white;position: relative;}#sk-container-id-1 div.sk-item::before, #sk-container-id-1 div.sk-parallel-item::before {content: \"\";position: absolute;border-left: 1px solid gray;box-sizing: border-box;top: 0;bottom: 0;left: 50%;z-index: -1;}#sk-container-id-1 div.sk-parallel-item {display: flex;flex-direction: column;z-index: 1;position: relative;background-color: white;}#sk-container-id-1 div.sk-parallel-item:first-child::after {align-self: flex-end;width: 50%;}#sk-container-id-1 div.sk-parallel-item:last-child::after {align-self: flex-start;width: 50%;}#sk-container-id-1 div.sk-parallel-item:only-child::after {width: 0;}#sk-container-id-1 div.sk-dashed-wrapped {border: 1px dashed gray;margin: 0 0.4em 0.5em 0.4em;box-sizing: border-box;padding-bottom: 0.4em;background-color: white;}#sk-container-id-1 div.sk-label label {font-family: monospace;font-weight: bold;display: inline-block;line-height: 1.2em;}#sk-container-id-1 div.sk-label-container {text-align: center;}#sk-container-id-1 div.sk-container {/* jupyter's `normalize.less` sets `[hidden] { display: none; }` but bootstrap.min.css set `[hidden] { display: none !important; }` so we also need the `!important` here to be able to override the default hidden behavior on the sphinx rendered scikit-learn.org. See: https://github.com/scikit-learn/scikit-learn/issues/21755 */display: inline-block !important;position: relative;}#sk-container-id-1 div.sk-text-repr-fallback {display: none;}</style><div id=\"sk-container-id-1\" class=\"sk-top-container\"><div class=\"sk-text-repr-fallback\"><pre>RandomForestClassifier(max_depth=10, random_state=25)</pre><b>In a Jupyter environment, please rerun this cell to show the HTML representation or trust the notebook. <br />On GitHub, the HTML representation is unable to render, please try loading this page with nbviewer.org.</b></div><div class=\"sk-container\" hidden><div class=\"sk-item\"><div class=\"sk-estimator sk-toggleable\"><input class=\"sk-toggleable__control sk-hidden--visually\" id=\"sk-estimator-id-1\" type=\"checkbox\" checked><label for=\"sk-estimator-id-1\" class=\"sk-toggleable__label sk-toggleable__label-arrow\">RandomForestClassifier</label><div class=\"sk-toggleable__content\"><pre>RandomForestClassifier(max_depth=10, random_state=25)</pre></div></div></div></div></div>"
            ]
          },
          "metadata": {},
          "execution_count": 34
        }
      ]
    },
    {
      "cell_type": "code",
      "metadata": {
        "id": "f4Mub5WOzDYU",
        "colab": {
          "base_uri": "https://localhost:8080/",
          "height": 74
        },
        "outputId": "62470da3-78de-4835-bb2a-256a2f37d69f"
      },
      "source": [
        "gbt.fit(Higgs_train, labels_train)"
      ],
      "execution_count": 35,
      "outputs": [
        {
          "output_type": "execute_result",
          "data": {
            "text/plain": [
              "GradientBoostingClassifier(max_depth=6, random_state=25)"
            ],
            "text/html": [
              "<style>#sk-container-id-2 {color: black;background-color: white;}#sk-container-id-2 pre{padding: 0;}#sk-container-id-2 div.sk-toggleable {background-color: white;}#sk-container-id-2 label.sk-toggleable__label {cursor: pointer;display: block;width: 100%;margin-bottom: 0;padding: 0.3em;box-sizing: border-box;text-align: center;}#sk-container-id-2 label.sk-toggleable__label-arrow:before {content: \"▸\";float: left;margin-right: 0.25em;color: #696969;}#sk-container-id-2 label.sk-toggleable__label-arrow:hover:before {color: black;}#sk-container-id-2 div.sk-estimator:hover label.sk-toggleable__label-arrow:before {color: black;}#sk-container-id-2 div.sk-toggleable__content {max-height: 0;max-width: 0;overflow: hidden;text-align: left;background-color: #f0f8ff;}#sk-container-id-2 div.sk-toggleable__content pre {margin: 0.2em;color: black;border-radius: 0.25em;background-color: #f0f8ff;}#sk-container-id-2 input.sk-toggleable__control:checked~div.sk-toggleable__content {max-height: 200px;max-width: 100%;overflow: auto;}#sk-container-id-2 input.sk-toggleable__control:checked~label.sk-toggleable__label-arrow:before {content: \"▾\";}#sk-container-id-2 div.sk-estimator input.sk-toggleable__control:checked~label.sk-toggleable__label {background-color: #d4ebff;}#sk-container-id-2 div.sk-label input.sk-toggleable__control:checked~label.sk-toggleable__label {background-color: #d4ebff;}#sk-container-id-2 input.sk-hidden--visually {border: 0;clip: rect(1px 1px 1px 1px);clip: rect(1px, 1px, 1px, 1px);height: 1px;margin: -1px;overflow: hidden;padding: 0;position: absolute;width: 1px;}#sk-container-id-2 div.sk-estimator {font-family: monospace;background-color: #f0f8ff;border: 1px dotted black;border-radius: 0.25em;box-sizing: border-box;margin-bottom: 0.5em;}#sk-container-id-2 div.sk-estimator:hover {background-color: #d4ebff;}#sk-container-id-2 div.sk-parallel-item::after {content: \"\";width: 100%;border-bottom: 1px solid gray;flex-grow: 1;}#sk-container-id-2 div.sk-label:hover label.sk-toggleable__label {background-color: #d4ebff;}#sk-container-id-2 div.sk-serial::before {content: \"\";position: absolute;border-left: 1px solid gray;box-sizing: border-box;top: 0;bottom: 0;left: 50%;z-index: 0;}#sk-container-id-2 div.sk-serial {display: flex;flex-direction: column;align-items: center;background-color: white;padding-right: 0.2em;padding-left: 0.2em;position: relative;}#sk-container-id-2 div.sk-item {position: relative;z-index: 1;}#sk-container-id-2 div.sk-parallel {display: flex;align-items: stretch;justify-content: center;background-color: white;position: relative;}#sk-container-id-2 div.sk-item::before, #sk-container-id-2 div.sk-parallel-item::before {content: \"\";position: absolute;border-left: 1px solid gray;box-sizing: border-box;top: 0;bottom: 0;left: 50%;z-index: -1;}#sk-container-id-2 div.sk-parallel-item {display: flex;flex-direction: column;z-index: 1;position: relative;background-color: white;}#sk-container-id-2 div.sk-parallel-item:first-child::after {align-self: flex-end;width: 50%;}#sk-container-id-2 div.sk-parallel-item:last-child::after {align-self: flex-start;width: 50%;}#sk-container-id-2 div.sk-parallel-item:only-child::after {width: 0;}#sk-container-id-2 div.sk-dashed-wrapped {border: 1px dashed gray;margin: 0 0.4em 0.5em 0.4em;box-sizing: border-box;padding-bottom: 0.4em;background-color: white;}#sk-container-id-2 div.sk-label label {font-family: monospace;font-weight: bold;display: inline-block;line-height: 1.2em;}#sk-container-id-2 div.sk-label-container {text-align: center;}#sk-container-id-2 div.sk-container {/* jupyter's `normalize.less` sets `[hidden] { display: none; }` but bootstrap.min.css set `[hidden] { display: none !important; }` so we also need the `!important` here to be able to override the default hidden behavior on the sphinx rendered scikit-learn.org. See: https://github.com/scikit-learn/scikit-learn/issues/21755 */display: inline-block !important;position: relative;}#sk-container-id-2 div.sk-text-repr-fallback {display: none;}</style><div id=\"sk-container-id-2\" class=\"sk-top-container\"><div class=\"sk-text-repr-fallback\"><pre>GradientBoostingClassifier(max_depth=6, random_state=25)</pre><b>In a Jupyter environment, please rerun this cell to show the HTML representation or trust the notebook. <br />On GitHub, the HTML representation is unable to render, please try loading this page with nbviewer.org.</b></div><div class=\"sk-container\" hidden><div class=\"sk-item\"><div class=\"sk-estimator sk-toggleable\"><input class=\"sk-toggleable__control sk-hidden--visually\" id=\"sk-estimator-id-2\" type=\"checkbox\" checked><label for=\"sk-estimator-id-2\" class=\"sk-toggleable__label sk-toggleable__label-arrow\">GradientBoostingClassifier</label><div class=\"sk-toggleable__content\"><pre>GradientBoostingClassifier(max_depth=6, random_state=25)</pre></div></div></div></div></div>"
            ]
          },
          "metadata": {},
          "execution_count": 35
        }
      ]
    },
    {
      "cell_type": "markdown",
      "metadata": {
        "id": "3C_3_nhoPhQY"
      },
      "source": [
        "calculate the  scores for the training and test sets and evaluate  overtraining etc"
      ]
    },
    {
      "cell_type": "code",
      "metadata": {
        "id": "yz3A54YTqXw1",
        "colab": {
          "base_uri": "https://localhost:8080/"
        },
        "outputId": "9790505f-6284-41e3-f2c0-b60422e549f3"
      },
      "source": [
        "rf.score(Higgs_train,labels_train)"
      ],
      "execution_count": 36,
      "outputs": [
        {
          "output_type": "execute_result",
          "data": {
            "text/plain": [
              "0.8643556895252449"
            ]
          },
          "metadata": {},
          "execution_count": 36
        }
      ]
    },
    {
      "cell_type": "code",
      "source": [
        "rf.score(Higgs_test,labels_test)"
      ],
      "metadata": {
        "colab": {
          "base_uri": "https://localhost:8080/"
        },
        "id": "H7P55LAxB09a",
        "outputId": "1b94890d-ec22-48eb-e892-ad11e1396a2f"
      },
      "execution_count": 37,
      "outputs": [
        {
          "output_type": "execute_result",
          "data": {
            "text/plain": [
              "0.8407587119541244"
            ]
          },
          "metadata": {},
          "execution_count": 37
        }
      ]
    },
    {
      "cell_type": "markdown",
      "source": [
        "The drop between the training and testing scores is about 0.023, which is a reasonable value. This shows that the model isn't over fitting to the training dataset."
      ],
      "metadata": {
        "id": "fGy7g1ErAlPI"
      }
    },
    {
      "cell_type": "code",
      "source": [
        "gbt.score(Higgs_train,labels_train)"
      ],
      "metadata": {
        "colab": {
          "base_uri": "https://localhost:8080/"
        },
        "id": "ttfNhZ9rB83r",
        "outputId": "3b1244c4-c2ce-4e8c-d7c1-3a962ba4a9c6"
      },
      "execution_count": 38,
      "outputs": [
        {
          "output_type": "execute_result",
          "data": {
            "text/plain": [
              "0.8748690425864319"
            ]
          },
          "metadata": {},
          "execution_count": 38
        }
      ]
    },
    {
      "cell_type": "code",
      "source": [
        "gbt.score(Higgs_test, labels_test)"
      ],
      "metadata": {
        "colab": {
          "base_uri": "https://localhost:8080/"
        },
        "id": "dHhS5xrFCFMT",
        "outputId": "673a0536-302d-423b-a97c-a937ce284664"
      },
      "execution_count": 39,
      "outputs": [
        {
          "output_type": "execute_result",
          "data": {
            "text/plain": [
              "0.8484230260255845"
            ]
          },
          "metadata": {},
          "execution_count": 39
        }
      ]
    },
    {
      "cell_type": "markdown",
      "source": [
        "The drop bewteen the training and testing scores is 0.026, which is reasonable and pretty close to the drop seen in the rf model scores. Again shows that the model isn't overfitting to the training data."
      ],
      "metadata": {
        "id": "jhnbCkTOBRo-"
      }
    },
    {
      "cell_type": "markdown",
      "source": [
        "I had to do several model tests to find what max depth for the 2 tree models would give reasonably high scores for both datasets without overfitting. Ended up using a depth of 10 for the rf model and 6 for the gbt model."
      ],
      "metadata": {
        "id": "nmPBD1b7CpbW"
      }
    },
    {
      "cell_type": "markdown",
      "metadata": {
        "id": "6aiULt4TP8kn"
      },
      "source": [
        "- Produce a confusion matrix for each model and compare them\n",
        "\n",
        "\n",
        "\n",
        "\n"
      ]
    },
    {
      "cell_type": "code",
      "metadata": {
        "id": "ak3gnF6duviH"
      },
      "source": [
        "\n",
        "# I creaded this function (mostly copied from sklearn examples).\n",
        "# You can use it to create the confusion matrix\n",
        "from mpl_toolkits.axes_grid1.axes_divider import make_axes_locatable\n",
        "from sklearn.metrics import confusion_matrix\n",
        "def plot_confusion_matrix(y_true, y_pred, normalize=False, title='', cmap=pl.cm.bone_r):\n",
        "    \"\"\"\n",
        "    This function prints and plots the confusion matrix.\n",
        "    Normalization can be applied by setting `normalize=True`.\n",
        "    \"\"\"\n",
        "    if normalize:\n",
        "          title = title + ' Normalized confusion matrix'\n",
        "    else:\n",
        "          title = title + ' Confusion matrix, without normalization'\n",
        "\n",
        "    # Compute confusion matrix\n",
        "    cm = confusion_matrix(y_true, y_pred)\n",
        "    # plot it\n",
        "    fig, ax = plt.subplots(1, 1)\n",
        "    fig.subplots_adjust()\n",
        "    im = ax.imshow(cm, cmap=cmap)\n",
        "    ax_divider = make_axes_locatable(ax)\n",
        "    # add an axes to the right of the main axes.\n",
        "    pl.xticks([0, 1], labels=[\"N\", \"P\"])\n",
        "    pl.ylim(-0.5,1.5)\n",
        "    pl.yticks([0,1], labels=[\"N\", \"P\"])\n",
        "    pl.xlabel('prediction')\n",
        "    pl.ylabel('truth')\n",
        "    pl.title(title)\n",
        "    cax = ax_divider.append_axes(\"right\", size=\"10%\", pad=\"2%\")\n",
        "    cb = pl.colorbar(im, cax=cax)\n"
      ],
      "execution_count": 40,
      "outputs": []
    },
    {
      "cell_type": "code",
      "source": [
        "print(len(labels_test))\n"
      ],
      "metadata": {
        "colab": {
          "base_uri": "https://localhost:8080/"
        },
        "id": "2mI_kbkQF-8J",
        "outputId": "5a00fdb4-4949-43e4-d670-aff30d5e2b85"
      },
      "execution_count": 41,
      "outputs": [
        {
          "output_type": "stream",
          "name": "stdout",
          "text": [
            "18136\n"
          ]
        }
      ]
    },
    {
      "cell_type": "code",
      "metadata": {
        "id": "CgQcTMFuxZV4",
        "colab": {
          "base_uri": "https://localhost:8080/",
          "height": 472
        },
        "outputId": "9ef17c6b-5b99-434a-a296-54a5f76a4a03"
      },
      "source": [
        "plot_confusion_matrix(labels_test, rf.predict(Higgs_test), title = 'RF')"
      ],
      "execution_count": 42,
      "outputs": [
        {
          "output_type": "display_data",
          "data": {
            "text/plain": [
              "<Figure size 640x480 with 2 Axes>"
            ],
            "image/png": "[encoded data removed]"
          },
          "metadata": {}
        }
      ]
    },
    {
      "cell_type": "markdown",
      "source": [
        "I flipped the colorbar, because I was having trouble figuring out the level of false negatives and false positives. The false negatives and false positives are the on-diagonal squares, which both appear to have about 1000 counts. This amounts to about a 5.5% false negative rate and a 5.5% false positive rate."
      ],
      "metadata": {
        "id": "V8qtjCKkFpV3"
      }
    },
    {
      "cell_type": "code",
      "source": [
        "plot_confusion_matrix(labels_test, gbt.predict(Higgs_test), title = 'GBT')"
      ],
      "metadata": {
        "colab": {
          "base_uri": "https://localhost:8080/",
          "height": 472
        },
        "id": "myd0XisgE-oJ",
        "outputId": "84b30d10-084a-445e-f8ac-b51b7937007b"
      },
      "execution_count": 43,
      "outputs": [
        {
          "output_type": "display_data",
          "data": {
            "text/plain": [
              "<Figure size 640x480 with 2 Axes>"
            ],
            "image/png": "[encoded data removed]"
          },
          "metadata": {}
        }
      ]
    },
    {
      "cell_type": "markdown",
      "source": [
        "The confusion matrix for the GBT model appears pretty similar to the RF matrix. This makes sense, seeing as they had scores with 0.01 of each other when the models were run on the test datasets. Again there appear to be about 1000 each of false negatives and false positives, which leads to 5.5% rate for both."
      ],
      "metadata": {
        "id": "zGqFZimpi7mX"
      }
    },
    {
      "cell_type": "markdown",
      "metadata": {
        "id": "TbZQ3kMSQFK6"
      },
      "source": [
        "#required for 661, EC for 461\n",
        "- Use a Random Forest and a Gradiend Boosted Tree Regressor model to predict the weight of the particles. Compare the model performance on training and test setsm\n"
      ]
    },
    {
      "cell_type": "code",
      "metadata": {
        "id": "p_6uYj243Be_"
      },
      "source": [
        "traindata_weights, testdata_weights, train_weights, test_weights = train_test_split(higgsdata_final2, weights, test_size= 0.25)"
      ],
      "execution_count": 44,
      "outputs": []
    },
    {
      "cell_type": "code",
      "metadata": {
        "id": "UkanVFfO3HBe",
        "colab": {
          "base_uri": "https://localhost:8080/",
          "height": 74
        },
        "outputId": "6627ffac-294b-412c-fd12-f3e5d5212f2e"
      },
      "source": [
        "from sklearn.ensemble import RandomForestRegressor\n",
        "rfR = RandomForestRegressor(n_estimators=50, max_depth=6, random_state=25)\n",
        "\n",
        "rfR.fit(traindata_weights,train_weights)\n"
      ],
      "execution_count": 45,
      "outputs": [
        {
          "output_type": "execute_result",
          "data": {
            "text/plain": [
              "RandomForestRegressor(max_depth=6, n_estimators=50, random_state=25)"
            ],
            "text/html": [
              "<style>#sk-container-id-3 {color: black;background-color: white;}#sk-container-id-3 pre{padding: 0;}#sk-container-id-3 div.sk-toggleable {background-color: white;}#sk-container-id-3 label.sk-toggleable__label {cursor: pointer;display: block;width: 100%;margin-bottom: 0;padding: 0.3em;box-sizing: border-box;text-align: center;}#sk-container-id-3 label.sk-toggleable__label-arrow:before {content: \"▸\";float: left;margin-right: 0.25em;color: #696969;}#sk-container-id-3 label.sk-toggleable__label-arrow:hover:before {color: black;}#sk-container-id-3 div.sk-estimator:hover label.sk-toggleable__label-arrow:before {color: black;}#sk-container-id-3 div.sk-toggleable__content {max-height: 0;max-width: 0;overflow: hidden;text-align: left;background-color: #f0f8ff;}#sk-container-id-3 div.sk-toggleable__content pre {margin: 0.2em;color: black;border-radius: 0.25em;background-color: #f0f8ff;}#sk-container-id-3 input.sk-toggleable__control:checked~div.sk-toggleable__content {max-height: 200px;max-width: 100%;overflow: auto;}#sk-container-id-3 input.sk-toggleable__control:checked~label.sk-toggleable__label-arrow:before {content: \"▾\";}#sk-container-id-3 div.sk-estimator input.sk-toggleable__control:checked~label.sk-toggleable__label {background-color: #d4ebff;}#sk-container-id-3 div.sk-label input.sk-toggleable__control:checked~label.sk-toggleable__label {background-color: #d4ebff;}#sk-container-id-3 input.sk-hidden--visually {border: 0;clip: rect(1px 1px 1px 1px);clip: rect(1px, 1px, 1px, 1px);height: 1px;margin: -1px;overflow: hidden;padding: 0;position: absolute;width: 1px;}#sk-container-id-3 div.sk-estimator {font-family: monospace;background-color: #f0f8ff;border: 1px dotted black;border-radius: 0.25em;box-sizing: border-box;margin-bottom: 0.5em;}#sk-container-id-3 div.sk-estimator:hover {background-color: #d4ebff;}#sk-container-id-3 div.sk-parallel-item::after {content: \"\";width: 100%;border-bottom: 1px solid gray;flex-grow: 1;}#sk-container-id-3 div.sk-label:hover label.sk-toggleable__label {background-color: #d4ebff;}#sk-container-id-3 div.sk-serial::before {content: \"\";position: absolute;border-left: 1px solid gray;box-sizing: border-box;top: 0;bottom: 0;left: 50%;z-index: 0;}#sk-container-id-3 div.sk-serial {display: flex;flex-direction: column;align-items: center;background-color: white;padding-right: 0.2em;padding-left: 0.2em;position: relative;}#sk-container-id-3 div.sk-item {position: relative;z-index: 1;}#sk-container-id-3 div.sk-parallel {display: flex;align-items: stretch;justify-content: center;background-color: white;position: relative;}#sk-container-id-3 div.sk-item::before, #sk-container-id-3 div.sk-parallel-item::before {content: \"\";position: absolute;border-left: 1px solid gray;box-sizing: border-box;top: 0;bottom: 0;left: 50%;z-index: -1;}#sk-container-id-3 div.sk-parallel-item {display: flex;flex-direction: column;z-index: 1;position: relative;background-color: white;}#sk-container-id-3 div.sk-parallel-item:first-child::after {align-self: flex-end;width: 50%;}#sk-container-id-3 div.sk-parallel-item:last-child::after {align-self: flex-start;width: 50%;}#sk-container-id-3 div.sk-parallel-item:only-child::after {width: 0;}#sk-container-id-3 div.sk-dashed-wrapped {border: 1px dashed gray;margin: 0 0.4em 0.5em 0.4em;box-sizing: border-box;padding-bottom: 0.4em;background-color: white;}#sk-container-id-3 div.sk-label label {font-family: monospace;font-weight: bold;display: inline-block;line-height: 1.2em;}#sk-container-id-3 div.sk-label-container {text-align: center;}#sk-container-id-3 div.sk-container {/* jupyter's `normalize.less` sets `[hidden] { display: none; }` but bootstrap.min.css set `[hidden] { display: none !important; }` so we also need the `!important` here to be able to override the default hidden behavior on the sphinx rendered scikit-learn.org. See: https://github.com/scikit-learn/scikit-learn/issues/21755 */display: inline-block !important;position: relative;}#sk-container-id-3 div.sk-text-repr-fallback {display: none;}</style><div id=\"sk-container-id-3\" class=\"sk-top-container\"><div class=\"sk-text-repr-fallback\"><pre>RandomForestRegressor(max_depth=6, n_estimators=50, random_state=25)</pre><b>In a Jupyter environment, please rerun this cell to show the HTML representation or trust the notebook. <br />On GitHub, the HTML representation is unable to render, please try loading this page with nbviewer.org.</b></div><div class=\"sk-container\" hidden><div class=\"sk-item\"><div class=\"sk-estimator sk-toggleable\"><input class=\"sk-toggleable__control sk-hidden--visually\" id=\"sk-estimator-id-3\" type=\"checkbox\" checked><label for=\"sk-estimator-id-3\" class=\"sk-toggleable__label sk-toggleable__label-arrow\">RandomForestRegressor</label><div class=\"sk-toggleable__content\"><pre>RandomForestRegressor(max_depth=6, n_estimators=50, random_state=25)</pre></div></div></div></div></div>"
            ]
          },
          "metadata": {},
          "execution_count": 45
        }
      ]
    },
    {
      "cell_type": "code",
      "source": [
        "rfR.score(traindata_weights,train_weights)"
      ],
      "metadata": {
        "colab": {
          "base_uri": "https://localhost:8080/"
        },
        "id": "FqCES6q4UCs6",
        "outputId": "548f0aa1-4f81-45c6-e412-b69d2e0893a2"
      },
      "execution_count": 46,
      "outputs": [
        {
          "output_type": "execute_result",
          "data": {
            "text/plain": [
              "0.4411577804485669"
            ]
          },
          "metadata": {},
          "execution_count": 46
        }
      ]
    },
    {
      "cell_type": "code",
      "source": [
        "rfR.score(testdata_weights,test_weights)"
      ],
      "metadata": {
        "colab": {
          "base_uri": "https://localhost:8080/"
        },
        "id": "woyTP5rFVYrk",
        "outputId": "d0928d63-9739-43ea-c851-caff37c05310"
      },
      "execution_count": 47,
      "outputs": [
        {
          "output_type": "execute_result",
          "data": {
            "text/plain": [
              "0.39635873059247784"
            ]
          },
          "metadata": {},
          "execution_count": 47
        }
      ]
    },
    {
      "cell_type": "markdown",
      "source": [
        "I tired several different max depths for the regressor in order to optimize the training score while preventing a dropoff of >0.05 when running on the testing data. I settled on a depth of 6. The regressor is performing much worse on this dataset than the classifier was, even a depth of 10 was only reaching a score of 0.60 on the training data."
      ],
      "metadata": {
        "id": "lLRRtXS09kb6"
      }
    },
    {
      "cell_type": "code",
      "source": [
        "from sklearn.ensemble import GradientBoostingRegressor\n",
        "gbtR = GradientBoostingRegressor(learning_rate= 0.1, n_estimators = 100, max_depth = 3, random_state = 25)\n",
        "\n",
        "gbtR.fit(traindata_weights,train_weights)"
      ],
      "metadata": {
        "colab": {
          "base_uri": "https://localhost:8080/",
          "height": 74
        },
        "id": "QwFIerAnTnrK",
        "outputId": "693d6466-a557-4d7a-f5cd-79f25063ac71"
      },
      "execution_count": 48,
      "outputs": [
        {
          "output_type": "execute_result",
          "data": {
            "text/plain": [
              "GradientBoostingRegressor(random_state=25)"
            ],
            "text/html": [
              "<style>#sk-container-id-4 {color: black;background-color: white;}#sk-container-id-4 pre{padding: 0;}#sk-container-id-4 div.sk-toggleable {background-color: white;}#sk-container-id-4 label.sk-toggleable__label {cursor: pointer;display: block;width: 100%;margin-bottom: 0;padding: 0.3em;box-sizing: border-box;text-align: center;}#sk-container-id-4 label.sk-toggleable__label-arrow:before {content: \"▸\";float: left;margin-right: 0.25em;color: #696969;}#sk-container-id-4 label.sk-toggleable__label-arrow:hover:before {color: black;}#sk-container-id-4 div.sk-estimator:hover label.sk-toggleable__label-arrow:before {color: black;}#sk-container-id-4 div.sk-toggleable__content {max-height: 0;max-width: 0;overflow: hidden;text-align: left;background-color: #f0f8ff;}#sk-container-id-4 div.sk-toggleable__content pre {margin: 0.2em;color: black;border-radius: 0.25em;background-color: #f0f8ff;}#sk-container-id-4 input.sk-toggleable__control:checked~div.sk-toggleable__content {max-height: 200px;max-width: 100%;overflow: auto;}#sk-container-id-4 input.sk-toggleable__control:checked~label.sk-toggleable__label-arrow:before {content: \"▾\";}#sk-container-id-4 div.sk-estimator input.sk-toggleable__control:checked~label.sk-toggleable__label {background-color: #d4ebff;}#sk-container-id-4 div.sk-label input.sk-toggleable__control:checked~label.sk-toggleable__label {background-color: #d4ebff;}#sk-container-id-4 input.sk-hidden--visually {border: 0;clip: rect(1px 1px 1px 1px);clip: rect(1px, 1px, 1px, 1px);height: 1px;margin: -1px;overflow: hidden;padding: 0;position: absolute;width: 1px;}#sk-container-id-4 div.sk-estimator {font-family: monospace;background-color: #f0f8ff;border: 1px dotted black;border-radius: 0.25em;box-sizing: border-box;margin-bottom: 0.5em;}#sk-container-id-4 div.sk-estimator:hover {background-color: #d4ebff;}#sk-container-id-4 div.sk-parallel-item::after {content: \"\";width: 100%;border-bottom: 1px solid gray;flex-grow: 1;}#sk-container-id-4 div.sk-label:hover label.sk-toggleable__label {background-color: #d4ebff;}#sk-container-id-4 div.sk-serial::before {content: \"\";position: absolute;border-left: 1px solid gray;box-sizing: border-box;top: 0;bottom: 0;left: 50%;z-index: 0;}#sk-container-id-4 div.sk-serial {display: flex;flex-direction: column;align-items: center;background-color: white;padding-right: 0.2em;padding-left: 0.2em;position: relative;}#sk-container-id-4 div.sk-item {position: relative;z-index: 1;}#sk-container-id-4 div.sk-parallel {display: flex;align-items: stretch;justify-content: center;background-color: white;position: relative;}#sk-container-id-4 div.sk-item::before, #sk-container-id-4 div.sk-parallel-item::before {content: \"\";position: absolute;border-left: 1px solid gray;box-sizing: border-box;top: 0;bottom: 0;left: 50%;z-index: -1;}#sk-container-id-4 div.sk-parallel-item {display: flex;flex-direction: column;z-index: 1;position: relative;background-color: white;}#sk-container-id-4 div.sk-parallel-item:first-child::after {align-self: flex-end;width: 50%;}#sk-container-id-4 div.sk-parallel-item:last-child::after {align-self: flex-start;width: 50%;}#sk-container-id-4 div.sk-parallel-item:only-child::after {width: 0;}#sk-container-id-4 div.sk-dashed-wrapped {border: 1px dashed gray;margin: 0 0.4em 0.5em 0.4em;box-sizing: border-box;padding-bottom: 0.4em;background-color: white;}#sk-container-id-4 div.sk-label label {font-family: monospace;font-weight: bold;display: inline-block;line-height: 1.2em;}#sk-container-id-4 div.sk-label-container {text-align: center;}#sk-container-id-4 div.sk-container {/* jupyter's `normalize.less` sets `[hidden] { display: none; }` but bootstrap.min.css set `[hidden] { display: none !important; }` so we also need the `!important` here to be able to override the default hidden behavior on the sphinx rendered scikit-learn.org. See: https://github.com/scikit-learn/scikit-learn/issues/21755 */display: inline-block !important;position: relative;}#sk-container-id-4 div.sk-text-repr-fallback {display: none;}</style><div id=\"sk-container-id-4\" class=\"sk-top-container\"><div class=\"sk-text-repr-fallback\"><pre>GradientBoostingRegressor(random_state=25)</pre><b>In a Jupyter environment, please rerun this cell to show the HTML representation or trust the notebook. <br />On GitHub, the HTML representation is unable to render, please try loading this page with nbviewer.org.</b></div><div class=\"sk-container\" hidden><div class=\"sk-item\"><div class=\"sk-estimator sk-toggleable\"><input class=\"sk-toggleable__control sk-hidden--visually\" id=\"sk-estimator-id-4\" type=\"checkbox\" checked><label for=\"sk-estimator-id-4\" class=\"sk-toggleable__label sk-toggleable__label-arrow\">GradientBoostingRegressor</label><div class=\"sk-toggleable__content\"><pre>GradientBoostingRegressor(random_state=25)</pre></div></div></div></div></div>"
            ]
          },
          "metadata": {},
          "execution_count": 48
        }
      ]
    },
    {
      "cell_type": "code",
      "source": [
        "gbtR.score(traindata_weights,train_weights)"
      ],
      "metadata": {
        "colab": {
          "base_uri": "https://localhost:8080/"
        },
        "id": "Q67oG8XSXS1U",
        "outputId": "660f7e54-4732-4476-e6aa-363246efa984"
      },
      "execution_count": 49,
      "outputs": [
        {
          "output_type": "execute_result",
          "data": {
            "text/plain": [
              "0.47147400290267705"
            ]
          },
          "metadata": {},
          "execution_count": 49
        }
      ]
    },
    {
      "cell_type": "code",
      "source": [
        "gbtR.score(testdata_weights, test_weights)"
      ],
      "metadata": {
        "colab": {
          "base_uri": "https://localhost:8080/"
        },
        "id": "Y0dvPN-dXbem",
        "outputId": "c33ea6e8-6482-419b-9d0c-1bcffda2d30f"
      },
      "execution_count": 50,
      "outputs": [
        {
          "output_type": "execute_result",
          "data": {
            "text/plain": [
              "0.4310833086629212"
            ]
          },
          "metadata": {},
          "execution_count": 50
        }
      ]
    },
    {
      "cell_type": "markdown",
      "source": [
        "Again I looked for a max depth that had the best score on the training data while keeping the dropoff on the testing data to around 0.04. The depth I used was 3, and again this regressor is performing much worse on the dataset than the classifier was."
      ],
      "metadata": {
        "id": "7B7KvHHe9l-3"
      }
    },
    {
      "cell_type": "markdown",
      "metadata": {
        "id": "CKvyqcFr3Z3d"
      },
      "source": [
        " Calculate the L2 and L1 loss functions for the fitted regression models (see slides for the definition) and discuss the results"
      ]
    },
    {
      "cell_type": "code",
      "source": [
        "def L1_loss(y_true, y_predict):\n",
        "  true_array = np.asarray(y_true)\n",
        "  predict_array = np.asarray(y_predict)\n",
        "\n",
        "  L1 = np.sum(np.abs(true_array - predict_array))\n",
        "\n",
        "  return L1\n",
        "\n",
        "\n",
        "\n",
        "def L2_loss(y_true, y_predict):\n",
        "  true_array = np.asarray(y_true)\n",
        "  predict_array = np.asarray(y_predict)\n",
        "\n",
        "  L2 = np.sum((true_array - predict_array)**2)\n",
        "\n",
        "  return L2\n"
      ],
      "metadata": {
        "id": "cLbDEFhibZTN"
      },
      "execution_count": 51,
      "outputs": []
    },
    {
      "cell_type": "code",
      "metadata": {
        "id": "CAMTAgRTIeHq",
        "colab": {
          "base_uri": "https://localhost:8080/"
        },
        "outputId": "f57ac08d-3b2b-4fa6-a43d-fff52356d102"
      },
      "source": [
        "\n",
        "L1 = L1_loss(test_weights,rfR.predict(testdata_weights))\n",
        "L2 = L2_loss(test_weights, rfR.predict(testdata_weights))\n",
        "\n",
        "print(\"The L1 for my rfR is : {:.04}\".format(L1))\n",
        "print(\"The L2 for my rfR is : {:.04}\".format(L2))"
      ],
      "execution_count": 52,
      "outputs": [
        {
          "output_type": "stream",
          "name": "stdout",
          "text": [
            "The L1 for my rfR is : 6.996e+03\n",
            "The L2 for my rfR is : 6.994e+03\n"
          ]
        }
      ]
    },
    {
      "cell_type": "code",
      "source": [
        "L1 = L1_loss(test_weights,gbtR.predict(testdata_weights))\n",
        "L2 = L2_loss(test_weights, gbtR.predict(testdata_weights))\n",
        "\n",
        "print(\"The L1 for my gbtR is : {:.04}\".format(L1))\n",
        "print(\"The L2 for my gbtR is : {:.04}\".format(L2))"
      ],
      "metadata": {
        "colab": {
          "base_uri": "https://localhost:8080/"
        },
        "id": "IjiLNahH9UXN",
        "outputId": "77174469-42d1-4916-e52b-de2a16d7e762"
      },
      "execution_count": 53,
      "outputs": [
        {
          "output_type": "stream",
          "name": "stdout",
          "text": [
            "The L1 for my gbtR is : 6.854e+03\n",
            "The L2 for my gbtR is : 6.592e+03\n"
          ]
        }
      ]
    },
    {
      "cell_type": "markdown",
      "source": [
        "All four of the loss functions on the rfR and gbtR are above 6500. This shows that both regression models have not done will at minimizing the L2 and L1 loss functions. This suggests that I may have removed columns during my data cleaning that would have improved the regressors predictive success. It could also suggest that this dataset isn't optimal for using a regressor model."
      ],
      "metadata": {
        "id": "rFhkBRcU9hFl"
      }
    },
    {
      "cell_type": "markdown",
      "metadata": {
        "id": "c38At7ayYd_5"
      },
      "source": [
        "# Choose between feature importance and grid optimization (both 461 and 661)\n",
        "\n",
        "- For the Random Forest classifier, find the 4 most important features based on the simple unoptimized model you created earlier on. Use the documentation to find out what they are. We have not talked abotu the physics of this problem at all but the Kaggle challenge description should provide enogh information for you to comment on this result is somewhat superficially.\n",
        "\n",
        "You can use ```rf.feature_importance_``` on the trained model to extract the relative importance of each feature (a number from 0 to 1) and then choose the features that have the 4 highest numbers (the numpy function ```argsort()``` is helpful here!)\n",
        "\n",
        "\n",
        "\n",
        "\n",
        "\n"
      ]
    },
    {
      "cell_type": "code",
      "source": [
        "#Using feature importance, code from the Titanic notebook that was shared\n",
        "\n",
        "print(\"Random Forest feature importance\")\n",
        "for f,fi in zip (higgsdata_final2.columns, rf.feature_importances_):\n",
        "  print (f, fi.round(2))"
      ],
      "metadata": {
        "id": "8xecOA0ec1zR",
        "colab": {
          "base_uri": "https://localhost:8080/"
        },
        "outputId": "f4ba1299-d219-416e-d463-bdf275a36e1b"
      },
      "execution_count": 54,
      "outputs": [
        {
          "output_type": "stream",
          "name": "stdout",
          "text": [
            "Random Forest feature importance\n",
            "EventId 0.0\n",
            "DER_mass_MMC 0.38\n",
            "DER_mass_transverse_met_lep 0.07\n",
            "DER_mass_vis 0.12\n",
            "DER_pt_h 0.02\n",
            "DER_mass_jet_jet 0.11\n",
            "DER_deltar_tau_lep 0.04\n",
            "DER_pt_tot 0.04\n",
            "DER_sum_pt 0.01\n",
            "DER_pt_ratio_lep_tau 0.02\n",
            "DER_met_phi_centrality 0.06\n",
            "PRI_tau_pt 0.03\n",
            "PRI_tau_eta 0.01\n",
            "PRI_tau_phi 0.0\n",
            "PRI_lep_pt 0.01\n",
            "PRI_lep_eta 0.01\n",
            "PRI_lep_phi 0.0\n",
            "PRI_met 0.02\n",
            "PRI_met_phi 0.0\n",
            "PRI_met_sumet 0.01\n",
            "PRI_jet_num 0.02\n",
            "PRI_jet_leading_pt 0.01\n",
            "PRI_jet_leading_eta 0.01\n",
            "PRI_jet_leading_phi 0.0\n",
            "PRI_jet_subleading_pt 0.01\n",
            "PRI_jet_all_pt 0.01\n"
          ]
        }
      ]
    },
    {
      "cell_type": "code",
      "source": [
        "fistd = np.std([tree.feature_importances_ for tree in rf.estimators_],\n",
        "             axis=0)\n",
        "print(\"Random Forest feature importance\")\n",
        "for f, fi, s in zip (higgsdata_final2.columns, rf.feature_importances_, fistd):\n",
        "  print (f, fi.round(2), \"+/-\", s.round(2))"
      ],
      "metadata": {
        "id": "ULXzf4ErdvCg",
        "colab": {
          "base_uri": "https://localhost:8080/"
        },
        "outputId": "515e512d-1bc0-4fdd-b796-1467c5b5e2be"
      },
      "execution_count": 55,
      "outputs": [
        {
          "output_type": "stream",
          "name": "stdout",
          "text": [
            "Random Forest feature importance\n",
            "EventId 0.0 +/- 0.0\n",
            "DER_mass_MMC 0.38 +/- 0.11\n",
            "DER_mass_transverse_met_lep 0.07 +/- 0.04\n",
            "DER_mass_vis 0.12 +/- 0.07\n",
            "DER_pt_h 0.02 +/- 0.01\n",
            "DER_mass_jet_jet 0.11 +/- 0.05\n",
            "DER_deltar_tau_lep 0.04 +/- 0.02\n",
            "DER_pt_tot 0.04 +/- 0.03\n",
            "DER_sum_pt 0.01 +/- 0.01\n",
            "DER_pt_ratio_lep_tau 0.02 +/- 0.01\n",
            "DER_met_phi_centrality 0.06 +/- 0.04\n",
            "PRI_tau_pt 0.03 +/- 0.02\n",
            "PRI_tau_eta 0.01 +/- 0.0\n",
            "PRI_tau_phi 0.0 +/- 0.0\n",
            "PRI_lep_pt 0.01 +/- 0.0\n",
            "PRI_lep_eta 0.01 +/- 0.0\n",
            "PRI_lep_phi 0.0 +/- 0.0\n",
            "PRI_met 0.02 +/- 0.01\n",
            "PRI_met_phi 0.0 +/- 0.0\n",
            "PRI_met_sumet 0.01 +/- 0.0\n",
            "PRI_jet_num 0.02 +/- 0.02\n",
            "PRI_jet_leading_pt 0.01 +/- 0.0\n",
            "PRI_jet_leading_eta 0.01 +/- 0.01\n",
            "PRI_jet_leading_phi 0.0 +/- 0.0\n",
            "PRI_jet_subleading_pt 0.01 +/- 0.0\n",
            "PRI_jet_all_pt 0.01 +/- 0.01\n"
          ]
        }
      ]
    },
    {
      "cell_type": "code",
      "source": [
        "indices = np.argsort(rf.feature_importances_)\n",
        "pl.figure()\n",
        "pl.title(\"Feature importances\")\n",
        "pl.barh(np.arange(rf.feature_importances_.shape[0]),\n",
        "        rf.feature_importances_[indices],\n",
        "       xerr=fistd[indices], align=\"center\")\n",
        "#pl.xticks(range(rf.feature_importances_.shape[0]), indices)\n",
        "pl.yticks(range(rf.feature_importances_.shape[0]),\n",
        "          labels=higgsdata_final2.columns[indices])\n",
        "pl.ylim(21.5,26)\n",
        "pl.xlim(0, 1)\n",
        "pl.show()"
      ],
      "metadata": {
        "colab": {
          "base_uri": "https://localhost:8080/",
          "height": 452
        },
        "id": "nEhkynZW5fw4",
        "outputId": "71fd58e2-01b3-44b2-dde2-fa841be8b3ee"
      },
      "execution_count": 56,
      "outputs": [
        {
          "output_type": "display_data",
          "data": {
            "text/plain": [
              "<Figure size 640x480 with 1 Axes>"
            ],
            "image/png": "[encoded data removed]"
          },
          "metadata": {}
        }
      ]
    },
    {
      "cell_type": "markdown",
      "source": [
        "Based on my Random Forest Classifier model, the 4 most important features are DER_mass_MMC, DER_mass_jet_jet, DER_mass_vis, and DER_mass_transverse_met_lep. DER_mass_MMC has the an importance of 0.38 +/- 0.11, which is over 3 times the value of the next two features. The DER_mass_jet_jet and DER_mass_vis features have importances of 0.12 and 0.11, respectively. Interestingly these are roughly equal to the error on the first feature. The last of these features, DER_mass_transverse_met_lep was found to have an importance of 0.07."
      ],
      "metadata": {
        "id": "F583Yh6P67rA"
      }
    },
    {
      "cell_type": "markdown",
      "source": [
        "- Explore the parameter space with the sklearn module ```sklearn.model_selection.RandomizedSearchCV``` *fitting only those 4 features*\n",
        "\n",
        "Follow this example to set up the parameter search. Set the estimators to 10 and 100, (the number of trees) and the max depth to 3, and 10, and None (let it be unconstrained). Set bootstrap to both True and False. Set the number of features to consider at every split to both \"autp\" and \"sqrt\". Use ```pprint``` like I did earlier in this notebook to print the parameters set\n",
        "\n",
        "**this takes some computational time! so do not start this at the last minute!!**"
      ],
      "metadata": {
        "id": "PL_3KoCrmfW7"
      }
    },
    {
      "cell_type": "code",
      "metadata": {
        "id": "Wgh8TOENZn6p",
        "colab": {
          "base_uri": "https://localhost:8080/",
          "height": 191
        },
        "outputId": "5e194212-ffff-4484-dab4-193e1c9929fb"
      },
      "source": [
        "#I decide to do the feature importance method instead of grid importance\n",
        "higgsdata.iloc[:, best_features_index]"
      ],
      "execution_count": 57,
      "outputs": [
        {
          "output_type": "error",
          "ename": "NameError",
          "evalue": "ignored",
          "traceback": [
            "\u001b[0;31m---------------------------------------------------------------------------\u001b[0m",
            "\u001b[0;31mNameError\u001b[0m                                 Traceback (most recent call last)",
            "\u001b[0;32m<ipython-input-57-4ef418b36086>\u001b[0m in \u001b[0;36m<cell line: 2>\u001b[0;34m()\u001b[0m\n\u001b[1;32m      1\u001b[0m \u001b[0;31m#I decide to do the feature importance method instead of grid importance\u001b[0m\u001b[0;34m\u001b[0m\u001b[0;34m\u001b[0m\u001b[0m\n\u001b[0;32m----> 2\u001b[0;31m \u001b[0mhiggsdata\u001b[0m\u001b[0;34m.\u001b[0m\u001b[0miloc\u001b[0m\u001b[0;34m[\u001b[0m\u001b[0;34m:\u001b[0m\u001b[0;34m,\u001b[0m \u001b[0mbest_features_index\u001b[0m\u001b[0;34m]\u001b[0m\u001b[0;34m\u001b[0m\u001b[0;34m\u001b[0m\u001b[0m\n\u001b[0m",
            "\u001b[0;31mNameError\u001b[0m: name 'best_features_index' is not defined"
          ]
        }
      ]
    },
    {
      "cell_type": "markdown",
      "metadata": {
        "id": "SfdKk4Pk7tTz"
      },
      "source": [
        " mine and your best features do not necessarily have to be the same because our models may be different (different parameters, different random seed etc)"
      ]
    },
    {
      "cell_type": "code",
      "metadata": {
        "id": "t-QQqGlp5ty3"
      },
      "source": [
        "print(random_grid)"
      ],
      "execution_count": null,
      "outputs": []
    },
    {
      "cell_type": "code",
      "metadata": {
        "id": "1AJ70oqZPvL_"
      },
      "source": [
        "# Use the random grid to search for best hyperparameters\n",
        "# First create the base model to tune\n",
        "# Random search of parameters, using 3 fold cross validation,\n",
        "# search across 18 different combinations\n",
        "random_search = RandomizedSearchCV(estimator = rf, param_distributions=random_grid,\n",
        "                                   n_iter=1, cv=3, iid=False)\n"
      ],
      "execution_count": null,
      "outputs": []
    },
    {
      "cell_type": "markdown",
      "metadata": {
        "id": "T3W60KM1Jb5r"
      },
      "source": [
        "Note that this may take a long time! It took 1 hour for me to run this. Dont start at the last minute!!"
      ]
    },
    {
      "cell_type": "code",
      "metadata": {
        "id": "nCzypqyrtsEg"
      },
      "source": [
        "random_search.fit(...\n"
      ],
      "execution_count": null,
      "outputs": []
    },
    {
      "cell_type": "code",
      "metadata": {
        "id": "4GfLrtvPBVT7"
      },
      "source": [
        "print(\"Tuned RF  Parameters: {}\".format(...))\n",
        "print(\"Best score is {}\".format(...))\n"
      ],
      "execution_count": null,
      "outputs": []
    },
    {
      "cell_type": "code",
      "metadata": {
        "id": "WaHvlFa27EV4"
      },
      "source": [
        "df = pd.DataFrame(random_search.cv_results_)\n"
      ],
      "execution_count": null,
      "outputs": []
    },
    {
      "cell_type": "code",
      "metadata": {
        "id": "6pcXfIzb7eEw"
      },
      "source": [
        "df"
      ],
      "execution_count": null,
      "outputs": []
    },
    {
      "cell_type": "markdown",
      "metadata": {
        "id": "e1r9zN9yI-at"
      },
      "source": [
        "Plot a simple 3-point ROC curve for the model with the best parameters found in the previous step. Describe it."
      ]
    },
    {
      "cell_type": "code",
      "metadata": {
        "id": "Wl2NKYAy9LYt"
      },
      "source": [
        "rf.fit(traindata, train_label.values.flatten()==\"s\", max_depth.....)"
      ],
      "execution_count": null,
      "outputs": []
    },
    {
      "cell_type": "code",
      "metadata": {
        "id": "Ap4ZcVFm7zyD"
      },
      "source": [
        "# The random forest model by itself\n",
        "from sklearn.metrics import roc_curve\n",
        "y_pred_grd_rfcat = rf.predict_proba(testdata)[:, 1]\n",
        "\n",
        "fpr_rf, tpr_rf, _ = roc_curve(test_label.values.flatten()==\"s\", rf.predict(y_pred_grd_rfcat))\n",
        "\n",
        "plt.figure(1)\n",
        "plt.plot([0, 1], [0, 1], 'k--')\n",
        "plt.plot(fpr_rf, tpr_rf, label='RF')\n",
        "plt.xlabel('False positive rate')\n",
        "plt.ylabel('True positive rate')\n",
        "plt.title('ROC curve')\n",
        "plt.legend(loc='best')\n",
        "plt.show()\n"
      ],
      "execution_count": null,
      "outputs": []
    },
    {
      "cell_type": "code",
      "metadata": {
        "id": "0jiROnM7-E0n"
      },
      "source": [],
      "execution_count": null,
      "outputs": []
    }
  ]
}
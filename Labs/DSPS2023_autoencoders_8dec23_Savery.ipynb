{
  "nbformat": 4,
  "nbformat_minor": 0,
  "metadata": {
    "colab": {
      "provenance": [],
      "gpuType": "T4",
      "include_colab_link": true
    },
    "kernelspec": {
      "name": "python3",
      "display_name": "Python 3"
    },
    "language_info": {
      "name": "python"
    },
    "accelerator": "GPU"
  },
  "cells": [
    {
      "cell_type": "markdown",
      "metadata": {
        "id": "view-in-github",
        "colab_type": "text"
      },
      "source": [
        "<a href=\"https://colab.research.google.com/github/szsavery/DSPS_SSavery/blob/main/Labs/DSPS2023_autoencoders_8dec23_Savery.ipynb\" target=\"_parent\"><img src=\"https://colab.research.google.com/assets/colab-badge.svg\" alt=\"Open In Colab\"/></a>"
      ]
    },
    {
      "cell_type": "code",
      "execution_count": 1,
      "metadata": {
        "id": "RuoNYW1mOwbm",
        "colab": {
          "base_uri": "https://localhost:8080/"
        },
        "outputId": "db2c8c62-e8b3-4d13-9b86-639823be6847"
      },
      "outputs": [
        {
          "output_type": "stream",
          "name": "stdout",
          "text": [
            "Collecting icecream\n",
            "  Downloading icecream-2.1.3-py2.py3-none-any.whl (8.4 kB)\n",
            "Collecting colorama>=0.3.9 (from icecream)\n",
            "  Downloading colorama-0.4.6-py2.py3-none-any.whl (25 kB)\n",
            "Requirement already satisfied: pygments>=2.2.0 in /usr/local/lib/python3.10/dist-packages (from icecream) (2.16.1)\n",
            "Collecting executing>=0.3.1 (from icecream)\n",
            "  Downloading executing-2.0.1-py2.py3-none-any.whl (24 kB)\n",
            "Collecting asttokens>=2.0.1 (from icecream)\n",
            "  Downloading asttokens-2.4.1-py2.py3-none-any.whl (27 kB)\n",
            "Requirement already satisfied: six>=1.12.0 in /usr/local/lib/python3.10/dist-packages (from asttokens>=2.0.1->icecream) (1.16.0)\n",
            "Installing collected packages: executing, colorama, asttokens, icecream\n",
            "Successfully installed asttokens-2.4.1 colorama-0.4.6 executing-2.0.1 icecream-2.1.3\n"
          ]
        }
      ],
      "source": [
        "from copy import deepcopy\n",
        "\n",
        "import numpy as np\n",
        "import pandas as pd\n",
        "from matplotlib import pyplot as plt\n",
        "from scipy import stats\n",
        "from scipy.signal import convolve2d\n",
        "\n",
        "from tensorflow import keras\n",
        "from keras.datasets import mnist\n",
        "from keras import layers\n",
        "\n",
        "!pip install icecream\n",
        "from icecream import ic\n",
        "\n",
        "rng = np.random.RandomState(1415)"
      ]
    },
    {
      "cell_type": "markdown",
      "source": [
        "# Load MNIST data"
      ],
      "metadata": {
        "id": "_oo3vtrPR_3c"
      }
    },
    {
      "cell_type": "code",
      "source": [
        "# Load the data and split it between train and test sets\n",
        "(Xtrn, Ytrn), (Xtst, Ytst) = mnist.load_data()"
      ],
      "metadata": {
        "id": "dpyQjiCNPqc_",
        "colab": {
          "base_uri": "https://localhost:8080/"
        },
        "outputId": "46bb55ce-e55d-4d3c-fdc7-05607efcb400"
      },
      "execution_count": 2,
      "outputs": [
        {
          "output_type": "stream",
          "name": "stdout",
          "text": [
            "Downloading data from https://storage.googleapis.com/tensorflow/tf-keras-datasets/mnist.npz\n",
            "11490434/11490434 [==============================] - 0s 0us/step\n"
          ]
        }
      ]
    },
    {
      "cell_type": "markdown",
      "source": [
        "# Visualize dataset"
      ],
      "metadata": {
        "id": "fH-viokjSBY2"
      }
    },
    {
      "cell_type": "code",
      "source": [
        "Xtrn.shape, Xtst.shape, Ytrn.shape, Ytst.shape"
      ],
      "metadata": {
        "id": "80PJ4mgLQBC4",
        "colab": {
          "base_uri": "https://localhost:8080/"
        },
        "outputId": "7c9f55eb-d3a1-48dd-a9be-1690a8adc43b"
      },
      "execution_count": 4,
      "outputs": [
        {
          "output_type": "execute_result",
          "data": {
            "text/plain": [
              "((60000, 28, 28), (10000, 28, 28), (60000,), (10000,))"
            ]
          },
          "metadata": {},
          "execution_count": 4
        }
      ]
    },
    {
      "cell_type": "code",
      "source": [
        "np.unique(Ytrn)"
      ],
      "metadata": {
        "colab": {
          "base_uri": "https://localhost:8080/"
        },
        "id": "1gzQaMXOFGZz",
        "outputId": "38e577d7-47da-47a1-a54f-6fc3a71f7992"
      },
      "execution_count": 5,
      "outputs": [
        {
          "output_type": "execute_result",
          "data": {
            "text/plain": [
              "array([0, 1, 2, 3, 4, 5, 6, 7, 8, 9], dtype=uint8)"
            ]
          },
          "metadata": {},
          "execution_count": 5
        }
      ]
    },
    {
      "cell_type": "code",
      "source": [
        "def plot_images(images, labels, nrows = 5, ncols = 5, vmin = 0, vmax = 255):\n",
        "  fig, axes = plt.subplots(nrows, ncols, sharex = True, sharey = True, figsize = (8,8))\n",
        "\n",
        "  for i in range(nrows*ncols):\n",
        "    ax = axes.flatten()[i]\n",
        "    image = images[i]\n",
        "    label = labels[i]\n",
        "\n",
        "    ax.set_title(label)\n",
        "    ax.imshow(image, vmin = vmin, vmax = vmax, cmap = 'Greys')\n",
        "    ax.set_aspect('equal')\n",
        "    ax.axis('off')\n",
        "\n",
        "  fig.tight_layout()\n",
        "  fig.show()"
      ],
      "metadata": {
        "id": "1W2r_yVxFUU6"
      },
      "execution_count": 8,
      "outputs": []
    },
    {
      "cell_type": "code",
      "source": [
        "plot_images(Xtrn, Ytrn)"
      ],
      "metadata": {
        "colab": {
          "base_uri": "https://localhost:8080/",
          "height": 806
        },
        "id": "IiMBHaXUGYwq",
        "outputId": "76b4b994-590e-4425-f711-14a74a13c348"
      },
      "execution_count": 9,
      "outputs": [
        {
          "output_type": "display_data",
          "data": {
            "text/plain": [
              "<Figure size 800x800 with 25 Axes>"
            ],
            "image/png": "[encoded data removed]"
          },
          "metadata": {}
        }
      ]
    },
    {
      "cell_type": "markdown",
      "source": [
        "# Normalize the images"
      ],
      "metadata": {
        "id": "H_KmtM6oSFKv"
      }
    },
    {
      "cell_type": "code",
      "source": [
        "def normalize_255(array):\n",
        "  normed_array = array / 255\n",
        "  return normed_array\n",
        "\n",
        "\n",
        "XtrnN = normalize_255(Xtrn)\n",
        "XtstN = normalize_255(Xtst)"
      ],
      "metadata": {
        "id": "AgjOHLXyQZHX"
      },
      "execution_count": 10,
      "outputs": []
    },
    {
      "cell_type": "code",
      "source": [
        "XtrnN.max(), XtstN.max()"
      ],
      "metadata": {
        "colab": {
          "base_uri": "https://localhost:8080/"
        },
        "id": "5d_BpjO1G6ft",
        "outputId": "70ddc8b9-13c7-4bf1-cfed-e803b97b7336"
      },
      "execution_count": 11,
      "outputs": [
        {
          "output_type": "execute_result",
          "data": {
            "text/plain": [
              "(1.0, 1.0)"
            ]
          },
          "metadata": {},
          "execution_count": 11
        }
      ]
    },
    {
      "cell_type": "markdown",
      "source": [
        "# Reshape the arrays for Keras"
      ],
      "metadata": {
        "id": "QH1ZOFAcSIX2"
      }
    },
    {
      "cell_type": "code",
      "source": [
        "def reshape_for_keras(array):\n",
        "  reshaped_array = array[..., None]\n",
        "  return reshaped_array"
      ],
      "metadata": {
        "id": "kb2VmJ0TREBY"
      },
      "execution_count": 12,
      "outputs": []
    },
    {
      "cell_type": "code",
      "source": [
        "XtrnNR = reshape_for_keras(XtrnN)\n",
        "XtstNR = reshape_for_keras(XtstN)"
      ],
      "metadata": {
        "id": "ORZjRKuSHMPo"
      },
      "execution_count": 13,
      "outputs": []
    },
    {
      "cell_type": "code",
      "source": [
        "XtrnNR.shape"
      ],
      "metadata": {
        "colab": {
          "base_uri": "https://localhost:8080/"
        },
        "id": "pfVrE1IBHZee",
        "outputId": "2c9ba093-d756-48ff-9159-e425e93bb224"
      },
      "execution_count": 14,
      "outputs": [
        {
          "output_type": "execute_result",
          "data": {
            "text/plain": [
              "(60000, 28, 28, 1)"
            ]
          },
          "metadata": {},
          "execution_count": 14
        }
      ]
    },
    {
      "cell_type": "markdown",
      "source": [
        "# But wait we don't need the image labels...\n",
        "\n",
        "### The training set will be the images at half resolution, and the model will try to up-sample the images to the original resolution... `Xtrn` should be the same 60,000 images at half resolution, but `Ytrn` should be those same images at the original resolution. We will do the same operations for the testing set."
      ],
      "metadata": {
        "id": "_S-EMSNOSNLu"
      }
    },
    {
      "cell_type": "markdown",
      "source": [
        "# Construct dataset for superresolution, not image classification"
      ],
      "metadata": {
        "id": "SQL_p2chUiaj"
      }
    },
    {
      "cell_type": "code",
      "source": [
        "def superresolution(X):\n",
        "  Xnew = deepcopy(X)[:, ::2, ::2,:]\n",
        "  Ynew = deepcopy(X)\n",
        "\n",
        "  return Xnew, Ynew\n",
        "\n",
        "\n",
        "XtrnSR, YtrnSR = superresolution(XtrnNR)\n",
        "XtstSR, YtstSR = superresolution(XtstNR)"
      ],
      "metadata": {
        "id": "rBk9ZWqPSSoz"
      },
      "execution_count": 15,
      "outputs": []
    },
    {
      "cell_type": "code",
      "source": [
        "XtrnSR.shape, YtrnSR.shape"
      ],
      "metadata": {
        "colab": {
          "base_uri": "https://localhost:8080/"
        },
        "id": "vNRxwDwuIZbM",
        "outputId": "63ed7bf1-ec03-46c0-b912-476915fb1c95"
      },
      "execution_count": 17,
      "outputs": [
        {
          "output_type": "execute_result",
          "data": {
            "text/plain": [
              "((60000, 14, 14, 1), (60000, 28, 28, 1))"
            ]
          },
          "metadata": {},
          "execution_count": 17
        }
      ]
    },
    {
      "cell_type": "markdown",
      "source": [
        "# Visualize the new dataset"
      ],
      "metadata": {
        "id": "OuAwvxvmUn3_"
      }
    },
    {
      "cell_type": "code",
      "source": [
        "plot_images(XtrnSR[:,:,:,0], Ytrn, vmax = 1)"
      ],
      "metadata": {
        "id": "XZYF2GJHTllR",
        "colab": {
          "base_uri": "https://localhost:8080/",
          "height": 806
        },
        "outputId": "e06204e1-63cb-4590-fca6-111a152df5a7"
      },
      "execution_count": 20,
      "outputs": [
        {
          "output_type": "display_data",
          "data": {
            "text/plain": [
              "<Figure size 800x800 with 25 Axes>"
            ],
            "image/png": "[encoded data removed]"
          },
          "metadata": {}
        }
      ]
    },
    {
      "cell_type": "markdown",
      "source": [
        "# Build the CNN autoencoder"
      ],
      "metadata": {
        "id": "TfehgOBqdDRw"
      }
    },
    {
      "cell_type": "code",
      "source": [
        "def build_cnn_autoencoder(input_shape):\n",
        "\n",
        "  inputs = layers.Input(shape = input_shape)\n",
        "  #The encoder\n",
        "  x = layers.Conv2D(16, kernel_size= (3,3), padding = 'same', activation = 'relu')(inputs)\n",
        "  x = layers.Conv2D(8, kernel_size= (3,3), padding = 'same', activation = 'relu')(x)\n",
        "  x = layers.Conv2D(4, kernel_size= (3,3), padding = 'same', activation = 'relu')(x)\n",
        "  x = layers.MaxPooling2D(pool_size= (2,2))(x)\n",
        "\n",
        "  shape = x.shape\n",
        "  num_neurons = shape[1]*shape[2]*shape[3]\n",
        "\n",
        "  #latent shape\n",
        "  x = layers.Flatten()(x)\n",
        "  LS = layers.Dense(16,activation='relu')(x)\n",
        "  x = layers.Dense(num_neurons, activation='relu')(LS)\n",
        "  x = layers.Reshape(shape[1:])(x)\n",
        "\n",
        "  #The decoder\n",
        "  x = layers.Conv2DTranspose(4, kernel_size= (3,3), padding = 'same', activation= 'relu')(x)\n",
        "  x = layers.Conv2DTranspose(8, kernel_size= (3,3), padding = 'same', activation= 'relu')(x)\n",
        "  x = layers.Conv2DTranspose(16, kernel_size= (3,3), padding = 'same', activation= 'relu')(x)\n",
        "  x = layers.UpSampling2D(size = (2,2))(x)\n",
        "\n",
        "  x = layers.Conv2DTranspose(16, kernel_size= (3,3), padding = 'same', activation= 'relu')(x)\n",
        "  x = layers.Conv2DTranspose(16, kernel_size= (3,3), padding = 'same', activation= 'relu')(x)\n",
        "  x = layers.Conv2DTranspose(16, kernel_size= (3,3), padding = 'same', activation= 'relu')(x)\n",
        "  x = layers.UpSampling2D(size = (2,2))(x)\n",
        "\n",
        "  x = layers.Conv2DTranspose(16, kernel_size= (3,3), padding = 'same', activation= 'sigmoid')(x)\n",
        "  x = layers.Conv2DTranspose(16, kernel_size= (3,3), padding = 'same', activation= 'sigmoid')(x)\n",
        "  outputs = layers.Conv2DTranspose(1, kernel_size= (3,3), padding = 'same', activation= 'sigmoid')(x)\n",
        "\n",
        "  model = keras.Model(inputs, outputs)\n",
        "\n",
        "  encoder = keras.Model(inputs, LS)\n",
        "  decoder = keras.Model(LS, outputs)\n",
        "\n",
        "  return model, encoder, decoder\n",
        "\n",
        "input_shape = XtrnSR.shape[1:]\n",
        "model, encoder, decoder = build_cnn_autoencoder(input_shape)\n",
        "model.summary()\n"
      ],
      "metadata": {
        "id": "5eIGf4EVRZBJ",
        "colab": {
          "base_uri": "https://localhost:8080/"
        },
        "outputId": "21a74556-4951-414e-d09d-2c376a72ba99"
      },
      "execution_count": 22,
      "outputs": [
        {
          "output_type": "stream",
          "name": "stdout",
          "text": [
            "Model: \"model_3\"\n",
            "_________________________________________________________________\n",
            " Layer (type)                Output Shape              Param #   \n",
            "=================================================================\n",
            " input_3 (InputLayer)        [(None, 14, 14, 1)]       0         \n",
            "                                                                 \n",
            " conv2d_3 (Conv2D)           (None, 14, 14, 16)        160       \n",
            "                                                                 \n",
            " conv2d_4 (Conv2D)           (None, 14, 14, 8)         1160      \n",
            "                                                                 \n",
            " conv2d_5 (Conv2D)           (None, 14, 14, 4)         292       \n",
            "                                                                 \n",
            " max_pooling2d_1 (MaxPoolin  (None, 7, 7, 4)           0         \n",
            " g2D)                                                            \n",
            "                                                                 \n",
            " flatten_1 (Flatten)         (None, 196)               0         \n",
            "                                                                 \n",
            " dense_2 (Dense)             (None, 16)                3152      \n",
            "                                                                 \n",
            " dense_3 (Dense)             (None, 196)               3332      \n",
            "                                                                 \n",
            " reshape_1 (Reshape)         (None, 7, 7, 4)           0         \n",
            "                                                                 \n",
            " conv2d_transpose_9 (Conv2D  (None, 7, 7, 4)           148       \n",
            " Transpose)                                                      \n",
            "                                                                 \n",
            " conv2d_transpose_10 (Conv2  (None, 7, 7, 8)           296       \n",
            " DTranspose)                                                     \n",
            "                                                                 \n",
            " conv2d_transpose_11 (Conv2  (None, 7, 7, 16)          1168      \n",
            " DTranspose)                                                     \n",
            "                                                                 \n",
            " up_sampling2d_2 (UpSamplin  (None, 14, 14, 16)        0         \n",
            " g2D)                                                            \n",
            "                                                                 \n",
            " conv2d_transpose_12 (Conv2  (None, 14, 14, 16)        2320      \n",
            " DTranspose)                                                     \n",
            "                                                                 \n",
            " conv2d_transpose_13 (Conv2  (None, 14, 14, 16)        2320      \n",
            " DTranspose)                                                     \n",
            "                                                                 \n",
            " conv2d_transpose_14 (Conv2  (None, 14, 14, 16)        2320      \n",
            " DTranspose)                                                     \n",
            "                                                                 \n",
            " up_sampling2d_3 (UpSamplin  (None, 28, 28, 16)        0         \n",
            " g2D)                                                            \n",
            "                                                                 \n",
            " conv2d_transpose_15 (Conv2  (None, 28, 28, 16)        2320      \n",
            " DTranspose)                                                     \n",
            "                                                                 \n",
            " conv2d_transpose_16 (Conv2  (None, 28, 28, 16)        2320      \n",
            " DTranspose)                                                     \n",
            "                                                                 \n",
            " conv2d_transpose_17 (Conv2  (None, 28, 28, 1)         145       \n",
            " DTranspose)                                                     \n",
            "                                                                 \n",
            "=================================================================\n",
            "Total params: 21453 (83.80 KB)\n",
            "Trainable params: 21453 (83.80 KB)\n",
            "Non-trainable params: 0 (0.00 Byte)\n",
            "_________________________________________________________________\n"
          ]
        }
      ]
    },
    {
      "cell_type": "markdown",
      "source": [
        "# Train the model (use a GPU)"
      ],
      "metadata": {
        "id": "e9dOm3UVdFbF"
      }
    },
    {
      "cell_type": "code",
      "source": [
        "model.compile(loss = 'mse', optimizer= 'adam')\n",
        "history = model.fit(XtrnSR, YtrnSR, batch_size = 256, epochs = 15, validation_split= 0.1)"
      ],
      "metadata": {
        "id": "NTgClN6JWu3G",
        "colab": {
          "base_uri": "https://localhost:8080/"
        },
        "outputId": "0bca8e79-2048-4132-f317-3152a354aa4f"
      },
      "execution_count": 23,
      "outputs": [
        {
          "output_type": "stream",
          "name": "stdout",
          "text": [
            "Epoch 1/15\n",
            "211/211 [==============================] - 19s 17ms/step - loss: 0.0837 - val_loss: 0.0524\n",
            "Epoch 2/15\n",
            "211/211 [==============================] - 3s 14ms/step - loss: 0.0453 - val_loss: 0.0380\n",
            "Epoch 3/15\n",
            "211/211 [==============================] - 3s 12ms/step - loss: 0.0329 - val_loss: 0.0288\n",
            "Epoch 4/15\n",
            "211/211 [==============================] - 3s 14ms/step - loss: 0.0273 - val_loss: 0.0260\n",
            "Epoch 5/15\n",
            "211/211 [==============================] - 3s 14ms/step - loss: 0.0248 - val_loss: 0.0239\n",
            "Epoch 6/15\n",
            "211/211 [==============================] - 3s 14ms/step - loss: 0.0234 - val_loss: 0.0229\n",
            "Epoch 7/15\n",
            "211/211 [==============================] - 3s 13ms/step - loss: 0.0224 - val_loss: 0.0219\n",
            "Epoch 8/15\n",
            "211/211 [==============================] - 3s 13ms/step - loss: 0.0215 - val_loss: 0.0209\n",
            "Epoch 9/15\n",
            "211/211 [==============================] - 3s 14ms/step - loss: 0.0210 - val_loss: 0.0205\n",
            "Epoch 10/15\n",
            "211/211 [==============================] - 3s 13ms/step - loss: 0.0204 - val_loss: 0.0199\n",
            "Epoch 11/15\n",
            "211/211 [==============================] - 3s 13ms/step - loss: 0.0199 - val_loss: 0.0198\n",
            "Epoch 12/15\n",
            "211/211 [==============================] - 3s 13ms/step - loss: 0.0195 - val_loss: 0.0193\n",
            "Epoch 13/15\n",
            "211/211 [==============================] - 3s 13ms/step - loss: 0.0192 - val_loss: 0.0192\n",
            "Epoch 14/15\n",
            "211/211 [==============================] - 3s 14ms/step - loss: 0.0189 - val_loss: 0.0184\n",
            "Epoch 15/15\n",
            "211/211 [==============================] - 3s 13ms/step - loss: 0.0185 - val_loss: 0.0183\n"
          ]
        }
      ]
    },
    {
      "cell_type": "markdown",
      "source": [
        "# Visualize the predictions"
      ],
      "metadata": {
        "id": "1YvnvNBhdIMW"
      }
    },
    {
      "cell_type": "code",
      "source": [
        "PtstSR = model.predict(XtstSR)\n",
        "PtstSR.shape"
      ],
      "metadata": {
        "id": "zIEoOmPiZ_Sg",
        "colab": {
          "base_uri": "https://localhost:8080/"
        },
        "outputId": "93da63f2-d03d-44a2-adf5-2f7447600c0f"
      },
      "execution_count": 24,
      "outputs": [
        {
          "output_type": "stream",
          "name": "stdout",
          "text": [
            "313/313 [==============================] - 1s 3ms/step\n"
          ]
        },
        {
          "output_type": "execute_result",
          "data": {
            "text/plain": [
              "(10000, 28, 28, 1)"
            ]
          },
          "metadata": {},
          "execution_count": 24
        }
      ]
    },
    {
      "cell_type": "code",
      "source": [
        "plot_images(XtstSR[:,:,:,0], Ytst, nrows = 1, ncols = 8, vmax = 1)"
      ],
      "metadata": {
        "id": "73a4iYicbVP0",
        "colab": {
          "base_uri": "https://localhost:8080/",
          "height": 142
        },
        "outputId": "81c3d84d-54c6-4c20-9310-2474187f81d8"
      },
      "execution_count": 26,
      "outputs": [
        {
          "output_type": "display_data",
          "data": {
            "text/plain": [
              "<Figure size 800x800 with 8 Axes>"
            ],
            "image/png": "[encoded data removed]"
          },
          "metadata": {}
        }
      ]
    },
    {
      "cell_type": "code",
      "source": [
        "plot_images(YtstSR[:,:,:,0], Ytst, nrows = 1, ncols = 8, vmax = 1)"
      ],
      "metadata": {
        "colab": {
          "base_uri": "https://localhost:8080/",
          "height": 142
        },
        "id": "TjJ2z4v5PyZf",
        "outputId": "69d031da-5e02-47ad-f83b-793305a7a848"
      },
      "execution_count": 28,
      "outputs": [
        {
          "output_type": "display_data",
          "data": {
            "text/plain": [
              "<Figure size 800x800 with 8 Axes>"
            ],
            "image/png": "[encoded data removed]"
          },
          "metadata": {}
        }
      ]
    },
    {
      "cell_type": "code",
      "source": [
        "plot_images(PtstSR[:,:,:,0], Ytst, nrows = 1, ncols = 8, vmax = 1)"
      ],
      "metadata": {
        "id": "jjq6VYGeaoqN",
        "colab": {
          "base_uri": "https://localhost:8080/",
          "height": 142
        },
        "outputId": "8ae1c6df-cc71-454e-9d20-d64cdcdd4be6"
      },
      "execution_count": 27,
      "outputs": [
        {
          "output_type": "display_data",
          "data": {
            "text/plain": [
              "<Figure size 800x800 with 8 Axes>"
            ],
            "image/png": "[encoded data removed]"
          },
          "metadata": {}
        }
      ]
    },
    {
      "cell_type": "markdown",
      "source": [
        "# Visualize loss curve"
      ],
      "metadata": {
        "id": "jCtssCsCghLu"
      }
    },
    {
      "cell_type": "code",
      "source": [],
      "metadata": {
        "id": "7sgzfBxPa3fV"
      },
      "execution_count": null,
      "outputs": []
    },
    {
      "cell_type": "markdown",
      "source": [
        "# Visualize the early layers"
      ],
      "metadata": {
        "id": "PWOoDXjOl4JM"
      }
    },
    {
      "cell_type": "code",
      "source": [
        "model.layers[1].get_weights()[0].shape"
      ],
      "metadata": {
        "id": "W8OSOKV4ogFz",
        "colab": {
          "base_uri": "https://localhost:8080/"
        },
        "outputId": "8f62df8b-51e1-4236-eed4-c40977c30c9e"
      },
      "execution_count": 32,
      "outputs": [
        {
          "output_type": "execute_result",
          "data": {
            "text/plain": [
              "(3, 3, 1, 16)"
            ]
          },
          "metadata": {},
          "execution_count": 32
        }
      ]
    },
    {
      "cell_type": "code",
      "source": [],
      "metadata": {
        "id": "rJAOYKB2QVqm"
      },
      "execution_count": null,
      "outputs": []
    },
    {
      "cell_type": "markdown",
      "source": [
        "# Visualize the latent space with the encoder and decoder on their own"
      ],
      "metadata": {
        "id": "yBA74IWmdeXO"
      }
    },
    {
      "cell_type": "code",
      "source": [
        "encoder.summary()"
      ],
      "metadata": {
        "id": "llfM7QbAbOns",
        "colab": {
          "base_uri": "https://localhost:8080/"
        },
        "outputId": "bedc35f1-db9f-4b13-aaa8-01f3bf160af6"
      },
      "execution_count": 33,
      "outputs": [
        {
          "output_type": "stream",
          "name": "stdout",
          "text": [
            "Model: \"model_4\"\n",
            "_________________________________________________________________\n",
            " Layer (type)                Output Shape              Param #   \n",
            "=================================================================\n",
            " input_3 (InputLayer)        [(None, 14, 14, 1)]       0         \n",
            "                                                                 \n",
            " conv2d_3 (Conv2D)           (None, 14, 14, 16)        160       \n",
            "                                                                 \n",
            " conv2d_4 (Conv2D)           (None, 14, 14, 8)         1160      \n",
            "                                                                 \n",
            " conv2d_5 (Conv2D)           (None, 14, 14, 4)         292       \n",
            "                                                                 \n",
            " max_pooling2d_1 (MaxPoolin  (None, 7, 7, 4)           0         \n",
            " g2D)                                                            \n",
            "                                                                 \n",
            " flatten_1 (Flatten)         (None, 196)               0         \n",
            "                                                                 \n",
            " dense_2 (Dense)             (None, 16)                3152      \n",
            "                                                                 \n",
            "=================================================================\n",
            "Total params: 4764 (18.61 KB)\n",
            "Trainable params: 4764 (18.61 KB)\n",
            "Non-trainable params: 0 (0.00 Byte)\n",
            "_________________________________________________________________\n"
          ]
        }
      ]
    },
    {
      "cell_type": "code",
      "source": [
        "LS = encoder.predict(XtstSR)\n",
        "ic(LS.shape)\n",
        "\n",
        "LS_images = LS.reshape((10_000,4,4))"
      ],
      "metadata": {
        "id": "ltZGX-Jgd96g",
        "colab": {
          "base_uri": "https://localhost:8080/"
        },
        "outputId": "fda26ad7-0f94-4c5c-8f0a-6ac4508ee5a4"
      },
      "execution_count": 34,
      "outputs": [
        {
          "output_type": "stream",
          "name": "stdout",
          "text": [
            "313/313 [==============================] - 1s 2ms/step\n"
          ]
        },
        {
          "output_type": "stream",
          "name": "stderr",
          "text": [
            "ic| LS.shape: (10000, 16)\n"
          ]
        }
      ]
    },
    {
      "cell_type": "code",
      "source": [
        "output = decoder.predict(LS)"
      ],
      "metadata": {
        "id": "jlU5stuJeED1"
      },
      "execution_count": null,
      "outputs": []
    },
    {
      "cell_type": "markdown",
      "source": [
        "# Find the average latent space representation for each digit"
      ],
      "metadata": {
        "id": "7Th9g_8xsIRA"
      }
    },
    {
      "cell_type": "markdown",
      "source": [
        "# Decode latent space representations with the decoder"
      ],
      "metadata": {
        "id": "OyXR1YJ9sL0W"
      }
    },
    {
      "cell_type": "code",
      "source": [],
      "metadata": {
        "id": "m13lhu0SdxJ8"
      },
      "execution_count": null,
      "outputs": []
    },
    {
      "cell_type": "code",
      "source": [],
      "metadata": {
        "id": "_kFN0xDQfo9k"
      },
      "execution_count": null,
      "outputs": []
    },
    {
      "cell_type": "code",
      "source": [],
      "metadata": {
        "id": "zUyI6MJkftue"
      },
      "execution_count": null,
      "outputs": []
    },
    {
      "cell_type": "markdown",
      "source": [
        "# What if we input something in the latent space by hand and then decode it?"
      ],
      "metadata": {
        "id": "38mBopGng7PY"
      }
    },
    {
      "cell_type": "code",
      "source": [],
      "metadata": {
        "id": "MVp5P3UFinnT"
      },
      "execution_count": null,
      "outputs": []
    },
    {
      "cell_type": "code",
      "source": [],
      "metadata": {
        "id": "l5arjDQ0hlAE"
      },
      "execution_count": null,
      "outputs": []
    },
    {
      "cell_type": "code",
      "source": [],
      "metadata": {
        "id": "kEGBOQjKhzSs"
      },
      "execution_count": null,
      "outputs": []
    }
  ]
}